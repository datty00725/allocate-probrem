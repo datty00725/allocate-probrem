{
 "cells": [
  {
   "cell_type": "code",
   "execution_count": 11,
   "metadata": {},
   "outputs": [],
   "source": [
    "%run ./CFLP_Cplex.ipynb"
   ]
  },
  {
   "cell_type": "code",
   "execution_count": 12,
   "metadata": {},
   "outputs": [],
   "source": [
    "# 需要点と施設候補の座標データ\n",
    "# demand_points = [(1, 1), (2, 2), (3, 3), (4, 4), (5, 5)]\n",
    "# candidate_sites = [(10, 10), (20, 20), (30, 30), (40, 40), (50, 50)]\n",
    "\n",
    "demand_points = [\n",
    "    (2, 22), (42, 6), (48, 50), (32, 40), (16, 10),\n",
    "]\n",
    "candidate_sites = [\n",
    "    (10, 13), (47, 16), (30, 44), (28, 47), (6, 1),\n",
    "]\n",
    "\n",
    "\n",
    "J = len(candidate_sites)  # 施設候補の数\n",
    "D = len(demand_points)  # 需要点の数\n",
    "alpha = 0\n",
    "beta = 0.1\n",
    "\n",
    "p = 2\n",
    "r = 2\n",
    "\n",
    "h_i = np.full(D, 1 / D)\n",
    "\n",
    "# 既存のリーダーの施設セット J_L を仮定\n",
    "J_L = {}  # インデックスとして候補施設の一部を選択\n",
    "J_F = {}\n"
   ]
  },
  {
   "cell_type": "code",
   "execution_count": 13,
   "metadata": {},
   "outputs": [],
   "source": [
    "distances = compute_distances(demand_points, candidate_sites)\n",
    "\n",
    "# w_ij の計算\n",
    "wij_matrix = compute_wij_matrix(distances, alpha, beta)\n",
    "\n",
    "\n",
    "# U_i^L の計算\n",
    "Ui_L = compute_Ui_L(wij_matrix, J_L)\n",
    "\n",
    "# U_i^F の計算\n",
    "Ui_F = compute_Ui_F(wij_matrix, J_F)"
   ]
  },
  {
   "cell_type": "code",
   "execution_count": 14,
   "metadata": {},
   "outputs": [],
   "source": [
    "# グローバル変数を定義\n",
    "F = []  # 問題のセット\n",
    "BestSol = None  # 最良解\n",
    "theta_LB = 0  # 下限値\n",
    "\n",
    "# 追加されたカット制約を記録するセット\n",
    "existing_cuts = set()"
   ]
  }
 ],
 "metadata": {
  "kernelspec": {
   "display_name": "base",
   "language": "python",
   "name": "python3"
  },
  "language_info": {
   "codemirror_mode": {
    "name": "ipython",
    "version": 3
   },
   "file_extension": ".py",
   "mimetype": "text/x-python",
   "name": "python",
   "nbconvert_exporter": "python",
   "pygments_lexer": "ipython3",
   "version": "3.8.20"
  }
 },
 "nbformat": 4,
 "nbformat_minor": 2
}
