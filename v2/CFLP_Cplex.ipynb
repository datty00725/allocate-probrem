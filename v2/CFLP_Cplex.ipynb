{
 "cells": [
  {
   "cell_type": "code",
   "execution_count": 1,
   "metadata": {},
   "outputs": [],
   "source": [
    "import numpy as np\n",
    "from docplex.mp.model import Model\n",
    "\n",
    "# from docplex.mp.callbacks.cb_mixin import ConstraintCallbackMixin\n",
    "# from docplex.mp.callbacks.cb_mixin import LazyConstraintCallback\n",
    "import matplotlib.pyplot as plt"
   ]
  },
  {
   "cell_type": "code",
   "execution_count": 2,
   "metadata": {},
   "outputs": [],
   "source": [
    "import cplex\n",
    "from cplex.callbacks import UserCutCallback, LazyConstraintCallback"
   ]
  },
  {
   "cell_type": "code",
   "execution_count": 3,
   "metadata": {},
   "outputs": [],
   "source": [
    "# 需要点と施設候補の座標データ\n",
    "demand_points = [\n",
    "    (2, 22),\n",
    "    (42, 6),\n",
    "    (48, 50),\n",
    "    (32, 40),\n",
    "    (16, 10),\n",
    "    (10, 34),\n",
    "    (8, 30),\n",
    "    (29, 16),\n",
    "    (44, 34),\n",
    "    (3, 16),\n",
    "]\n",
    "candidate_sites = [\n",
    "    (36, 32),\n",
    "    (38, 32),\n",
    "    (44, 11),\n",
    "    (26, 50),\n",
    "    (22, 28),\n",
    "    (32, 46),\n",
    "    (20, 37),\n",
    "    (35, 26),\n",
    "    (2, 4),\n",
    "    (18, 1),\n",
    "]"
   ]
  },
  {
   "cell_type": "code",
   "execution_count": 4,
   "metadata": {},
   "outputs": [],
   "source": [
    "J = len(candidate_sites)  # 施設候補の数\n",
    "D = len(demand_points)  # 需要点の数\n",
    "alpha = 0\n",
    "beta = 0.1"
   ]
  },
  {
   "cell_type": "code",
   "execution_count": 5,
   "metadata": {},
   "outputs": [],
   "source": [
    "h_i = np.full(D, 1 / D)"
   ]
  },
  {
   "cell_type": "code",
   "execution_count": 6,
   "metadata": {},
   "outputs": [],
   "source": [
    "# 既存のリーダーの施設セット J_L を仮定\n",
    "J_L = {0, 2}  # インデックスとして候補施設の一部を選択\n",
    "J_F = {1}"
   ]
  },
  {
   "cell_type": "code",
   "execution_count": 7,
   "metadata": {},
   "outputs": [],
   "source": [
    "# ユークリッド距離の計算\n",
    "def compute_distances(demand_points, candidate_sites):\n",
    "    distances = np.zeros((D, J))\n",
    "    for d in range(D):\n",
    "        for j in range(J):\n",
    "            distances[d][j] = np.sqrt(\n",
    "                (demand_points[d][0] - candidate_sites[j][0]) ** 2\n",
    "                + (demand_points[d][1] - candidate_sites[j][1]) ** 2\n",
    "            )\n",
    "    return distances\n",
    "\n",
    "\n",
    "distances = compute_distances(demand_points, candidate_sites)"
   ]
  },
  {
   "cell_type": "code",
   "execution_count": 8,
   "metadata": {},
   "outputs": [],
   "source": [
    "# w_ij の計算\n",
    "wij_matrix = np.exp(alpha - beta * distances)"
   ]
  },
  {
   "cell_type": "code",
   "execution_count": null,
   "metadata": {},
   "outputs": [
    {
     "name": "stdout",
     "output_type": "stream",
     "text": [
      "Ui_L: [0.04191217 0.65298119 0.13477363 0.45219075 0.1118403  0.09019735\n",
      " 0.07744449 0.38013697 0.5386599  0.04161902]\n",
      "Ui_F: [0.02384196 0.072036   0.12756541 0.36787944 0.04454436 0.0603778\n",
      " 0.04945662 0.15949288 0.53128561 0.02131432]\n"
     ]
    }
   ],
   "source": [
    "def compute_Ui_L(wij_matrix, J_L):\n",
    "    \"\"\"\n",
    "    リーダーの既存施設による U_i^L を計算する関数\n",
    "\n",
    "    Parameters:\n",
    "        wij_matrix (np.array): D × J の w_ij の重み行列\n",
    "        J_L (set): リーダーが既に持っている施設のインデックス集合\n",
    "\n",
    "    Returns:\n",
    "        np.array: 各需要点 i に対する U_i^L のベクトル\n",
    "    \"\"\"\n",
    "    return wij_matrix[:, list(J_L)].sum(axis=1)\n",
    "\n",
    "\n",
    "def compute_Ui_F(wij_matrix, J_F):\n",
    "    \"\"\"\n",
    "    リーダーの既存施設による U_i^L を計算する関数\n",
    "\n",
    "    Parameters:\n",
    "        wij_matrix (np.array): D × J の w_ij の重み行列\n",
    "        J_L (set): リーダーが既に持っている施設のインデックス集合\n",
    "\n",
    "    Returns:\n",
    "        np.array: 各需要点 i に対する U_i^L のベクトル\n",
    "    \"\"\"\n",
    "    return wij_matrix[:, list(J_F)].sum(axis=1)\n",
    "\n",
    "\n",
    "# U_i^L の計算\n",
    "Ui_L = compute_Ui_L(wij_matrix, J_L)\n",
    "\n",
    "# U_i^F の計算\n",
    "Ui_F = compute_Ui_F(wij_matrix, J_F)\n",
    "\n",
    "print(f\"Ui_L: {Ui_L}\")\n",
    "print(f\"Ui_F: {Ui_F}\")"
   ]
  },
  {
   "cell_type": "code",
   "execution_count": 16,
   "metadata": {},
   "outputs": [
    {
     "name": "stdout",
     "output_type": "stream",
     "text": [
      "x: [0 1 1 1 0 1 0 1 0 1]\n",
      "y: [0 0 0 0 1 1 1 1 0 0]\n",
      "L(x, y): 0.6416406724061001\n"
     ]
    }
   ],
   "source": [
    "def compute_L(h_i, Ui_L, Ui_F, wij, x, y):\n",
    "    \"\"\"\n",
    "    関数 L(x, y) を計算する\n",
    "\n",
    "    Parameters:\n",
    "        h (np.array): 需要点ごとの人口密度ベクトル (D,)\n",
    "        Ui_L (np.array): 各需要点におけるリーダーの影響度 (D,)\n",
    "        Ui_F (np.array): 各需要点におけるフォロワーの影響度 (D,)\n",
    "        wij (np.array): 需要点と施設候補の重み行列 (D, J)\n",
    "        x (np.array): リーダーが選択した施設配置 (J,)\n",
    "        y (np.array): フォロワーが選択した施設配置 (J,)\n",
    "\n",
    "    Returns:\n",
    "        float: L(x, y) の計算結果\n",
    "    \"\"\"\n",
    "    numerator = Ui_L + (wij @ x)  # 分子: リーダーの影響度 + 選択した施設の影響\n",
    "    denominator = Ui_L + Ui_F + (wij @ np.maximum(x, y))  # 分母: 総合影響度\n",
    "\n",
    "    return np.sum(h_i * (numerator / denominator))\n",
    "\n",
    "\n",
    "x = np.random.randint(0, 2, J)  # ランダムなリーダーの施設選択 (0 or 1)\n",
    "y = np.random.randint(0, 2, J)  # ランダムなフォロワーの施設選択 (0 or 1)\n",
    "\n",
    "print(f\"x: {x}\")\n",
    "print(f\"y: {y}\")\n",
    "\n",
    "# L(x, y) の計算\n",
    "L_value = compute_L(h_i, Ui_L, Ui_F, wij_matrix, x, y)\n",
    "\n",
    "# 計算結果の表示\n",
    "print(f\"L(x, y): {L_value}\")"
   ]
  },
  {
   "cell_type": "code",
   "execution_count": 11,
   "metadata": {},
   "outputs": [],
   "source": [
    "# Lazy Constraint Callback 修正\n",
    "class LazyCallback(LazyConstraintCallback):\n",
    "    def __init__(self, model, x, theta):\n",
    "        super().__init__(model)  # 修正：引数は model のみ\n",
    "        self.x = x\n",
    "        self.theta = theta\n",
    "\n",
    "    def invoke(self, context):\n",
    "        x_hat = {j: context.get_candidate_value(self.x[j]) for j in range(J)}\n",
    "        theta_hat = context.get_candidate_value(self.theta)\n",
    "\n",
    "        # ダミーの L(x, y) を計算（本来は separation problem を解く）\n",
    "        y_hat = np.random.choice([0, 1], size=D)\n",
    "        L_x_y = np.sum(y_hat)\n",
    "\n",
    "        if theta_hat > L_x_y:\n",
    "            context.add_lazy_constraint(\n",
    "                self.theta <= L_x_y\n",
    "            )  # 修正：lazy constraint の追加"
   ]
  },
  {
   "cell_type": "code",
   "execution_count": 12,
   "metadata": {},
   "outputs": [],
   "source": [
    "# CPLEX モデルの作成と実行\n",
    "def solve_s_cflp():\n",
    "    mdl = Model(\"S-CFLP\")\n",
    "    x = mdl.binary_var_dict(range(J), name=\"x\")\n",
    "    theta = mdl.continuous_var(name=\"theta\")\n",
    "\n",
    "    mdl.maximize(theta)\n",
    "\n",
    "    mdl.add_constraint(mdl.sum(x[j] for j in range(J)) <= 5)  # 施設数の制限\n",
    "\n",
    "    mdl.register_callback(LazyCallback(mdl, x, theta))\n",
    "    mdl.solve()\n",
    "\n",
    "    BestSol = {j: x[j].solution_value for j in range(J)}\n",
    "    theta_LB = theta.solution_value\n",
    "\n",
    "    return BestSol, theta_LB"
   ]
  },
  {
   "cell_type": "code",
   "execution_count": 13,
   "metadata": {},
   "outputs": [
    {
     "ename": "TypeError",
     "evalue": "__call__() takes 1 positional argument but 2 were given",
     "output_type": "error",
     "traceback": [
      "\u001b[1;31m---------------------------------------------------------------------------\u001b[0m",
      "\u001b[1;31mTypeError\u001b[0m                                 Traceback (most recent call last)",
      "Cell \u001b[1;32mIn[13], line 2\u001b[0m\n\u001b[0;32m      1\u001b[0m \u001b[38;5;66;03m# 最適解の計算とプロット\u001b[39;00m\n\u001b[1;32m----> 2\u001b[0m best_solution, best_theta \u001b[38;5;241m=\u001b[39m \u001b[43msolve_s_cflp\u001b[49m\u001b[43m(\u001b[49m\u001b[43m)\u001b[49m\n\u001b[0;32m      3\u001b[0m \u001b[38;5;28mprint\u001b[39m(\u001b[38;5;124m\"\u001b[39m\u001b[38;5;124mBest Solution:\u001b[39m\u001b[38;5;124m\"\u001b[39m, best_solution)\n\u001b[0;32m      4\u001b[0m \u001b[38;5;28mprint\u001b[39m(\u001b[38;5;124m\"\u001b[39m\u001b[38;5;124mBest Theta:\u001b[39m\u001b[38;5;124m\"\u001b[39m, best_theta)\n",
      "Cell \u001b[1;32mIn[12], line 11\u001b[0m, in \u001b[0;36msolve_s_cflp\u001b[1;34m()\u001b[0m\n\u001b[0;32m      7\u001b[0m mdl\u001b[38;5;241m.\u001b[39mmaximize(theta)\n\u001b[0;32m      9\u001b[0m mdl\u001b[38;5;241m.\u001b[39madd_constraint(mdl\u001b[38;5;241m.\u001b[39msum(x[j] \u001b[38;5;28;01mfor\u001b[39;00m j \u001b[38;5;129;01min\u001b[39;00m \u001b[38;5;28mrange\u001b[39m(J)) \u001b[38;5;241m<\u001b[39m\u001b[38;5;241m=\u001b[39m \u001b[38;5;241m5\u001b[39m)  \u001b[38;5;66;03m# 施設数の制限\u001b[39;00m\n\u001b[1;32m---> 11\u001b[0m \u001b[43mmdl\u001b[49m\u001b[38;5;241;43m.\u001b[39;49m\u001b[43mregister_callback\u001b[49m\u001b[43m(\u001b[49m\u001b[43mLazyCallback\u001b[49m\u001b[43m(\u001b[49m\u001b[43mmdl\u001b[49m\u001b[43m,\u001b[49m\u001b[43m \u001b[49m\u001b[43mx\u001b[49m\u001b[43m,\u001b[49m\u001b[43m \u001b[49m\u001b[43mtheta\u001b[49m\u001b[43m)\u001b[49m\u001b[43m)\u001b[49m\n\u001b[0;32m     12\u001b[0m mdl\u001b[38;5;241m.\u001b[39msolve()\n\u001b[0;32m     14\u001b[0m BestSol \u001b[38;5;241m=\u001b[39m {j: x[j]\u001b[38;5;241m.\u001b[39msolution_value \u001b[38;5;28;01mfor\u001b[39;00m j \u001b[38;5;129;01min\u001b[39;00m \u001b[38;5;28mrange\u001b[39m(J)}\n",
      "File \u001b[1;32mc:\\Users\\adach\\anaconda3\\lib\\site-packages\\docplex\\mp\\model.py:7108\u001b[0m, in \u001b[0;36mModel.register_callback\u001b[1;34m(self, cb_type)\u001b[0m\n\u001b[0;32m   7098\u001b[0m \u001b[38;5;28;01mdef\u001b[39;00m \u001b[38;5;21mregister_callback\u001b[39m(\u001b[38;5;28mself\u001b[39m, cb_type):\n\u001b[0;32m   7099\u001b[0m     \u001b[38;5;66;03m# Registers a callback with the model.\u001b[39;00m\n\u001b[0;32m   7100\u001b[0m     \u001b[38;5;66;03m#\u001b[39;00m\n\u001b[1;32m   (...)\u001b[0m\n\u001b[0;32m   7106\u001b[0m     \u001b[38;5;66;03m# :return: an instance of the callback\u001b[39;00m\n\u001b[0;32m   7107\u001b[0m     \u001b[38;5;66;03m#\u001b[39;00m\n\u001b[1;32m-> 7108\u001b[0m     cplex_cb \u001b[38;5;241m=\u001b[39m \u001b[38;5;28;43mself\u001b[39;49m\u001b[38;5;241;43m.\u001b[39;49m\u001b[43m__engine\u001b[49m\u001b[38;5;241;43m.\u001b[39;49m\u001b[43mregister_callback\u001b[49m\u001b[43m(\u001b[49m\u001b[43mcb_type\u001b[49m\u001b[43m)\u001b[49m\n\u001b[0;32m   7109\u001b[0m     \u001b[38;5;28;01mif\u001b[39;00m cplex_cb:\n\u001b[0;32m   7110\u001b[0m         cplex_cb\u001b[38;5;241m.\u001b[39m_model \u001b[38;5;241m=\u001b[39m \u001b[38;5;28mself\u001b[39m\n",
      "File \u001b[1;32mc:\\Users\\adach\\anaconda3\\lib\\site-packages\\docplex\\mp\\cplex_engine.py:2600\u001b[0m, in \u001b[0;36mCplexEngine.register_callback\u001b[1;34m(self, cb)\u001b[0m\n\u001b[0;32m   2599\u001b[0m \u001b[38;5;28;01mdef\u001b[39;00m \u001b[38;5;21mregister_callback\u001b[39m(\u001b[38;5;28mself\u001b[39m, cb):\n\u001b[1;32m-> 2600\u001b[0m     \u001b[38;5;28;01mreturn\u001b[39;00m \u001b[38;5;28;43mself\u001b[39;49m\u001b[38;5;241;43m.\u001b[39;49m\u001b[43m_cplex\u001b[49m\u001b[38;5;241;43m.\u001b[39;49m\u001b[43mregister_callback\u001b[49m\u001b[43m(\u001b[49m\u001b[43mcb\u001b[49m\u001b[43m)\u001b[49m\n",
      "File \u001b[1;32mc:\\Users\\adach\\anaconda3\\lib\\site-packages\\cplex\\__init__.py:1428\u001b[0m, in \u001b[0;36mCplex.register_callback\u001b[1;34m(self, callback_class)\u001b[0m\n\u001b[0;32m   1405\u001b[0m \u001b[38;5;28;01mdef\u001b[39;00m \u001b[38;5;21mregister_callback\u001b[39m(\u001b[38;5;28mself\u001b[39m, callback_class):\n\u001b[0;32m   1406\u001b[0m \u001b[38;5;250m    \u001b[39m\u001b[38;5;124;03m\"\"\"Registers a callback class for use during optimization.\u001b[39;00m\n\u001b[0;32m   1407\u001b[0m \n\u001b[0;32m   1408\u001b[0m \u001b[38;5;124;03m    callback_class must be a proper subclass of one of the callback\u001b[39;00m\n\u001b[1;32m   (...)\u001b[0m\n\u001b[0;32m   1426\u001b[0m \u001b[38;5;124;03m    >>> cb = c.register_callback(MyMIPInfoCallback)\u001b[39;00m\n\u001b[0;32m   1427\u001b[0m \u001b[38;5;124;03m    \"\"\"\u001b[39;00m\n\u001b[1;32m-> 1428\u001b[0m     \u001b[38;5;28;01mreturn\u001b[39;00m \u001b[38;5;28;43mself\u001b[39;49m\u001b[38;5;241;43m.\u001b[39;49m\u001b[43m_env\u001b[49m\u001b[38;5;241;43m.\u001b[39;49m\u001b[43mregister_callback\u001b[49m\u001b[43m(\u001b[49m\u001b[43mcallback_class\u001b[49m\u001b[43m)\u001b[49m\n",
      "File \u001b[1;32mc:\\Users\\adach\\anaconda3\\lib\\site-packages\\cplex\\_internal\\__init__.py:184\u001b[0m, in \u001b[0;36mEnvironment.register_callback\u001b[1;34m(self, callback_class)\u001b[0m\n\u001b[0;32m    171\u001b[0m \u001b[38;5;28;01mdef\u001b[39;00m \u001b[38;5;21mregister_callback\u001b[39m(\u001b[38;5;28mself\u001b[39m, callback_class):\n\u001b[0;32m    172\u001b[0m \u001b[38;5;250m    \u001b[39m\u001b[38;5;124;03m\"\"\"Registers a callback for use when solving.\u001b[39;00m\n\u001b[0;32m    173\u001b[0m \n\u001b[0;32m    174\u001b[0m \u001b[38;5;124;03m    callback_class must be a proper subclass of one of the\u001b[39;00m\n\u001b[1;32m   (...)\u001b[0m\n\u001b[0;32m    182\u001b[0m \u001b[38;5;124;03m    registered.\u001b[39;00m\n\u001b[0;32m    183\u001b[0m \u001b[38;5;124;03m    \"\"\"\u001b[39;00m\n\u001b[1;32m--> 184\u001b[0m     cb \u001b[38;5;241m=\u001b[39m \u001b[43mcallback_class\u001b[49m\u001b[43m(\u001b[49m\u001b[38;5;28;43mself\u001b[39;49m\u001b[43m)\u001b[49m\n\u001b[0;32m    185\u001b[0m     _checkcbcls(cb)\n\u001b[0;32m    186\u001b[0m     num_delete \u001b[38;5;241m=\u001b[39m \u001b[38;5;28mself\u001b[39m\u001b[38;5;241m.\u001b[39m_get_num_delete()\n",
      "\u001b[1;31mTypeError\u001b[0m: __call__() takes 1 positional argument but 2 were given"
     ]
    }
   ],
   "source": [
    "# 最適解の計算とプロット\n",
    "best_solution, best_theta = solve_s_cflp()\n",
    "print(\"Best Solution:\", best_solution)\n",
    "print(\"Best Theta:\", best_theta)\n",
    "\n",
    "\n",
    "# 結果の可視化\n",
    "def plot_results():\n",
    "    plt.figure(figsize=(8, 8))\n",
    "    plt.scatter(*zip(*demand_points), c=\"blue\", marker=\"o\", label=\"Demand Points\")\n",
    "    plt.scatter(*zip(*candidate_sites), c=\"red\", marker=\"s\", label=\"Candidate Sites\")\n",
    "\n",
    "    for j, val in best_solution.items():\n",
    "        if val > 0.5:\n",
    "            plt.scatter(\n",
    "                candidate_sites[j][0],\n",
    "                candidate_sites[j][1],\n",
    "                c=\"green\",\n",
    "                marker=\"s\",\n",
    "                s=100,\n",
    "                label=\"Selected Facility\" if j == 0 else \"\",\n",
    "            )\n",
    "\n",
    "    plt.legend()\n",
    "    plt.title(\"Optimal Facility Location\")\n",
    "    plt.xlabel(\"X Coordinate\")\n",
    "    plt.ylabel(\"Y Coordinate\")\n",
    "    plt.show()\n",
    "\n",
    "\n",
    "plot_results()"
   ]
  }
 ],
 "metadata": {
  "kernelspec": {
   "display_name": "base",
   "language": "python",
   "name": "python3"
  },
  "language_info": {
   "codemirror_mode": {
    "name": "ipython",
    "version": 3
   },
   "file_extension": ".py",
   "mimetype": "text/x-python",
   "name": "python",
   "nbconvert_exporter": "python",
   "pygments_lexer": "ipython3",
   "version": "3.8.20"
  }
 },
 "nbformat": 4,
 "nbformat_minor": 2
}
