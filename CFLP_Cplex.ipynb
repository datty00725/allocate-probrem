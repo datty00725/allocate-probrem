{
 "cells": [
  {
   "cell_type": "code",
   "execution_count": 23,
   "metadata": {},
   "outputs": [],
   "source": [
    "import numpy as np\n",
    "from docplex.mp.model import Model\n",
    "# from docplex.mp.callbacks.cb_mixin import ConstraintCallbackMixin\n",
    "# from docplex.mp.callbacks.cb_mixin import LazyConstraintCallback\n",
    "import matplotlib.pyplot as plt"
   ]
  },
  {
   "cell_type": "code",
   "execution_count": 24,
   "metadata": {},
   "outputs": [],
   "source": [
    "# 需要点と施設候補の座標データ\n",
    "demand_points = [(2, 22), (42, 6), (48, 50), (32, 40), (16, 10),\n",
    "                 (10, 34), (8, 30), (29, 16), (44, 34), (3, 16)]\n",
    "candidate_sites = [(36, 32), (38, 32), (44, 11), (26, 50), (22, 28),\n",
    "                   (32, 46), (20, 37), (35, 26), (2, 4), (18, 1)]\n"
   ]
  },
  {
   "cell_type": "code",
   "execution_count": 25,
   "metadata": {},
   "outputs": [],
   "source": [
    "J = len(candidate_sites)  # 施設候補の数\n",
    "D = len(demand_points)  # 需要点の数"
   ]
  },
  {
   "cell_type": "code",
   "execution_count": 26,
   "metadata": {},
   "outputs": [],
   "source": [
    "# ユークリッド距離の計算\n",
    "def compute_distances(demand_points, candidate_sites):\n",
    "    distances = np.zeros((D, J))\n",
    "    for d in range(D):\n",
    "        for j in range(J):\n",
    "            distances[d][j] = np.sqrt((demand_points[d][0] - candidate_sites[j][0])**2 +\n",
    "                                      (demand_points[d][1] - candidate_sites[j][1])**2)\n",
    "    return distances"
   ]
  },
  {
   "cell_type": "code",
   "execution_count": 27,
   "metadata": {},
   "outputs": [],
   "source": [
    "distances = compute_distances(demand_points, candidate_sites)"
   ]
  },
  {
   "cell_type": "code",
   "execution_count": null,
   "metadata": {},
   "outputs": [],
   "source": [
    "print"
   ]
  },
  {
   "cell_type": "code",
   "execution_count": null,
   "metadata": {},
   "outputs": [
    {
     "ename": "NameError",
     "evalue": "name 'LazyConstraintCallback' is not defined",
     "output_type": "error",
     "traceback": [
      "\u001b[1;31m---------------------------------------------------------------------------\u001b[0m",
      "\u001b[1;31mNameError\u001b[0m                                 Traceback (most recent call last)",
      "Cell \u001b[1;32mIn[21], line 2\u001b[0m\n\u001b[0;32m      1\u001b[0m \u001b[38;5;66;03m# Lazy Constraint Callback 修正\u001b[39;00m\n\u001b[1;32m----> 2\u001b[0m \u001b[38;5;28;01mclass\u001b[39;00m \u001b[38;5;21;01mLazyCallback\u001b[39;00m(\u001b[43mLazyConstraintCallback\u001b[49m):\n\u001b[0;32m      3\u001b[0m     \u001b[38;5;28;01mdef\u001b[39;00m \u001b[38;5;21m__init__\u001b[39m(\u001b[38;5;28mself\u001b[39m, model, x, theta):\n\u001b[0;32m      4\u001b[0m         \u001b[38;5;28msuper\u001b[39m()\u001b[38;5;241m.\u001b[39m\u001b[38;5;21m__init__\u001b[39m(model)  \u001b[38;5;66;03m# 修正：引数は model のみ\u001b[39;00m\n",
      "\u001b[1;31mNameError\u001b[0m: name 'LazyConstraintCallback' is not defined"
     ]
    }
   ],
   "source": [
    "# Lazy Constraint Callback 修正\n",
    "class LazyCallback(LazyConstraintCallback):\n",
    "    def __init__(self, model, x, theta):\n",
    "        super().__init__(model)  # 修正：引数は model のみ\n",
    "        self.x = x\n",
    "        self.theta = theta\n",
    "    \n",
    "    def invoke(self, context):\n",
    "        x_hat = {j: context.get_candidate_value(self.x[j]) for j in range(J)}\n",
    "        theta_hat = context.get_candidate_value(self.theta)\n",
    "        \n",
    "        # ダミーの L(x, y) を計算（本来は separation problem を解く）\n",
    "        y_hat = np.random.choice([0, 1], size=D)\n",
    "        L_x_y = np.sum(y_hat)\n",
    "        \n",
    "        if theta_hat > L_x_y:\n",
    "            context.add_lazy_constraint(self.theta <= L_x_y)  # 修正：lazy constraint の追加"
   ]
  },
  {
   "cell_type": "code",
   "execution_count": null,
   "metadata": {},
   "outputs": [],
   "source": [
    "# CPLEX モデルの作成と実行\n",
    "def solve_s_cflp():\n",
    "    mdl = Model(\"S-CFLP\")\n",
    "    x = mdl.binary_var_dict(range(J), name=\"x\")\n",
    "    theta = mdl.continuous_var(name=\"theta\")\n",
    "    \n",
    "    mdl.maximize(theta)\n",
    "    \n",
    "    mdl.add_constraint(mdl.sum(x[j] for j in range(J)) <= 5)  # 施設数の制限\n",
    "    \n",
    "    mdl.register_callback(LazyCallback(mdl, x, theta))\n",
    "    mdl.solve()\n",
    "    \n",
    "    BestSol = {j: x[j].solution_value for j in range(J)}\n",
    "    theta_LB = theta.solution_value\n",
    "    \n",
    "    return BestSol, theta_LB"
   ]
  },
  {
   "cell_type": "code",
   "execution_count": null,
   "metadata": {},
   "outputs": [
    {
     "ename": "TypeError",
     "evalue": "__init__() takes 1 positional argument but 2 were given",
     "output_type": "error",
     "traceback": [
      "\u001b[1;31m---------------------------------------------------------------------------\u001b[0m",
      "\u001b[1;31mTypeError\u001b[0m                                 Traceback (most recent call last)",
      "Cell \u001b[1;32mIn[8], line 2\u001b[0m\n\u001b[0;32m      1\u001b[0m \u001b[38;5;66;03m# 最適解の計算とプロット\u001b[39;00m\n\u001b[1;32m----> 2\u001b[0m best_solution, best_theta \u001b[38;5;241m=\u001b[39m \u001b[43msolve_s_cflp\u001b[49m\u001b[43m(\u001b[49m\u001b[43m)\u001b[49m\n\u001b[0;32m      3\u001b[0m \u001b[38;5;28mprint\u001b[39m(\u001b[38;5;124m\"\u001b[39m\u001b[38;5;124mBest Solution:\u001b[39m\u001b[38;5;124m\"\u001b[39m, best_solution)\n\u001b[0;32m      4\u001b[0m \u001b[38;5;28mprint\u001b[39m(\u001b[38;5;124m\"\u001b[39m\u001b[38;5;124mBest Theta:\u001b[39m\u001b[38;5;124m\"\u001b[39m, best_theta)\n",
      "Cell \u001b[1;32mIn[7], line 11\u001b[0m, in \u001b[0;36msolve_s_cflp\u001b[1;34m()\u001b[0m\n\u001b[0;32m      7\u001b[0m mdl\u001b[38;5;241m.\u001b[39mmaximize(theta)\n\u001b[0;32m      9\u001b[0m mdl\u001b[38;5;241m.\u001b[39madd_constraint(mdl\u001b[38;5;241m.\u001b[39msum(x[j] \u001b[38;5;28;01mfor\u001b[39;00m j \u001b[38;5;129;01min\u001b[39;00m \u001b[38;5;28mrange\u001b[39m(J)) \u001b[38;5;241m<\u001b[39m\u001b[38;5;241m=\u001b[39m \u001b[38;5;241m5\u001b[39m)  \u001b[38;5;66;03m# 施設数の制限\u001b[39;00m\n\u001b[1;32m---> 11\u001b[0m mdl\u001b[38;5;241m.\u001b[39mregister_callback(\u001b[43mLazyCallback\u001b[49m\u001b[43m(\u001b[49m\u001b[43mmdl\u001b[49m\u001b[43m,\u001b[49m\u001b[43m \u001b[49m\u001b[43mx\u001b[49m\u001b[43m,\u001b[49m\u001b[43m \u001b[49m\u001b[43mtheta\u001b[49m\u001b[43m)\u001b[49m)\n\u001b[0;32m     12\u001b[0m mdl\u001b[38;5;241m.\u001b[39msolve()\n\u001b[0;32m     14\u001b[0m BestSol \u001b[38;5;241m=\u001b[39m {j: x[j]\u001b[38;5;241m.\u001b[39msolution_value \u001b[38;5;28;01mfor\u001b[39;00m j \u001b[38;5;129;01min\u001b[39;00m \u001b[38;5;28mrange\u001b[39m(J)}\n",
      "Cell \u001b[1;32mIn[6], line 4\u001b[0m, in \u001b[0;36mLazyCallback.__init__\u001b[1;34m(self, model, x, theta)\u001b[0m\n\u001b[0;32m      3\u001b[0m \u001b[38;5;28;01mdef\u001b[39;00m \u001b[38;5;21m__init__\u001b[39m(\u001b[38;5;28mself\u001b[39m, model, x, theta):\n\u001b[1;32m----> 4\u001b[0m     \u001b[43mConstraintCallbackMixin\u001b[49m\u001b[38;5;241;43m.\u001b[39;49m\u001b[38;5;21;43m__init__\u001b[39;49m\u001b[43m(\u001b[49m\u001b[38;5;28;43mself\u001b[39;49m\u001b[43m,\u001b[49m\u001b[43m \u001b[49m\u001b[43mmodel\u001b[49m\u001b[43m)\u001b[49m\n\u001b[0;32m      5\u001b[0m     \u001b[38;5;28mself\u001b[39m\u001b[38;5;241m.\u001b[39mx \u001b[38;5;241m=\u001b[39m x\n\u001b[0;32m      6\u001b[0m     \u001b[38;5;28mself\u001b[39m\u001b[38;5;241m.\u001b[39mtheta \u001b[38;5;241m=\u001b[39m theta\n",
      "\u001b[1;31mTypeError\u001b[0m: __init__() takes 1 positional argument but 2 were given"
     ]
    }
   ],
   "source": [
    "# 最適解の計算とプロット\n",
    "best_solution, best_theta = solve_s_cflp()\n",
    "print(\"Best Solution:\", best_solution)\n",
    "print(\"Best Theta:\", best_theta)\n",
    "\n",
    "# 結果の可視化\n",
    "def plot_results():\n",
    "    plt.figure(figsize=(8, 8))\n",
    "    plt.scatter(*zip(*demand_points), c='blue', marker='o', label='Demand Points')\n",
    "    plt.scatter(*zip(*candidate_sites), c='red', marker='s', label='Candidate Sites')\n",
    "    \n",
    "    for j, val in best_solution.items():\n",
    "        if val > 0.5:\n",
    "            plt.scatter(candidate_sites[j][0], candidate_sites[j][1], c='green', marker='s', s=100, label='Selected Facility' if j == 0 else \"\")\n",
    "    \n",
    "    plt.legend()\n",
    "    plt.title(\"Optimal Facility Location\")\n",
    "    plt.xlabel(\"X Coordinate\")\n",
    "    plt.ylabel(\"Y Coordinate\")\n",
    "    plt.show()\n",
    "\n",
    "plot_results()"
   ]
  }
 ],
 "metadata": {
  "kernelspec": {
   "display_name": "base",
   "language": "python",
   "name": "python3"
  },
  "language_info": {
   "codemirror_mode": {
    "name": "ipython",
    "version": 3
   },
   "file_extension": ".py",
   "mimetype": "text/x-python",
   "name": "python",
   "nbconvert_exporter": "python",
   "pygments_lexer": "ipython3",
   "version": "3.8.20"
  }
 },
 "nbformat": 4,
 "nbformat_minor": 2
}
