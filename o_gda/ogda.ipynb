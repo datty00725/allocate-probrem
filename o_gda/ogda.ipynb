{
 "cells": [
  {
   "cell_type": "code",
   "execution_count": 21,
   "id": "458c2391",
   "metadata": {},
   "outputs": [],
   "source": [
    "%run ./func.ipynb"
   ]
  },
  {
   "cell_type": "code",
   "execution_count": 22,
   "id": "f645b4ee",
   "metadata": {},
   "outputs": [],
   "source": [
    "import numpy as np\n",
    "import random\n",
    "import matplotlib.pyplot as plt"
   ]
  },
  {
   "cell_type": "markdown",
   "id": "a49a6f80",
   "metadata": {},
   "source": [
    "## Premi"
   ]
  },
  {
   "cell_type": "code",
   "execution_count": null,
   "id": "da192e87",
   "metadata": {},
   "outputs": [],
   "source": [
    "I = J = 50\n",
    "\n",
    "num_rows_columns = 50\n",
    "demand_points, candidate_sites = generate_instance(num_rows_columns, I, J, seed=42)\n",
    "\n",
    "alpha = .0\n",
    "beta = 0.5\n",
    "\n",
    "p = 10\n",
    "r = 10\n",
    "\n",
    "h_i = np.full(I, 1 / I)\n",
    "\n",
    "# 既存のリーダーの施設セット J_L を仮定\n",
    "J_L = {}  # インデックスとして候補施設の一部を選択\n",
    "J_F = {}"
   ]
  },
  {
   "cell_type": "code",
   "execution_count": null,
   "id": "92700d18",
   "metadata": {},
   "outputs": [
    {
     "name": "stdout",
     "output_type": "stream",
     "text": [
      "\n",
      "Distances: [[22.09072203 10.44030651 31.11269837 ... 18.60107524 21.9317122\n",
      "   2.82842712]\n",
      " [36.40054945 37.12142239 22.56102835 ... 40.85339643 18.60107524\n",
      "  25.07987241]\n",
      " [30.59411708 11.18033989 42.42640687 ...  7.61577311 33.24154028\n",
      "  11.66190379]\n",
      " ...\n",
      " [23.53720459  5.         37.01351105 ... 14.56021978 28.01785145\n",
      "   9.05538514]\n",
      " [15.62049935 35.22782991 15.62049935 ... 51.4781507  18.02775638\n",
      "  34.92849839]\n",
      " [35.34119409 40.19950248 17.         ... 46.5295605  16.1245155\n",
      "  29.41088234]]\n",
      "\n",
      "w_ij Matrix: [[1.59610207e-05 5.40650049e-03 1.75373266e-07 ... 9.13750933e-05\n",
      "  1.72818092e-05 2.43116734e-01]\n",
      " [1.24658277e-08 8.69331764e-09 1.26163852e-05 ... 1.34523352e-09\n",
      "  9.13750933e-05 3.58075744e-06]\n",
      " [2.27285582e-07 3.73439317e-03 6.12664624e-10 ... 2.21950375e-02\n",
      "  6.04910668e-08 2.93528157e-03]\n",
      " ...\n",
      " [7.74392188e-06 8.20849986e-02 9.17525617e-09 ... 6.89109834e-04\n",
      "  8.24139747e-07 1.08055805e-02]\n",
      " [4.05556777e-04 2.24064952e-08 4.05556777e-04 ... 6.63226095e-12\n",
      "  1.21708929e-04 2.60239337e-08]\n",
      " [2.11717721e-08 1.86547292e-09 2.03468369e-04 ... 7.87470540e-11\n",
      "  3.15214327e-04 4.10684248e-07]]\n",
      "\n",
      "U_i^L: [0. 0. 0. 0. 0. 0. 0. 0. 0. 0. 0. 0. 0. 0. 0. 0. 0. 0. 0. 0. 0. 0. 0. 0.\n",
      " 0. 0. 0. 0. 0. 0. 0. 0. 0. 0. 0. 0. 0. 0. 0. 0. 0. 0. 0. 0. 0. 0. 0. 0.\n",
      " 0. 0.]\n",
      "\n",
      "U_i^F: [0. 0. 0. 0. 0. 0. 0. 0. 0. 0. 0. 0. 0. 0. 0. 0. 0. 0. 0. 0. 0. 0. 0. 0.\n",
      " 0. 0. 0. 0. 0. 0. 0. 0. 0. 0. 0. 0. 0. 0. 0. 0. 0. 0. 0. 0. 0. 0. 0. 0.\n",
      " 0. 0.]\n"
     ]
    }
   ],
   "source": [
    "distances = compute_distances(demand_points, candidate_sites)\n",
    "print(\"\\nDistances:\", distances)\n",
    "\n",
    "# w_ij の計算\n",
    "w_ij = compute_wij_matrix(distances, alpha, beta)\n",
    "print(\"\\nw_ij Matrix:\", w_ij)\n",
    "\n",
    "# U_i^L の計算\n",
    "Ui_L = compute_Ui_L(w_ij, J_L)\n",
    "print(\"\\nU_i^L:\", Ui_L)\n",
    "\n",
    "# U_i^F の計算\n",
    "Ui_F = compute_Ui_F(w_ij, J_F)\n",
    "print(\"\\nU_i^F:\", Ui_F)"
   ]
  },
  {
   "cell_type": "code",
   "execution_count": null,
   "id": "1390a306",
   "metadata": {},
   "outputs": [
    {
     "name": "stdout",
     "output_type": "stream",
     "text": [
      "\n",
      "🌸🌸🌸  Iteration 1  🌸🌸🌸\n",
      "🔧  After rounding:\n",
      "     ➤ x (rounded): [0. 0. 0. 0. 0. 1. 0. 0. 0. 1. 0. 0. 1. 0. 0. 0. 1. 0. 0. 0. 0. 0. 0. 0.\n",
      " 0. 0. 1. 1. 0. 0. 0. 0. 0. 0. 0. 0. 0. 1. 1. 0. 0. 0. 0. 0. 0. 1. 0. 0.\n",
      " 0. 1.]\n",
      "     ➤ x ( binbin): [0. 0. 0. 0. 0. 1. 0. 0. 0. 1. 0. 0. 1. 0. 0. 0. 1. 0. 0. 0. 0. 0. 0. 0.\n",
      " 0. 0. 1. 1. 0. 0. 0. 0. 0. 0. 0. 0. 0. 1. 1. 0. 0. 0. 0. 0. 0. 1. 0. 0.\n",
      " 0. 1.]\n",
      "     ➤ y (rounded): [0. 1. 1. 0. 0. 0. 0. 0. 0. 0. 0. 1. 0. 0. 0. 1. 0. 0. 1. 0. 0. 0. 0. 1.\n",
      " 0. 1. 0. 0. 0. 0. 0. 0. 1. 0. 0. 0. 0. 0. 0. 1. 0. 0. 0. 0. 1. 0. 0. 0.\n",
      " 0. 0.]\n",
      "     ➤ y ( binbin): [0. 1. 1. 0. 0. 0. 0. 0. 0. 0. 0. 1. 0. 0. 0. 1. 0. 0. 1. 0. 0. 0. 0. 1.\n",
      " 0. 1. 0. 0. 0. 0. 0. 0. 1. 0. 0. 0. 0. 0. 0. 1. 0. 0. 0. 0. 1. 0. 0. 0.\n",
      " 0. 0.]\n",
      "📈  Objective L(x, y) = 0.401993\n",
      "📈  Objective L̂(x, y) = 0.401993\n",
      "🔍  dx = 0.00e+00, dy = 3.17e-03\n",
      "\n",
      "🌸🌸🌸  Iteration 2  🌸🌸🌸\n",
      "🔧  After rounding:\n",
      "     ➤ x (rounded): [0. 0. 0. 0. 0. 1. 0. 0. 0. 1. 0. 0. 1. 0. 0. 0. 1. 0. 0. 0. 0. 0. 0. 0.\n",
      " 0. 0. 1. 1. 0. 0. 0. 0. 0. 0. 0. 0. 0. 1. 1. 0. 0. 0. 0. 0. 0. 1. 0. 0.\n",
      " 0. 1.]\n",
      "     ➤ x ( binbin): [0. 0. 0. 0. 0. 1. 0. 0. 0. 1. 0. 0. 1. 0. 0. 0. 1. 0. 0. 0. 0. 0. 0. 0.\n",
      " 0. 0. 1. 1. 0. 0. 0. 0. 0. 0. 0. 0. 0. 1. 1. 0. 0. 0. 0. 0. 0. 1. 0. 0.\n",
      " 0. 1.]\n",
      "     ➤ y (rounded): [0. 1. 1. 0. 0. 0. 0. 0. 0. 0. 0. 1. 0. 0. 0. 1. 0. 0. 1. 0. 0. 0. 0. 1.\n",
      " 0. 1. 0. 0. 0. 0. 0. 0. 1. 0. 0. 0. 0. 0. 0. 1. 0. 0. 0. 0. 1. 0. 0. 0.\n",
      " 0. 0.]\n",
      "     ➤ y ( binbin): [0. 1. 1. 0. 0. 0. 0. 0. 0. 0. 0. 1. 0. 0. 0. 1. 0. 0. 1. 0. 0. 0. 0. 1.\n",
      " 0. 1. 0. 0. 0. 0. 0. 0. 1. 0. 0. 0. 0. 0. 0. 1. 0. 0. 0. 0. 1. 0. 0. 0.\n",
      " 0. 0.]\n",
      "📈  Objective L(x, y) = 0.401993\n",
      "📈  Objective L̂(x, y) = 0.401993\n",
      "🔍  dx = 1.18e-04, dy = 1.21e-04\n",
      "\n",
      "🌸🌸🌸  Iteration 3  🌸🌸🌸\n",
      "🔧  After rounding:\n",
      "     ➤ x (rounded): [0. 0. 0. 0. 0. 1. 0. 0. 0. 1. 0. 0. 1. 0. 0. 0. 1. 0. 0. 0. 0. 0. 0. 0.\n",
      " 0. 0. 1. 1. 0. 0. 0. 0. 0. 0. 0. 0. 0. 1. 1. 0. 0. 0. 0. 0. 0. 1. 0. 0.\n",
      " 0. 1.]\n",
      "     ➤ x ( binbin): [0. 0. 0. 0. 0. 1. 0. 0. 0. 1. 0. 0. 1. 0. 0. 0. 1. 0. 0. 0. 0. 0. 0. 0.\n",
      " 0. 0. 1. 1. 0. 0. 0. 0. 0. 0. 0. 0. 0. 1. 1. 0. 0. 0. 0. 0. 0. 1. 0. 0.\n",
      " 0. 1.]\n",
      "     ➤ y (rounded): [0. 1. 1. 0. 0. 0. 0. 0. 0. 0. 0. 1. 0. 0. 0. 1. 0. 0. 1. 0. 0. 0. 0. 1.\n",
      " 0. 1. 0. 0. 0. 0. 0. 0. 1. 0. 0. 0. 0. 0. 0. 1. 0. 0. 0. 0. 1. 0. 0. 0.\n",
      " 0. 0.]\n",
      "     ➤ y ( binbin): [0. 1. 1. 0. 0. 0. 0. 0. 0. 0. 0. 1. 0. 0. 0. 1. 0. 0. 1. 0. 0. 0. 0. 1.\n",
      " 0. 1. 0. 0. 0. 0. 0. 0. 1. 0. 0. 0. 0. 0. 0. 1. 0. 0. 0. 0. 1. 0. 0. 0.\n",
      " 0. 0.]\n",
      "📈  Objective L(x, y) = 0.401993\n",
      "📈  Objective L̂(x, y) = 0.401993\n",
      "🔍  dx = 1.85e-05, dy = 1.82e-05\n",
      "\n",
      "🌸🌸🌸  Iteration 4  🌸🌸🌸\n",
      "🔧  After rounding:\n",
      "     ➤ x (rounded): [0. 0. 0. 0. 0. 1. 0. 0. 0. 1. 0. 0. 1. 0. 0. 0. 1. 0. 0. 0. 0. 0. 0. 0.\n",
      " 0. 0. 1. 1. 0. 0. 0. 0. 0. 0. 0. 0. 0. 1. 1. 0. 0. 0. 0. 0. 0. 1. 0. 0.\n",
      " 0. 1.]\n",
      "     ➤ x ( binbin): [0. 0. 0. 0. 0. 1. 0. 0. 0. 1. 0. 0. 1. 0. 0. 0. 1. 0. 0. 0. 0. 0. 0. 0.\n",
      " 0. 0. 1. 1. 0. 0. 0. 0. 0. 0. 0. 0. 0. 1. 1. 0. 0. 0. 0. 0. 0. 1. 0. 0.\n",
      " 0. 1.]\n",
      "     ➤ y (rounded): [0. 1. 1. 0. 0. 0. 0. 0. 0. 0. 0. 1. 0. 0. 0. 1. 0. 0. 1. 0. 0. 0. 0. 1.\n",
      " 0. 1. 0. 0. 0. 0. 0. 0. 1. 0. 0. 0. 0. 0. 0. 1. 0. 0. 0. 0. 1. 0. 0. 0.\n",
      " 0. 0.]\n",
      "     ➤ y ( binbin): [0. 1. 1. 0. 0. 0. 0. 0. 0. 0. 0. 1. 0. 0. 0. 1. 0. 0. 1. 0. 0. 0. 0. 1.\n",
      " 0. 1. 0. 0. 0. 0. 0. 0. 1. 0. 0. 0. 0. 0. 0. 1. 0. 0. 0. 0. 1. 0. 0. 0.\n",
      " 0. 0.]\n",
      "📈  Objective L(x, y) = 0.401993\n",
      "📈  Objective L̂(x, y) = 0.401993\n",
      "🔍  dx = 2.86e-06, dy = 2.81e-06\n",
      "\n",
      "🌸🌸🌸  Iteration 5  🌸🌸🌸\n",
      "🔧  After rounding:\n",
      "     ➤ x (rounded): [0. 0. 0. 0. 0. 1. 0. 0. 0. 1. 0. 0. 1. 0. 0. 0. 1. 0. 0. 0. 0. 0. 0. 0.\n",
      " 0. 0. 1. 1. 0. 0. 0. 0. 0. 0. 0. 0. 0. 1. 1. 0. 0. 0. 0. 0. 0. 1. 0. 0.\n",
      " 0. 1.]\n",
      "     ➤ x ( binbin): [0. 0. 0. 0. 0. 1. 0. 0. 0. 1. 0. 0. 1. 0. 0. 0. 1. 0. 0. 0. 0. 0. 0. 0.\n",
      " 0. 0. 1. 1. 0. 0. 0. 0. 0. 0. 0. 0. 0. 1. 1. 0. 0. 0. 0. 0. 0. 1. 0. 0.\n",
      " 0. 1.]\n",
      "     ➤ y (rounded): [0. 1. 1. 0. 0. 0. 0. 0. 0. 0. 0. 1. 0. 0. 0. 1. 0. 0. 1. 0. 0. 0. 0. 1.\n",
      " 0. 1. 0. 0. 0. 0. 0. 0. 1. 0. 0. 0. 0. 0. 0. 1. 0. 0. 0. 0. 1. 0. 0. 0.\n",
      " 0. 0.]\n",
      "     ➤ y ( binbin): [0. 1. 1. 0. 0. 0. 0. 0. 0. 0. 0. 1. 0. 0. 0. 1. 0. 0. 1. 0. 0. 0. 0. 1.\n",
      " 0. 1. 0. 0. 0. 0. 0. 0. 1. 0. 0. 0. 0. 0. 0. 1. 0. 0. 0. 0. 1. 0. 0. 0.\n",
      " 0. 0.]\n",
      "📈  Objective L(x, y) = 0.401993\n",
      "📈  Objective L̂(x, y) = 0.401993\n",
      "🔍  dx = 4.42e-07, dy = 4.34e-07\n",
      "🎉✨ 収束しました！Great job! ✨🎉\n",
      "Converged at iter 4, Φ=0.00e+00\n",
      "x: [0.237 0.    0.    0.    0.413 0.512 0.206 0.329 0.143 0.535 0.415 0.\n",
      " 0.457 0.    0.329 0.    0.463 0.141 0.    0.022 0.    0.    0.27  0.247\n",
      " 0.215 0.    0.597 0.58  0.285 0.25  0.288 0.    0.    0.321 0.125 0.\n",
      " 0.085 0.489 0.534 0.    0.171 0.    0.194 0.    0.    0.49  0.    0.223\n",
      " 0.    0.432]\n",
      "y: [0.    0.001 0.001 0.    0.    0.    0.    0.    0.    0.    0.    0.001\n",
      " 0.    0.    0.    0.001 0.    0.    0.001 0.    0.    0.001 0.    0.001\n",
      " 0.    0.001 0.    0.    0.    0.    0.    0.    0.001 0.    0.    0.\n",
      " 0.    0.    0.    0.001 0.    0.    0.    0.    0.001 0.    0.    0.\n",
      " 0.    0.   ]\n"
     ]
    }
   ],
   "source": [
    "x_opt, y_opt, gamma, hist_Lhat, hist_Lcont, hist_dx, hist_dy = ogda_dinkelbach(w_ij, Ui_L, Ui_F, h_i, p, r)\n",
    "print(\"x:\", np.round(x_opt, 3))\n",
    "print(\"y:\", np.round(y_opt, 3))"
   ]
  },
  {
   "cell_type": "code",
   "execution_count": null,
   "id": "cfdd801d",
   "metadata": {},
   "outputs": [
    {
     "name": "stdout",
     "output_type": "stream",
     "text": [
      "Binary x: [0. 0. 0. 0. 0. 1. 0. 0. 0. 1. 0. 0. 1. 0. 0. 0. 1. 0. 0. 0. 0. 0. 0. 0.\n",
      " 0. 0. 1. 1. 0. 0. 0. 0. 0. 0. 0. 0. 0. 1. 1. 0. 0. 0. 0. 0. 0. 1. 0. 0.\n",
      " 0. 1.]\n",
      "Binary y: [0. 1. 1. 0. 0. 0. 0. 0. 0. 0. 0. 1. 0. 0. 0. 1. 0. 0. 1. 0. 0. 0. 0. 1.\n",
      " 0. 1. 0. 0. 0. 0. 0. 0. 1. 0. 0. 0. 0. 0. 0. 1. 0. 0. 0. 0. 1. 0. 0. 0.\n",
      " 0. 0.]\n"
     ]
    }
   ],
   "source": [
    "x_bin = round_to_binary_best_k(x_opt, p)\n",
    "print(\"Binary x:\", np.round(x_bin, 3))\n",
    "y_bin = round_to_binary_best_k(y_opt, r)\n",
    "print(\"Binary y:\", np.round(y_bin, 3))"
   ]
  },
  {
   "cell_type": "code",
   "execution_count": null,
   "id": "eb1b6105",
   "metadata": {},
   "outputs": [
    {
     "name": "stdout",
     "output_type": "stream",
     "text": [
      "l 0.40199254245351845\n"
     ]
    }
   ],
   "source": [
    "print('l', compute_L(h_i, Ui_L, Ui_F, w_ij, x_bin, y_bin))"
   ]
  },
  {
   "cell_type": "code",
   "execution_count": null,
   "id": "7d5edab2",
   "metadata": {},
   "outputs": [
    {
     "data": {
      "image/png": "[encoded data removed]",
      "text/plain": [
       "<Figure size 640x480 with 2 Axes>"
      ]
     },
     "metadata": {},
     "output_type": "display_data"
    }
   ],
   "source": [
    "fig, ax1 = plt.subplots()\n",
    "ax1.plot(hist_Lcont, label='Objective', marker='o')\n",
    "ax2 = ax1.twinx()\n",
    "ax2.plot(hist_dx,  label='‖Δx‖',  ls='--')\n",
    "ax2.plot(hist_dy,  label='‖Δy‖',  ls=':')\n",
    "ax1.set_xlabel('Iteration')\n",
    "ax1.set_ylabel('Objective')\n",
    "ax2.set_ylabel('Variable change')\n",
    "fig.legend(loc='upper right')\n",
    "plt.show()"
   ]
  },
  {
   "cell_type": "code",
   "execution_count": null,
   "id": "f5197ea5",
   "metadata": {},
   "outputs": [
    {
     "name": "stdout",
     "output_type": "stream",
     "text": [
      "sum x: 9.999983634701245\n",
      "sum y: 0.015871247248812434\n"
     ]
    }
   ],
   "source": [
    "print('sum x:', np.sum(x_opt))\n",
    "print('sum y:', np.sum(y_opt))"
   ]
  }
 ],
 "metadata": {
  "kernelspec": {
   "display_name": "base",
   "language": "python",
   "name": "python3"
  },
  "language_info": {
   "codemirror_mode": {
    "name": "ipython",
    "version": 3
   },
   "file_extension": ".py",
   "mimetype": "text/x-python",
   "name": "python",
   "nbconvert_exporter": "python",
   "pygments_lexer": "ipython3",
   "version": "3.11.7"
  }
 },
 "nbformat": 4,
 "nbformat_minor": 5
}
