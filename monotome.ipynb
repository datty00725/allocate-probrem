{
 "cells": [
  {
   "cell_type": "markdown",
   "metadata": {},
   "source": [
    "# 制約式無ver."
   ]
  },
  {
   "cell_type": "markdown",
   "metadata": {},
   "source": [
    "# "
   ]
  },
  {
   "cell_type": "code",
   "execution_count": 9,
   "metadata": {},
   "outputs": [
    {
     "name": "stdout",
     "output_type": "stream",
     "text": [
      "プレイヤー1の利得勾配 (x1 に関して):\n",
      "(2.0 - 2.0*x1)/(1.0*x2 + 1.0)\n",
      "\n",
      "プレイヤー2の利得勾配 (x2 に関して):\n",
      "1.0/(1.0*x2 + 1.0) - 1.0*(-1.0*x1**2 + 2.0*x1 + 1.0*x2)/(1.0*x2 + 1.0)**2\n",
      "\n",
      "モノトーン性のためのDSC条件:\n",
      "1.0*(-2.0*lambda1*(x1 - x1_prime)**2*(x2 + 1)*(x2_prime + 1)**2 - 1.0*lambda2*(x2 - x2_prime)*((x2 + 1)**2*(x2_prime + 1) + (x2 + 1)**2*(1.0*x1**2 - 2.0*x1 - 1.0*x2_prime) - (x2 + 1)*(x2_prime + 1)**2 + (x2_prime + 1)**2*(-1.0*x1**2 + 2.0*x1 + 1.0*x2)))/((x2 + 1)**2*(x2_prime + 1)**2) < 0\n",
      "\n",
      "評価されたDSC条件:\n",
      "True\n",
      "\n",
      "ゲームはモノトーンです: True\n",
      "\n",
      "置換に使用されたランダムなパラメータ:\n",
      "x1: 0.8986089127436608\n",
      "x2: 0.39960508516277926\n",
      "x1_prime: 0.7374356095214138\n",
      "x2_prime: 0.416273311228639\n",
      "lambda1: 1\n",
      "lambda2: 1\n"
     ]
    }
   ],
   "source": [
    "import sympy as sp\n",
    "import random\n",
    "\n",
    "# 変数の定義\n",
    "x1, x2 = sp.symbols('x1 x2')\n",
    "lambda1, lambda2 = sp.symbols('lambda1 lambda2')\n",
    "#y1=random.uniform(0.0, 1.0)\n",
    "#y2=random.uniform(0.0, 1.0)\n",
    "y1=1.\n",
    "y2=0.\n",
    "# 関数の定義\n",
    "N = -y1*x1**2 + (1 + y1)*x1 - y2*x2**2 + (1 + y2)*x2\n",
    "D = (1 - y1)*x1 + y1 + (1 - y2)*x2 + y2\n",
    "f = N / D  # 目的関数\n",
    "\n",
    "# プレイヤー1とプレイヤー2の利得勾配を計算\n",
    "v1 = sp.diff(f, x1)\n",
    "v2 = sp.diff(f, x2)\n",
    "\n",
    "# 勾配を表示\n",
    "print(\"プレイヤー1の利得勾配 (x1 に関して):\")\n",
    "print(v1)\n",
    "print(\"\\nプレイヤー2の利得勾配 (x2 に関して):\")\n",
    "print(v2)\n",
    "\n",
    "# 新しい戦略プロフィールを定義（例示用）\n",
    "x_prime = [sp.Symbol('x1_prime'), sp.Symbol('x2_prime')]\n",
    "x = [x1, x2]\n",
    "\n",
    "# DSC条件を計算\n",
    "dsc_condition = lambda1 * (v1.subs(x1, x_prime[0]) - v1) * (x_prime[0] - x1) + lambda2 * (v2.subs(x2, x_prime[1]) - v2) * (x_prime[1] - x2) < 0\n",
    "\n",
    "# 条件を簡略化\n",
    "dsc_condition = sp.simplify(dsc_condition)\n",
    "\n",
    "print(\"\\nモノトーン性のためのDSC条件:\")\n",
    "print(dsc_condition)\n",
    "\n",
    "# ランダムな数値を生成して置換\n",
    "subs = {\n",
    "    x1: random.uniform(0.0, 1.0),\n",
    "    x2: random.uniform(0.0, 1.0),\n",
    "    x_prime[0]: random.uniform(0.0, 1.0),\n",
    "    x_prime[1]: random.uniform(0.0, 1.0),\n",
    "    lambda1: 1,\n",
    "    lambda2: 1\n",
    "}\n",
    "\n",
    "# 置換された値でDSC条件を評価\n",
    "evaluated_dsc_condition = dsc_condition.subs(subs)\n",
    "print(\"\\n評価されたDSC条件:\")\n",
    "print(evaluated_dsc_condition)\n",
    "\n",
    "print(\"\\nゲームはモノトーンです:\", evaluated_dsc_condition == True)\n",
    "\n",
    "# 置換に使用されたランダムなパラメータの表示\n",
    "print(\"\\n置換に使用されたランダムなパラメータ:\")\n",
    "for key, value in subs.items():\n",
    "    print(f\"{key}: {value}\")"
   ]
  }
 ],
 "metadata": {
  "kernelspec": {
   "display_name": "base",
   "language": "python",
   "name": "python3"
  },
  "language_info": {
   "codemirror_mode": {
    "name": "ipython",
    "version": 3
   },
   "file_extension": ".py",
   "mimetype": "text/x-python",
   "name": "python",
   "nbconvert_exporter": "python",
   "pygments_lexer": "ipython3",
   "version": "3.11.7"
  }
 },
 "nbformat": 4,
 "nbformat_minor": 2
}
