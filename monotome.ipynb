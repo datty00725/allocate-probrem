{
 "cells": [
  {
   "cell_type": "code",
   "execution_count": 2,
   "metadata": {},
   "outputs": [
    {
     "name": "stdout",
     "output_type": "stream",
     "text": [
      "プレイヤー1の利得勾配 (x1 に関して):\n",
      "(1.97551360010537 - 1.95102720021075*x1)/(0.0244863998946265*x1 + 0.316634519065306*x2 + 1.65887908104007) - 0.00889806300608675*(-0.975513600105373*x1**2 + 1.97551360010537*x1 - 0.683365480934694*x2**2 + 1.68336548093469*x2)/(0.0147608105825738*x1 + 0.190872573344397*x2 + 1)**2\n",
      "\n",
      "プレイヤー2の利得勾配 (x2 に関して):\n",
      "(1.68336548093469 - 1.36673096186939*x2)/(0.0244863998946265*x1 + 0.316634519065306*x2 + 1.65887908104007) - 0.115061173250027*(-0.975513600105373*x1**2 + 1.97551360010537*x1 - 0.683365480934694*x2**2 + 1.68336548093469*x2)/(0.0147608105825738*x1 + 0.190872573344397*x2 + 1)**2\n"
     ]
    },
    {
     "ename": "KeyboardInterrupt",
     "evalue": "",
     "output_type": "error",
     "traceback": [
      "\u001b[1;31m---------------------------------------------------------------------------\u001b[0m",
      "\u001b[1;31mKeyboardInterrupt\u001b[0m                         Traceback (most recent call last)",
      "Cell \u001b[1;32mIn[2], line 32\u001b[0m\n\u001b[0;32m     29\u001b[0m dsc_condition \u001b[38;5;241m=\u001b[39m lambda1 \u001b[38;5;241m*\u001b[39m (v1\u001b[38;5;241m.\u001b[39msubs(x1, x_prime[\u001b[38;5;241m0\u001b[39m]) \u001b[38;5;241m-\u001b[39m v1) \u001b[38;5;241m*\u001b[39m (x_prime[\u001b[38;5;241m0\u001b[39m] \u001b[38;5;241m-\u001b[39m x1) \u001b[38;5;241m+\u001b[39m lambda2 \u001b[38;5;241m*\u001b[39m (v2\u001b[38;5;241m.\u001b[39msubs(x2, x_prime[\u001b[38;5;241m1\u001b[39m]) \u001b[38;5;241m-\u001b[39m v2) \u001b[38;5;241m*\u001b[39m (x_prime[\u001b[38;5;241m1\u001b[39m] \u001b[38;5;241m-\u001b[39m x2) \u001b[38;5;241m<\u001b[39m \u001b[38;5;241m0\u001b[39m\n\u001b[0;32m     31\u001b[0m \u001b[38;5;66;03m# 条件を簡略化\u001b[39;00m\n\u001b[1;32m---> 32\u001b[0m dsc_condition \u001b[38;5;241m=\u001b[39m sp\u001b[38;5;241m.\u001b[39msimplify(dsc_condition)\n\u001b[0;32m     34\u001b[0m \u001b[38;5;28mprint\u001b[39m(\u001b[38;5;124m\"\u001b[39m\u001b[38;5;130;01m\\n\u001b[39;00m\u001b[38;5;124mモノトーン性のためのDSC条件:\u001b[39m\u001b[38;5;124m\"\u001b[39m)\n\u001b[0;32m     35\u001b[0m \u001b[38;5;28mprint\u001b[39m(dsc_condition)\n",
      "File \u001b[1;32mc:\\Users\\theko\\anaconda3\\Lib\\site-packages\\sympy\\simplify\\simplify.py:601\u001b[0m, in \u001b[0;36msimplify\u001b[1;34m(expr, ratio, measure, rational, inverse, doit, **kwargs)\u001b[0m\n\u001b[0;32m    599\u001b[0m _eval_simplify \u001b[38;5;241m=\u001b[39m \u001b[38;5;28mgetattr\u001b[39m(expr, \u001b[38;5;124m'\u001b[39m\u001b[38;5;124m_eval_simplify\u001b[39m\u001b[38;5;124m'\u001b[39m, \u001b[38;5;28;01mNone\u001b[39;00m)\n\u001b[0;32m    600\u001b[0m \u001b[38;5;28;01mif\u001b[39;00m _eval_simplify \u001b[38;5;129;01mis\u001b[39;00m \u001b[38;5;129;01mnot\u001b[39;00m \u001b[38;5;28;01mNone\u001b[39;00m:\n\u001b[1;32m--> 601\u001b[0m     \u001b[38;5;28;01mreturn\u001b[39;00m _eval_simplify(\u001b[38;5;241m*\u001b[39m\u001b[38;5;241m*\u001b[39mkwargs)\n\u001b[0;32m    603\u001b[0m original_expr \u001b[38;5;241m=\u001b[39m expr \u001b[38;5;241m=\u001b[39m collect_abs(signsimp(expr))\n\u001b[0;32m    605\u001b[0m \u001b[38;5;28;01mif\u001b[39;00m \u001b[38;5;129;01mnot\u001b[39;00m \u001b[38;5;28misinstance\u001b[39m(expr, Basic) \u001b[38;5;129;01mor\u001b[39;00m \u001b[38;5;129;01mnot\u001b[39;00m expr\u001b[38;5;241m.\u001b[39margs:  \u001b[38;5;66;03m# XXX: temporary hack\u001b[39;00m\n",
      "File \u001b[1;32mc:\\Users\\theko\\anaconda3\\Lib\\site-packages\\sympy\\core\\relational.py:418\u001b[0m, in \u001b[0;36mRelational._eval_simplify\u001b[1;34m(self, **kwargs)\u001b[0m\n\u001b[0;32m    416\u001b[0m \u001b[38;5;28;01mfrom\u001b[39;00m \u001b[38;5;21;01m.\u001b[39;00m\u001b[38;5;21;01mexpr\u001b[39;00m \u001b[38;5;28;01mimport\u001b[39;00m Expr\n\u001b[0;32m    417\u001b[0m r \u001b[38;5;241m=\u001b[39m \u001b[38;5;28mself\u001b[39m\n\u001b[1;32m--> 418\u001b[0m r \u001b[38;5;241m=\u001b[39m r\u001b[38;5;241m.\u001b[39mfunc(\u001b[38;5;241m*\u001b[39m[i\u001b[38;5;241m.\u001b[39msimplify(\u001b[38;5;241m*\u001b[39m\u001b[38;5;241m*\u001b[39mkwargs) \u001b[38;5;28;01mfor\u001b[39;00m i \u001b[38;5;129;01min\u001b[39;00m r\u001b[38;5;241m.\u001b[39margs])\n\u001b[0;32m    419\u001b[0m \u001b[38;5;28;01mif\u001b[39;00m r\u001b[38;5;241m.\u001b[39mis_Relational:\n\u001b[0;32m    420\u001b[0m     \u001b[38;5;28;01mif\u001b[39;00m \u001b[38;5;129;01mnot\u001b[39;00m \u001b[38;5;28misinstance\u001b[39m(r\u001b[38;5;241m.\u001b[39mlhs, Expr) \u001b[38;5;129;01mor\u001b[39;00m \u001b[38;5;129;01mnot\u001b[39;00m \u001b[38;5;28misinstance\u001b[39m(r\u001b[38;5;241m.\u001b[39mrhs, Expr):\n",
      "File \u001b[1;32mc:\\Users\\theko\\anaconda3\\Lib\\site-packages\\sympy\\core\\relational.py:418\u001b[0m, in \u001b[0;36m<listcomp>\u001b[1;34m(.0)\u001b[0m\n\u001b[0;32m    416\u001b[0m \u001b[38;5;28;01mfrom\u001b[39;00m \u001b[38;5;21;01m.\u001b[39;00m\u001b[38;5;21;01mexpr\u001b[39;00m \u001b[38;5;28;01mimport\u001b[39;00m Expr\n\u001b[0;32m    417\u001b[0m r \u001b[38;5;241m=\u001b[39m \u001b[38;5;28mself\u001b[39m\n\u001b[1;32m--> 418\u001b[0m r \u001b[38;5;241m=\u001b[39m r\u001b[38;5;241m.\u001b[39mfunc(\u001b[38;5;241m*\u001b[39m[i\u001b[38;5;241m.\u001b[39msimplify(\u001b[38;5;241m*\u001b[39m\u001b[38;5;241m*\u001b[39mkwargs) \u001b[38;5;28;01mfor\u001b[39;00m i \u001b[38;5;129;01min\u001b[39;00m r\u001b[38;5;241m.\u001b[39margs])\n\u001b[0;32m    419\u001b[0m \u001b[38;5;28;01mif\u001b[39;00m r\u001b[38;5;241m.\u001b[39mis_Relational:\n\u001b[0;32m    420\u001b[0m     \u001b[38;5;28;01mif\u001b[39;00m \u001b[38;5;129;01mnot\u001b[39;00m \u001b[38;5;28misinstance\u001b[39m(r\u001b[38;5;241m.\u001b[39mlhs, Expr) \u001b[38;5;129;01mor\u001b[39;00m \u001b[38;5;129;01mnot\u001b[39;00m \u001b[38;5;28misinstance\u001b[39m(r\u001b[38;5;241m.\u001b[39mrhs, Expr):\n",
      "File \u001b[1;32mc:\\Users\\theko\\anaconda3\\Lib\\site-packages\\sympy\\core\\basic.py:1853\u001b[0m, in \u001b[0;36mBasic.simplify\u001b[1;34m(self, **kwargs)\u001b[0m\n\u001b[0;32m   1851\u001b[0m \u001b[38;5;250m\u001b[39m\u001b[38;5;124;03m\"\"\"See the simplify function in sympy.simplify\"\"\"\u001b[39;00m\n\u001b[0;32m   1852\u001b[0m \u001b[38;5;28;01mfrom\u001b[39;00m \u001b[38;5;21;01msympy\u001b[39;00m\u001b[38;5;21;01m.\u001b[39;00m\u001b[38;5;21;01msimplify\u001b[39;00m\u001b[38;5;21;01m.\u001b[39;00m\u001b[38;5;21;01msimplify\u001b[39;00m \u001b[38;5;28;01mimport\u001b[39;00m simplify\n\u001b[1;32m-> 1853\u001b[0m \u001b[38;5;28;01mreturn\u001b[39;00m simplify(\u001b[38;5;28mself\u001b[39m, \u001b[38;5;241m*\u001b[39m\u001b[38;5;241m*\u001b[39mkwargs)\n",
      "File \u001b[1;32mc:\\Users\\theko\\anaconda3\\Lib\\site-packages\\sympy\\simplify\\simplify.py:645\u001b[0m, in \u001b[0;36msimplify\u001b[1;34m(expr, ratio, measure, rational, inverse, doit, **kwargs)\u001b[0m\n\u001b[0;32m    643\u001b[0m expr \u001b[38;5;241m=\u001b[39m Mul(\u001b[38;5;241m*\u001b[39mpowsimp(expr)\u001b[38;5;241m.\u001b[39mas_content_primitive())\n\u001b[0;32m    644\u001b[0m _e \u001b[38;5;241m=\u001b[39m cancel(expr)\n\u001b[1;32m--> 645\u001b[0m expr1 \u001b[38;5;241m=\u001b[39m shorter(_e, _mexpand(_e)\u001b[38;5;241m.\u001b[39mcancel())  \u001b[38;5;66;03m# issue 6829\u001b[39;00m\n\u001b[0;32m    646\u001b[0m expr2 \u001b[38;5;241m=\u001b[39m shorter(together(expr, deep\u001b[38;5;241m=\u001b[39m\u001b[38;5;28;01mTrue\u001b[39;00m), together(expr1, deep\u001b[38;5;241m=\u001b[39m\u001b[38;5;28;01mTrue\u001b[39;00m))\n\u001b[0;32m    648\u001b[0m \u001b[38;5;28;01mif\u001b[39;00m ratio \u001b[38;5;129;01mis\u001b[39;00m S\u001b[38;5;241m.\u001b[39mInfinity:\n",
      "File \u001b[1;32mc:\\Users\\theko\\anaconda3\\Lib\\site-packages\\sympy\\core\\function.py:2828\u001b[0m, in \u001b[0;36m_mexpand\u001b[1;34m(expr, recursive)\u001b[0m\n\u001b[0;32m   2826\u001b[0m was \u001b[38;5;241m=\u001b[39m \u001b[38;5;28;01mNone\u001b[39;00m\n\u001b[0;32m   2827\u001b[0m \u001b[38;5;28;01mwhile\u001b[39;00m was \u001b[38;5;241m!=\u001b[39m expr:\n\u001b[1;32m-> 2828\u001b[0m     was, expr \u001b[38;5;241m=\u001b[39m expr, expand_mul(expand_multinomial(expr))\n\u001b[0;32m   2829\u001b[0m     \u001b[38;5;28;01mif\u001b[39;00m \u001b[38;5;129;01mnot\u001b[39;00m recursive:\n\u001b[0;32m   2830\u001b[0m         \u001b[38;5;28;01mbreak\u001b[39;00m\n",
      "File \u001b[1;32mc:\\Users\\theko\\anaconda3\\Lib\\site-packages\\sympy\\core\\function.py:2851\u001b[0m, in \u001b[0;36mexpand_mul\u001b[1;34m(expr, deep)\u001b[0m\n\u001b[0;32m   2837\u001b[0m \u001b[38;5;28;01mdef\u001b[39;00m \u001b[38;5;21mexpand_mul\u001b[39m(expr, deep\u001b[38;5;241m=\u001b[39m\u001b[38;5;28;01mTrue\u001b[39;00m):\n\u001b[0;32m   2838\u001b[0m \u001b[38;5;250m    \u001b[39m\u001b[38;5;124;03m\"\"\"\u001b[39;00m\n\u001b[0;32m   2839\u001b[0m \u001b[38;5;124;03m    Wrapper around expand that only uses the mul hint.  See the expand\u001b[39;00m\n\u001b[0;32m   2840\u001b[0m \u001b[38;5;124;03m    docstring for more information.\u001b[39;00m\n\u001b[1;32m   (...)\u001b[0m\n\u001b[0;32m   2849\u001b[0m \n\u001b[0;32m   2850\u001b[0m \u001b[38;5;124;03m    \"\"\"\u001b[39;00m\n\u001b[1;32m-> 2851\u001b[0m     \u001b[38;5;28;01mreturn\u001b[39;00m sympify(expr)\u001b[38;5;241m.\u001b[39mexpand(deep\u001b[38;5;241m=\u001b[39mdeep, mul\u001b[38;5;241m=\u001b[39m\u001b[38;5;28;01mTrue\u001b[39;00m, power_exp\u001b[38;5;241m=\u001b[39m\u001b[38;5;28;01mFalse\u001b[39;00m,\n\u001b[0;32m   2852\u001b[0m     power_base\u001b[38;5;241m=\u001b[39m\u001b[38;5;28;01mFalse\u001b[39;00m, basic\u001b[38;5;241m=\u001b[39m\u001b[38;5;28;01mFalse\u001b[39;00m, multinomial\u001b[38;5;241m=\u001b[39m\u001b[38;5;28;01mFalse\u001b[39;00m, log\u001b[38;5;241m=\u001b[39m\u001b[38;5;28;01mFalse\u001b[39;00m)\n",
      "File \u001b[1;32mc:\\Users\\theko\\anaconda3\\Lib\\site-packages\\sympy\\core\\cache.py:72\u001b[0m, in \u001b[0;36m__cacheit.<locals>.func_wrapper.<locals>.wrapper\u001b[1;34m(*args, **kwargs)\u001b[0m\n\u001b[0;32m     69\u001b[0m \u001b[38;5;129m@wraps\u001b[39m(func)\n\u001b[0;32m     70\u001b[0m \u001b[38;5;28;01mdef\u001b[39;00m \u001b[38;5;21mwrapper\u001b[39m(\u001b[38;5;241m*\u001b[39margs, \u001b[38;5;241m*\u001b[39m\u001b[38;5;241m*\u001b[39mkwargs):\n\u001b[0;32m     71\u001b[0m     \u001b[38;5;28;01mtry\u001b[39;00m:\n\u001b[1;32m---> 72\u001b[0m         retval \u001b[38;5;241m=\u001b[39m cfunc(\u001b[38;5;241m*\u001b[39margs, \u001b[38;5;241m*\u001b[39m\u001b[38;5;241m*\u001b[39mkwargs)\n\u001b[0;32m     73\u001b[0m     \u001b[38;5;28;01mexcept\u001b[39;00m \u001b[38;5;167;01mTypeError\u001b[39;00m \u001b[38;5;28;01mas\u001b[39;00m e:\n\u001b[0;32m     74\u001b[0m         \u001b[38;5;28;01mif\u001b[39;00m \u001b[38;5;129;01mnot\u001b[39;00m e\u001b[38;5;241m.\u001b[39margs \u001b[38;5;129;01mor\u001b[39;00m \u001b[38;5;129;01mnot\u001b[39;00m e\u001b[38;5;241m.\u001b[39margs[\u001b[38;5;241m0\u001b[39m]\u001b[38;5;241m.\u001b[39mstartswith(\u001b[38;5;124m'\u001b[39m\u001b[38;5;124munhashable type:\u001b[39m\u001b[38;5;124m'\u001b[39m):\n",
      "File \u001b[1;32mc:\\Users\\theko\\anaconda3\\Lib\\site-packages\\sympy\\core\\expr.py:3690\u001b[0m, in \u001b[0;36mExpr.expand\u001b[1;34m(self, deep, modulus, power_base, power_exp, mul, log, multinomial, basic, **hints)\u001b[0m\n\u001b[0;32m   3687\u001b[0m     expr, _ \u001b[38;5;241m=\u001b[39m Expr\u001b[38;5;241m.\u001b[39m_expand_hint(\n\u001b[0;32m   3688\u001b[0m         expr, \u001b[38;5;124m'\u001b[39m\u001b[38;5;124m_eval_expand_multinomial\u001b[39m\u001b[38;5;124m'\u001b[39m, deep\u001b[38;5;241m=\u001b[39mdeep, \u001b[38;5;241m*\u001b[39m\u001b[38;5;241m*\u001b[39mhints)\n\u001b[0;32m   3689\u001b[0m \u001b[38;5;28;01mif\u001b[39;00m hints\u001b[38;5;241m.\u001b[39mget(\u001b[38;5;124m'\u001b[39m\u001b[38;5;124mmul\u001b[39m\u001b[38;5;124m'\u001b[39m, \u001b[38;5;28;01mFalse\u001b[39;00m):\n\u001b[1;32m-> 3690\u001b[0m     expr, _ \u001b[38;5;241m=\u001b[39m Expr\u001b[38;5;241m.\u001b[39m_expand_hint(\n\u001b[0;32m   3691\u001b[0m         expr, \u001b[38;5;124m'\u001b[39m\u001b[38;5;124m_eval_expand_mul\u001b[39m\u001b[38;5;124m'\u001b[39m, deep\u001b[38;5;241m=\u001b[39mdeep, \u001b[38;5;241m*\u001b[39m\u001b[38;5;241m*\u001b[39mhints)\n\u001b[0;32m   3692\u001b[0m \u001b[38;5;28;01mif\u001b[39;00m hints\u001b[38;5;241m.\u001b[39mget(\u001b[38;5;124m'\u001b[39m\u001b[38;5;124mlog\u001b[39m\u001b[38;5;124m'\u001b[39m, \u001b[38;5;28;01mFalse\u001b[39;00m):\n\u001b[0;32m   3693\u001b[0m     expr, _ \u001b[38;5;241m=\u001b[39m Expr\u001b[38;5;241m.\u001b[39m_expand_hint(\n\u001b[0;32m   3694\u001b[0m         expr, \u001b[38;5;124m'\u001b[39m\u001b[38;5;124m_eval_expand_log\u001b[39m\u001b[38;5;124m'\u001b[39m, deep\u001b[38;5;241m=\u001b[39mdeep, \u001b[38;5;241m*\u001b[39m\u001b[38;5;241m*\u001b[39mhints)\n",
      "File \u001b[1;32mc:\\Users\\theko\\anaconda3\\Lib\\site-packages\\sympy\\core\\expr.py:3615\u001b[0m, in \u001b[0;36mExpr._expand_hint\u001b[1;34m(expr, hint, deep, **hints)\u001b[0m\n\u001b[0;32m   3613\u001b[0m sargs \u001b[38;5;241m=\u001b[39m []\n\u001b[0;32m   3614\u001b[0m \u001b[38;5;28;01mfor\u001b[39;00m arg \u001b[38;5;129;01min\u001b[39;00m expr\u001b[38;5;241m.\u001b[39margs:\n\u001b[1;32m-> 3615\u001b[0m     arg, arghit \u001b[38;5;241m=\u001b[39m Expr\u001b[38;5;241m.\u001b[39m_expand_hint(arg, hint, \u001b[38;5;241m*\u001b[39m\u001b[38;5;241m*\u001b[39mhints)\n\u001b[0;32m   3616\u001b[0m     hit \u001b[38;5;241m|\u001b[39m\u001b[38;5;241m=\u001b[39m arghit\n\u001b[0;32m   3617\u001b[0m     sargs\u001b[38;5;241m.\u001b[39mappend(arg)\n",
      "File \u001b[1;32mc:\\Users\\theko\\anaconda3\\Lib\\site-packages\\sympy\\core\\expr.py:3615\u001b[0m, in \u001b[0;36mExpr._expand_hint\u001b[1;34m(expr, hint, deep, **hints)\u001b[0m\n\u001b[0;32m   3613\u001b[0m sargs \u001b[38;5;241m=\u001b[39m []\n\u001b[0;32m   3614\u001b[0m \u001b[38;5;28;01mfor\u001b[39;00m arg \u001b[38;5;129;01min\u001b[39;00m expr\u001b[38;5;241m.\u001b[39margs:\n\u001b[1;32m-> 3615\u001b[0m     arg, arghit \u001b[38;5;241m=\u001b[39m Expr\u001b[38;5;241m.\u001b[39m_expand_hint(arg, hint, \u001b[38;5;241m*\u001b[39m\u001b[38;5;241m*\u001b[39mhints)\n\u001b[0;32m   3616\u001b[0m     hit \u001b[38;5;241m|\u001b[39m\u001b[38;5;241m=\u001b[39m arghit\n\u001b[0;32m   3617\u001b[0m     sargs\u001b[38;5;241m.\u001b[39mappend(arg)\n",
      "    \u001b[1;31m[... skipping similar frames: Expr._expand_hint at line 3615 (1 times)]\u001b[0m\n",
      "File \u001b[1;32mc:\\Users\\theko\\anaconda3\\Lib\\site-packages\\sympy\\core\\expr.py:3615\u001b[0m, in \u001b[0;36mExpr._expand_hint\u001b[1;34m(expr, hint, deep, **hints)\u001b[0m\n\u001b[0;32m   3613\u001b[0m sargs \u001b[38;5;241m=\u001b[39m []\n\u001b[0;32m   3614\u001b[0m \u001b[38;5;28;01mfor\u001b[39;00m arg \u001b[38;5;129;01min\u001b[39;00m expr\u001b[38;5;241m.\u001b[39margs:\n\u001b[1;32m-> 3615\u001b[0m     arg, arghit \u001b[38;5;241m=\u001b[39m Expr\u001b[38;5;241m.\u001b[39m_expand_hint(arg, hint, \u001b[38;5;241m*\u001b[39m\u001b[38;5;241m*\u001b[39mhints)\n\u001b[0;32m   3616\u001b[0m     hit \u001b[38;5;241m|\u001b[39m\u001b[38;5;241m=\u001b[39m arghit\n\u001b[0;32m   3617\u001b[0m     sargs\u001b[38;5;241m.\u001b[39mappend(arg)\n",
      "File \u001b[1;32mc:\\Users\\theko\\anaconda3\\Lib\\site-packages\\sympy\\core\\expr.py:3614\u001b[0m, in \u001b[0;36mExpr._expand_hint\u001b[1;34m(expr, hint, deep, **hints)\u001b[0m\n\u001b[0;32m   3612\u001b[0m \u001b[38;5;28;01mif\u001b[39;00m deep \u001b[38;5;129;01mand\u001b[39;00m \u001b[38;5;28mgetattr\u001b[39m(expr, \u001b[38;5;124m'\u001b[39m\u001b[38;5;124margs\u001b[39m\u001b[38;5;124m'\u001b[39m, ()) \u001b[38;5;129;01mand\u001b[39;00m \u001b[38;5;129;01mnot\u001b[39;00m expr\u001b[38;5;241m.\u001b[39mis_Atom:\n\u001b[0;32m   3613\u001b[0m     sargs \u001b[38;5;241m=\u001b[39m []\n\u001b[1;32m-> 3614\u001b[0m     \u001b[38;5;28;01mfor\u001b[39;00m arg \u001b[38;5;129;01min\u001b[39;00m expr\u001b[38;5;241m.\u001b[39margs:\n\u001b[0;32m   3615\u001b[0m         arg, arghit \u001b[38;5;241m=\u001b[39m Expr\u001b[38;5;241m.\u001b[39m_expand_hint(arg, hint, \u001b[38;5;241m*\u001b[39m\u001b[38;5;241m*\u001b[39mhints)\n\u001b[0;32m   3616\u001b[0m         hit \u001b[38;5;241m|\u001b[39m\u001b[38;5;241m=\u001b[39m arghit\n",
      "File \u001b[1;32mc:\\Users\\theko\\anaconda3\\Lib\\site-packages\\sympy\\core\\basic.py:786\u001b[0m, in \u001b[0;36mBasic.args\u001b[1;34m(self)\u001b[0m\n\u001b[0;32m    762\u001b[0m \u001b[38;5;250m    \u001b[39m\u001b[38;5;124;03m\"\"\"\u001b[39;00m\n\u001b[0;32m    763\u001b[0m \u001b[38;5;124;03m    The top-level function in an expression.\u001b[39;00m\n\u001b[0;32m    764\u001b[0m \n\u001b[1;32m   (...)\u001b[0m\n\u001b[0;32m    782\u001b[0m \n\u001b[0;32m    783\u001b[0m \u001b[38;5;124;03m    \"\"\"\u001b[39;00m\n\u001b[0;32m    784\u001b[0m     \u001b[38;5;28;01mreturn\u001b[39;00m \u001b[38;5;28mself\u001b[39m\u001b[38;5;241m.\u001b[39m\u001b[38;5;18m__class__\u001b[39m\n\u001b[1;32m--> 786\u001b[0m \u001b[38;5;129m@property\u001b[39m\n\u001b[0;32m    787\u001b[0m \u001b[38;5;28;01mdef\u001b[39;00m \u001b[38;5;21margs\u001b[39m(\u001b[38;5;28mself\u001b[39m) \u001b[38;5;241m-\u001b[39m\u001b[38;5;241m>\u001b[39m \u001b[38;5;28mtuple\u001b[39m[Basic, \u001b[38;5;241m.\u001b[39m\u001b[38;5;241m.\u001b[39m\u001b[38;5;241m.\u001b[39m]:\n\u001b[0;32m    788\u001b[0m \u001b[38;5;250m    \u001b[39m\u001b[38;5;124;03m\"\"\"Returns a tuple of arguments of 'self'.\u001b[39;00m\n\u001b[0;32m    789\u001b[0m \n\u001b[0;32m    790\u001b[0m \u001b[38;5;124;03m    Examples\u001b[39;00m\n\u001b[1;32m   (...)\u001b[0m\n\u001b[0;32m    814\u001b[0m \u001b[38;5;124;03m    change the interface in the future if needed).\u001b[39;00m\n\u001b[0;32m    815\u001b[0m \u001b[38;5;124;03m    \"\"\"\u001b[39;00m\n\u001b[0;32m    816\u001b[0m     \u001b[38;5;28;01mreturn\u001b[39;00m \u001b[38;5;28mself\u001b[39m\u001b[38;5;241m.\u001b[39m_args\n",
      "\u001b[1;31mKeyboardInterrupt\u001b[0m: "
     ]
    }
   ],
   "source": [
    "import sympy as sp\n",
    "import random\n",
    "\n",
    "# 変数の定義\n",
    "x1, x2 = sp.symbols('x1 x2')\n",
    "lambda1, lambda2 = sp.symbols('lambda1 lambda2')\n",
    "#y1=random.uniform(0.0, 1.0)\n",
    "#y2=random.uniform(0.0, 1.0)\n",
    "y1=0.\n",
    "y2=1.\n",
    "# 関数の定義\n",
    "N = -y1*x1**2 + (1 + y1)*x1 - y2*x2**2 + (1 + y2)*x2\n",
    "D = (1 - y1)*x1 + y1 + (1 - y2)*x2 + y2\n",
    "f = N / D  # 目的関数\n",
    "\n",
    "# プレイヤー1とプレイヤー2の利得勾配を計算\n",
    "v1 = sp.diff(f, x1)\n",
    "v2 = sp.diff(f, x2)\n",
    "\n",
    "# 勾配を表示\n",
    "print(\"プレイヤー1の利得勾配 (x1 に関して):\")\n",
    "print(v1)\n",
    "print(\"\\nプレイヤー2の利得勾配 (x2 に関して):\")\n",
    "print(v2)\n",
    "\n",
    "# 新しい戦略プロフィールを定義（例示用）\n",
    "x_prime = [sp.Symbol('x1_prime'), sp.Symbol('x2_prime')]\n",
    "x = [x1, x2]\n",
    "\n",
    "# DSC条件を計算\n",
    "dsc_condition = lambda1 * (v1.subs(x1, x_prime[0]) - v1) * (x_prime[0] - x1) + lambda2 * (v2.subs(x2, x_prime[1]) - v2) * (x_prime[1] - x2) < 0\n",
    "\n",
    "# 条件を簡略化\n",
    "dsc_condition = sp.simplify(dsc_condition)\n",
    "\n",
    "print(\"\\nモノトーン性のためのDSC条件:\")\n",
    "print(dsc_condition)\n",
    "\n",
    "# ランダムな数値を生成して置換\n",
    "subs = {\n",
    "    x1: random.uniform(0.0, 1.0),\n",
    "    x2: random.uniform(0.0, 1.0),\n",
    "    x_prime[0]: random.uniform(0.0, 1.0),\n",
    "    x_prime[1]: random.uniform(0.0, 1.0),\n",
    "    lambda1: 1,\n",
    "    lambda2: 1\n",
    "}\n",
    "\n",
    "# 置換された値でDSC条件を評価\n",
    "evaluated_dsc_condition = dsc_condition.subs(subs)\n",
    "print(\"\\n評価されたDSC条件:\")\n",
    "print(evaluated_dsc_condition)\n",
    "\n",
    "print(\"\\nゲームはモノトーンです:\", evaluated_dsc_condition == True)\n",
    "\n",
    "# 置換に使用されたランダムなパラメータの表示\n",
    "print(\"\\n置換に使用されたランダムなパラメータ:\")\n",
    "for key, value in subs.items():\n",
    "    print(f\"{key}: {value}\")"
   ]
  }
 ],
 "metadata": {
  "kernelspec": {
   "display_name": "base",
   "language": "python",
   "name": "python3"
  },
  "language_info": {
   "codemirror_mode": {
    "name": "ipython",
    "version": 3
   },
   "file_extension": ".py",
   "mimetype": "text/x-python",
   "name": "python",
   "nbconvert_exporter": "python",
   "pygments_lexer": "ipython3",
   "version": "3.11.7"
  }
 },
 "nbformat": 4,
 "nbformat_minor": 2
}
