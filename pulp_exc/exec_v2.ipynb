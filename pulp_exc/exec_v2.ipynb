{
 "cells": [
  {
   "cell_type": "code",
   "execution_count": 29,
   "id": "ffdd1d2f",
   "metadata": {},
   "outputs": [
    {
     "data": {
      "text/plain": [
       "<module 'scflp_v3' from 'c:\\\\Users\\\\theko\\\\Desktop\\\\UEC\\\\岩崎研\\\\allocate-probrem\\\\pulp_exc\\\\scflp_v3.py'>"
      ]
     },
     "execution_count": 29,
     "metadata": {},
     "output_type": "execute_result"
    }
   ],
   "source": [
    "import scflp_v3 as scflp\n",
    "\n",
    "import importlib\n",
    "importlib.reload(scflp)"
   ]
  },
  {
   "cell_type": "code",
   "execution_count": null,
   "id": "cb315de0",
   "metadata": {},
   "outputs": [],
   "source": [
    "data = scflp.make_random_instance(I=20, J=20, p=2, r=3, beta=0.1, seed=0)"
   ]
  },
  {
   "cell_type": "code",
   "execution_count": 31,
   "id": "067663df",
   "metadata": {},
   "outputs": [
    {
     "name": "stdout",
     "output_type": "stream",
     "text": [
      "════════════════════════════════════════════════════════════════════════════════\n",
      "🚀 Branch-and-Cut（分枝＋カット）開始\n",
      "════════════════════════════════════════════════════════════════════════════════\n",
      "────────────────────────────────────────────────────────────────────────────────\n",
      "➤ 🌿 ノード展開: depth=0, |fix1|=0, |fix0|=0\n",
      "➤    · ノード(depth=0): θ̂=1.000000, L=0.446380, viol=5.536e-01\n",
      "✂️  カット追加: BULGE + SUBMOD\n",
      "➤    · ノード(depth=0): θ̂=0.817216, L=0.405081, viol=4.121e-01\n",
      "✂️  カット追加: BULGE + SUBMOD\n",
      "➤    · ノード(depth=0): θ̂=0.674259, L=0.418015, viol=2.562e-01\n",
      "✂️  カット追加: BULGE + SUBMOD\n",
      "➤    · ノード(depth=0): θ̂=0.617367, L=0.423015, viol=1.944e-01\n",
      "✂️  カット追加: BULGE + SUBMOD\n",
      "➤    · ノード(depth=0): θ̂=0.505395, L=0.458191, viol=4.720e-02\n",
      "✂️  カット追加: BULGE + SUBMOD\n",
      "➤    · ノード(depth=0): θ̂=0.491200, L=0.456043, viol=3.516e-02\n",
      "✂️  カット追加: BULGE + SUBMOD\n",
      "➤    · ノード(depth=0): θ̂=0.488741, L=0.377558, viol=1.112e-01\n",
      "✂️  カット追加: BULGE + SUBMOD\n",
      "➤    · ノード(depth=0): θ̂=0.477761, L=0.463930, viol=1.383e-02\n",
      "✂️  カット追加: BULGE + SUBMOD\n",
      "➤    · ノード(depth=0): θ̂=0.469908, L=0.464345, viol=5.563e-03\n",
      "✂️  カット追加: BULGE + SUBMOD\n",
      "➤    · ノード(depth=0): θ̂=0.469316, L=0.463168, viol=6.148e-03\n",
      "✂️  カット追加: BULGE + SUBMOD\n",
      "➤    · ノード(depth=0): θ̂=0.466637, L=0.401480, viol=6.516e-02\n",
      "✂️  カット追加: BULGE + SUBMOD\n",
      "➤    · ノード(depth=0): θ̂=0.463930, L=0.463930, viol=1.873e-10\n",
      "✂️  カット追加: BULGE + SUBMOD\n",
      "➤    · ノード(depth=0): θ̂=0.463930, L=0.463930, viol=1.873e-10\n",
      "✂️  カット追加: BULGE + SUBMOD\n",
      "➤    · ノード(depth=0): θ̂=0.463930, L=0.463930, viol=1.873e-10\n",
      "✂️  カット追加: BULGE + SUBMOD\n",
      "➤    · ノード(depth=0): θ̂=0.463930, L=0.463930, viol=1.873e-10\n",
      "✂️  カット追加: BULGE + SUBMOD\n",
      "➤    · ノード(depth=0): θ̂=0.463930, L=0.463930, viol=1.873e-10\n",
      "✂️  カット追加: BULGE + SUBMOD\n",
      "➤    · ノード(depth=0): θ̂=0.463930, L=0.463930, viol=1.873e-10\n",
      "✂️  カット追加: BULGE + SUBMOD\n",
      "➤    · ノード(depth=0): θ̂=0.463930, L=0.463930, viol=1.873e-10\n",
      "✂️  カット追加: BULGE + SUBMOD\n",
      "➤    · ノード(depth=0): θ̂=0.463930, L=0.463930, viol=1.873e-10\n",
      "✂️  カット追加: BULGE + SUBMOD\n",
      "➤    · ノード(depth=0): θ̂=0.463930, L=0.463930, viol=1.873e-10\n",
      "✂️  カット追加: BULGE + SUBMOD\n",
      "➤    · ノード(depth=0): θ̂=0.463930, L=0.463930, viol=1.873e-10\n",
      "✂️  カット追加: BULGE + SUBMOD\n",
      "➤    · ノード(depth=0): θ̂=0.463930, L=0.463930, viol=1.873e-10\n",
      "✂️  カット追加: BULGE + SUBMOD\n"
     ]
    },
    {
     "ename": "KeyboardInterrupt",
     "evalue": "",
     "output_type": "error",
     "traceback": [
      "\u001b[1;31m---------------------------------------------------------------------------\u001b[0m",
      "\u001b[1;31mKeyboardInterrupt\u001b[0m                         Traceback (most recent call last)",
      "Cell \u001b[1;32mIn[31], line 1\u001b[0m\n\u001b[1;32m----> 1\u001b[0m result \u001b[38;5;241m=\u001b[39m scflp\u001b[38;5;241m.\u001b[39mscflp_branch_and_cut(\n\u001b[0;32m      2\u001b[0m     data,\n\u001b[0;32m      3\u001b[0m     max_nodes\u001b[38;5;241m=\u001b[39m\u001b[38;5;241m20000\u001b[39m,\n\u001b[0;32m      4\u001b[0m     max_rounds_per_node\u001b[38;5;241m=\u001b[39m\u001b[38;5;241m100\u001b[39m,\n\u001b[0;32m      5\u001b[0m     tol\u001b[38;5;241m=\u001b[39m\u001b[38;5;241m1e-12\u001b[39m,\n\u001b[0;32m      6\u001b[0m     pulp_solver\u001b[38;5;241m=\u001b[39m\u001b[38;5;124m\"\u001b[39m\u001b[38;5;124mCBC\u001b[39m\u001b[38;5;124m\"\u001b[39m,    \u001b[38;5;66;03m# GLPK も可\u001b[39;00m\n\u001b[0;32m      7\u001b[0m     node_selection\u001b[38;5;241m=\u001b[39m\u001b[38;5;124m\"\u001b[39m\u001b[38;5;124mbestbound\u001b[39m\u001b[38;5;124m\"\u001b[39m, \u001b[38;5;66;03m# \"bestbound\" も選べる\u001b[39;00m\n\u001b[0;32m      8\u001b[0m     log_level\u001b[38;5;241m=\u001b[39m\u001b[38;5;124m\"\u001b[39m\u001b[38;5;124mdebug\u001b[39m\u001b[38;5;124m\"\u001b[39m,     \u001b[38;5;66;03m# \"debug\" なら詳細ログ\u001b[39;00m\n\u001b[0;32m      9\u001b[0m )\n",
      "File \u001b[1;32mc:\\Users\\theko\\Desktop\\UEC\\岩崎研\\allocate-probrem\\pulp_exc\\scflp_v3.py:774\u001b[0m, in \u001b[0;36mscflp_branch_and_cut\u001b[1;34m(data, max_nodes, max_rounds_per_node, tol, pulp_solver, node_selection, log_level)\u001b[0m\n\u001b[0;32m    771\u001b[0m     \u001b[38;5;28;01mcontinue\u001b[39;00m\n\u001b[0;32m    773\u001b[0m \u001b[38;5;66;03m# ノード内で cutting-plane を収束させる\u001b[39;00m\n\u001b[1;32m--> 774\u001b[0m info \u001b[38;5;241m=\u001b[39m node_solve_until_no_violation(\n\u001b[0;32m    775\u001b[0m     data\u001b[38;5;241m=\u001b[39mdata,\n\u001b[0;32m    776\u001b[0m     node\u001b[38;5;241m=\u001b[39mnode,\n\u001b[0;32m    777\u001b[0m     pulp_solver\u001b[38;5;241m=\u001b[39mpulp_solver,\n\u001b[0;32m    778\u001b[0m     tol\u001b[38;5;241m=\u001b[39mtol,\n\u001b[0;32m    779\u001b[0m     max_cuts_per_node\u001b[38;5;241m=\u001b[39mmax_rounds_per_node,\n\u001b[0;32m    780\u001b[0m     log_level\u001b[38;5;241m=\u001b[39mlog_level,\n\u001b[0;32m    781\u001b[0m )\n\u001b[0;32m    782\u001b[0m theta_hat \u001b[38;5;241m=\u001b[39m info[\u001b[38;5;124m\"\u001b[39m\u001b[38;5;124mtheta_hat\u001b[39m\u001b[38;5;124m\"\u001b[39m]\n\u001b[0;32m    783\u001b[0m x_hat \u001b[38;5;241m=\u001b[39m info[\u001b[38;5;124m\"\u001b[39m\u001b[38;5;124mx_hat\u001b[39m\u001b[38;5;124m\"\u001b[39m]\n",
      "File \u001b[1;32mc:\\Users\\theko\\Desktop\\UEC\\岩崎研\\allocate-probrem\\pulp_exc\\scflp_v3.py:581\u001b[0m, in \u001b[0;36mnode_solve_until_no_violation\u001b[1;34m(data, node, pulp_solver, tol, max_cuts_per_node, log_level)\u001b[0m\n\u001b[0;32m    572\u001b[0m \u001b[38;5;28;01mfor\u001b[39;00m _ \u001b[38;5;129;01min\u001b[39;00m \u001b[38;5;28mrange\u001b[39m(max_cuts_per_node):\n\u001b[0;32m    573\u001b[0m     model, xvars, theta, solver \u001b[38;5;241m=\u001b[39m build_master_with_fixings_and_cuts(\n\u001b[0;32m    574\u001b[0m         nJ\u001b[38;5;241m=\u001b[39mJ,\n\u001b[0;32m    575\u001b[0m         p\u001b[38;5;241m=\u001b[39m\u001b[38;5;28mint\u001b[39m(data[\u001b[38;5;124m\"\u001b[39m\u001b[38;5;124mp\u001b[39m\u001b[38;5;124m\"\u001b[39m]),\n\u001b[1;32m   (...)\u001b[0m\n\u001b[0;32m    579\u001b[0m         solver_name\u001b[38;5;241m=\u001b[39mpulp_solver,\n\u001b[0;32m    580\u001b[0m     )\n\u001b[1;32m--> 581\u001b[0m     status \u001b[38;5;241m=\u001b[39m solve_master(model, solver)\n\u001b[0;32m    582\u001b[0m     x_hat, theta_hat \u001b[38;5;241m=\u001b[39m get_values_pulp(xvars, theta)\n\u001b[0;32m    583\u001b[0m     is_int \u001b[38;5;241m=\u001b[39m \u001b[38;5;28mbool\u001b[39m(np\u001b[38;5;241m.\u001b[39mall((x_hat \u001b[38;5;241m<\u001b[39m \u001b[38;5;241m1e-6\u001b[39m) \u001b[38;5;241m|\u001b[39m (x_hat \u001b[38;5;241m>\u001b[39m \u001b[38;5;241m1\u001b[39m \u001b[38;5;241m-\u001b[39m \u001b[38;5;241m1e-6\u001b[39m)))\n",
      "File \u001b[1;32mc:\\Users\\theko\\Desktop\\UEC\\岩崎研\\allocate-probrem\\pulp_exc\\scflp_v3.py:239\u001b[0m, in \u001b[0;36msolve_master\u001b[1;34m(model, solver)\u001b[0m\n\u001b[0;32m    238\u001b[0m \u001b[38;5;28;01mdef\u001b[39;00m \u001b[38;5;21msolve_master\u001b[39m(model, solver) \u001b[38;5;241m-\u001b[39m\u001b[38;5;241m>\u001b[39m \u001b[38;5;28mint\u001b[39m:\n\u001b[1;32m--> 239\u001b[0m     \u001b[38;5;28;01mreturn\u001b[39;00m \u001b[38;5;28mint\u001b[39m(model\u001b[38;5;241m.\u001b[39msolve(solver))\n",
      "File \u001b[1;32mc:\\Users\\theko\\anaconda3\\Lib\\site-packages\\pulp\\pulp.py:1867\u001b[0m, in \u001b[0;36mLpProblem.solve\u001b[1;34m(self, solver, **kwargs)\u001b[0m\n\u001b[0;32m   1865\u001b[0m \u001b[38;5;66;03m# time it\u001b[39;00m\n\u001b[0;32m   1866\u001b[0m \u001b[38;5;28mself\u001b[39m\u001b[38;5;241m.\u001b[39mstartClock()\n\u001b[1;32m-> 1867\u001b[0m status \u001b[38;5;241m=\u001b[39m solver\u001b[38;5;241m.\u001b[39mactualSolve(\u001b[38;5;28mself\u001b[39m, \u001b[38;5;241m*\u001b[39m\u001b[38;5;241m*\u001b[39mkwargs)\n\u001b[0;32m   1868\u001b[0m \u001b[38;5;28mself\u001b[39m\u001b[38;5;241m.\u001b[39mstopClock()\n\u001b[0;32m   1869\u001b[0m \u001b[38;5;28mself\u001b[39m\u001b[38;5;241m.\u001b[39mrestoreObjective(wasNone, dummyVar)\n",
      "File \u001b[1;32mc:\\Users\\theko\\anaconda3\\Lib\\site-packages\\pulp\\apis\\coin_api.py:112\u001b[0m, in \u001b[0;36mCOIN_CMD.actualSolve\u001b[1;34m(self, lp, **kwargs)\u001b[0m\n\u001b[0;32m    110\u001b[0m \u001b[38;5;28;01mdef\u001b[39;00m \u001b[38;5;21mactualSolve\u001b[39m(\u001b[38;5;28mself\u001b[39m, lp, \u001b[38;5;241m*\u001b[39m\u001b[38;5;241m*\u001b[39mkwargs):\n\u001b[0;32m    111\u001b[0m \u001b[38;5;250m    \u001b[39m\u001b[38;5;124;03m\"\"\"Solve a well formulated lp problem\"\"\"\u001b[39;00m\n\u001b[1;32m--> 112\u001b[0m     \u001b[38;5;28;01mreturn\u001b[39;00m \u001b[38;5;28mself\u001b[39m\u001b[38;5;241m.\u001b[39msolve_CBC(lp, \u001b[38;5;241m*\u001b[39m\u001b[38;5;241m*\u001b[39mkwargs)\n",
      "File \u001b[1;32mc:\\Users\\theko\\anaconda3\\Lib\\site-packages\\pulp\\apis\\coin_api.py:178\u001b[0m, in \u001b[0;36mCOIN_CMD.solve_CBC\u001b[1;34m(self, lp, use_mps)\u001b[0m\n\u001b[0;32m    176\u001b[0m \u001b[38;5;28;01melse\u001b[39;00m:\n\u001b[0;32m    177\u001b[0m     cbc \u001b[38;5;241m=\u001b[39m subprocess\u001b[38;5;241m.\u001b[39mPopen(args, stdout\u001b[38;5;241m=\u001b[39mpipe, stderr\u001b[38;5;241m=\u001b[39mpipe, stdin\u001b[38;5;241m=\u001b[39mdevnull)\n\u001b[1;32m--> 178\u001b[0m \u001b[38;5;28;01mif\u001b[39;00m cbc\u001b[38;5;241m.\u001b[39mwait() \u001b[38;5;241m!=\u001b[39m \u001b[38;5;241m0\u001b[39m:\n\u001b[0;32m    179\u001b[0m     \u001b[38;5;28;01mif\u001b[39;00m pipe:\n\u001b[0;32m    180\u001b[0m         pipe\u001b[38;5;241m.\u001b[39mclose()\n",
      "File \u001b[1;32mc:\\Users\\theko\\anaconda3\\Lib\\subprocess.py:1264\u001b[0m, in \u001b[0;36mPopen.wait\u001b[1;34m(self, timeout)\u001b[0m\n\u001b[0;32m   1262\u001b[0m     endtime \u001b[38;5;241m=\u001b[39m _time() \u001b[38;5;241m+\u001b[39m timeout\n\u001b[0;32m   1263\u001b[0m \u001b[38;5;28;01mtry\u001b[39;00m:\n\u001b[1;32m-> 1264\u001b[0m     \u001b[38;5;28;01mreturn\u001b[39;00m \u001b[38;5;28mself\u001b[39m\u001b[38;5;241m.\u001b[39m_wait(timeout\u001b[38;5;241m=\u001b[39mtimeout)\n\u001b[0;32m   1265\u001b[0m \u001b[38;5;28;01mexcept\u001b[39;00m \u001b[38;5;167;01mKeyboardInterrupt\u001b[39;00m:\n\u001b[0;32m   1266\u001b[0m     \u001b[38;5;66;03m# https://bugs.python.org/issue25942\u001b[39;00m\n\u001b[0;32m   1267\u001b[0m     \u001b[38;5;66;03m# The first keyboard interrupt waits briefly for the child to\u001b[39;00m\n\u001b[0;32m   1268\u001b[0m     \u001b[38;5;66;03m# exit under the common assumption that it also received the ^C\u001b[39;00m\n\u001b[0;32m   1269\u001b[0m     \u001b[38;5;66;03m# generated SIGINT and will exit rapidly.\u001b[39;00m\n\u001b[0;32m   1270\u001b[0m     \u001b[38;5;28;01mif\u001b[39;00m timeout \u001b[38;5;129;01mis\u001b[39;00m \u001b[38;5;129;01mnot\u001b[39;00m \u001b[38;5;28;01mNone\u001b[39;00m:\n",
      "File \u001b[1;32mc:\\Users\\theko\\anaconda3\\Lib\\subprocess.py:1588\u001b[0m, in \u001b[0;36mPopen._wait\u001b[1;34m(self, timeout)\u001b[0m\n\u001b[0;32m   1585\u001b[0m     timeout_millis \u001b[38;5;241m=\u001b[39m \u001b[38;5;28mint\u001b[39m(timeout \u001b[38;5;241m*\u001b[39m \u001b[38;5;241m1000\u001b[39m)\n\u001b[0;32m   1586\u001b[0m \u001b[38;5;28;01mif\u001b[39;00m \u001b[38;5;28mself\u001b[39m\u001b[38;5;241m.\u001b[39mreturncode \u001b[38;5;129;01mis\u001b[39;00m \u001b[38;5;28;01mNone\u001b[39;00m:\n\u001b[0;32m   1587\u001b[0m     \u001b[38;5;66;03m# API note: Returns immediately if timeout_millis == 0.\u001b[39;00m\n\u001b[1;32m-> 1588\u001b[0m     result \u001b[38;5;241m=\u001b[39m _winapi\u001b[38;5;241m.\u001b[39mWaitForSingleObject(\u001b[38;5;28mself\u001b[39m\u001b[38;5;241m.\u001b[39m_handle,\n\u001b[0;32m   1589\u001b[0m                                          timeout_millis)\n\u001b[0;32m   1590\u001b[0m     \u001b[38;5;28;01mif\u001b[39;00m result \u001b[38;5;241m==\u001b[39m _winapi\u001b[38;5;241m.\u001b[39mWAIT_TIMEOUT:\n\u001b[0;32m   1591\u001b[0m         \u001b[38;5;28;01mraise\u001b[39;00m TimeoutExpired(\u001b[38;5;28mself\u001b[39m\u001b[38;5;241m.\u001b[39margs, timeout)\n",
      "\u001b[1;31mKeyboardInterrupt\u001b[0m: "
     ]
    }
   ],
   "source": [
    "result = scflp.scflp_branch_and_cut(\n",
    "    data,\n",
    "    max_nodes=20000,\n",
    "    max_rounds_per_node=100,\n",
    "    tol=1e-12,\n",
    "    pulp_solver=\"CBC\",    # GLPK も可\n",
    "    node_selection=\"bestbound\", # \"bestbound\" も選べる\n",
    "    log_level=\"debug\",     # \"debug\" なら詳細ログ\n",
    ")"
   ]
  }
 ],
 "metadata": {
  "kernelspec": {
   "display_name": "base",
   "language": "python",
   "name": "python3"
  },
  "language_info": {
   "codemirror_mode": {
    "name": "ipython",
    "version": 3
   },
   "file_extension": ".py",
   "mimetype": "text/x-python",
   "name": "python",
   "nbconvert_exporter": "python",
   "pygments_lexer": "ipython3",
   "version": "3.11.7"
  }
 },
 "nbformat": 4,
 "nbformat_minor": 5
}
