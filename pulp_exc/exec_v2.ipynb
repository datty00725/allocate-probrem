{
 "cells": [
  {
   "cell_type": "code",
   "execution_count": 41,
   "id": "ffdd1d2f",
   "metadata": {},
   "outputs": [
    {
     "data": {
      "text/plain": [
       "<module 'scflp_v3' from 'c:\\\\Users\\\\theko\\\\Desktop\\\\UEC\\\\岩崎研\\\\allocate-probrem\\\\pulp_exc\\\\scflp_v3.py'>"
      ]
     },
     "execution_count": 41,
     "metadata": {},
     "output_type": "execute_result"
    }
   ],
   "source": [
    "import scflp_v3 as scflp\n",
    "\n",
    "import importlib\n",
    "importlib.reload(scflp)"
   ]
  },
  {
   "cell_type": "code",
   "execution_count": 42,
   "id": "cb315de0",
   "metadata": {},
   "outputs": [],
   "source": [
    "data = scflp.make_random_instance(I=100, J=100, p=3, r=2, beta=0.1, seed=0)"
   ]
  },
  {
   "cell_type": "code",
   "execution_count": 43,
   "id": "067663df",
   "metadata": {},
   "outputs": [
    {
     "name": "stdout",
     "output_type": "stream",
     "text": [
      "════════════════════════════════════════════════════════════════════════════════\n",
      "🚀 Branch-and-Cut（分枝＋カット）開始\n",
      "════════════════════════════════════════════════════════════════════════════════\n",
      "────────────────────────────────────────────────────────────────────────────────\n",
      "➤ 🌿 ノード展開: depth=0, |fix1|=0, |fix0|=0\n",
      "➤    · ノード(depth=0): θ̂=1.000000, L=0.470115, viol=5.299e-01\n",
      "➤    · ノード(depth=0): θ̂=1.000000, L=0.592361, viol=4.076e-01\n",
      "➤    · ノード(depth=0): θ̂=0.893129, L=0.615453, viol=2.777e-01\n",
      "➤    · ノード(depth=0): θ̂=0.839694, L=0.623637, viol=2.161e-01\n",
      "➤    · ノード(depth=0): θ̂=0.837077, L=0.620358, viol=2.167e-01\n",
      "➤    · ノード(depth=0): θ̂=0.791454, L=0.624949, viol=1.665e-01\n",
      "➤    · ノード(depth=0): θ̂=0.790894, L=0.625925, viol=1.650e-01\n",
      "➤    · ノード(depth=0): θ̂=0.712976, L=0.613117, viol=9.986e-02\n",
      "➤    · ノード(depth=0): θ̂=0.683209, L=0.560862, viol=1.223e-01\n",
      "➤    · ノード(depth=0): θ̂=0.683075, L=0.641689, viol=4.139e-02\n",
      "➤    · ノード(depth=0): θ̂=0.673637, L=0.632586, viol=4.105e-02\n",
      "➤    · ノード(depth=0): θ̂=0.669954, L=0.645536, viol=2.442e-02\n",
      "➤    · ノード(depth=0): θ̂=0.664750, L=0.626015, viol=3.873e-02\n",
      "➤    · ノード(depth=0): θ̂=0.663866, L=0.589178, viol=7.469e-02\n",
      "➤    · ノード(depth=0): θ̂=0.661008, L=0.641750, viol=1.926e-02\n",
      "➤    · ノード(depth=0): θ̂=0.656517, L=0.644063, viol=1.245e-02\n",
      "➤    · ノード(depth=0): θ̂=0.656485, L=0.635820, viol=2.066e-02\n",
      "➤    · ノード(depth=0): θ̂=0.655540, L=0.633841, viol=2.170e-02\n",
      "➤    · ノード(depth=0): θ̂=0.655146, L=0.637257, viol=1.789e-02\n",
      "➤    · ノード(depth=0): θ̂=0.653934, L=0.649436, viol=4.497e-03\n",
      "➤    · ノード(depth=0): θ̂=0.653610, L=0.636139, viol=1.747e-02\n",
      "➤    · ノード(depth=0): θ̂=0.653575, L=0.649714, viol=3.861e-03\n",
      "➤    · ノード(depth=0): θ̂=0.653374, L=0.651750, viol=1.624e-03\n",
      "➤    · ノード(depth=0): θ̂=0.653274, L=0.590973, viol=6.230e-02\n",
      "➤    · ノード(depth=0): θ̂=0.652161, L=0.646210, viol=5.951e-03\n",
      "➤    · ノード(depth=0): θ̂=0.650569, L=0.637787, viol=1.278e-02\n",
      "➤    · ノード(depth=0): θ̂=0.650219, L=0.643997, viol=6.222e-03\n",
      "➤    · ノード(depth=0): θ̂=0.649445, L=0.633684, viol=1.576e-02\n",
      "➤    · ノード(depth=0): θ̂=0.649034, L=0.648591, viol=4.428e-04\n",
      "➤    · ノード(depth=0): θ̂=0.648929, L=0.652380, viol=-3.451e-03\n",
      "✅ 🎯 インカンベント更新: θ_LB ← 0.648929\n",
      "🏁 Branch-and-Cut 終了（経過 23.40s）\n",
      "════════════════════════════════════════════════════════════════════════════════\n",
      "➤ ✨ 最良解 θ = 0.648929 / 選択サイト [2, 14, 86]\n"
     ]
    }
   ],
   "source": [
    "result = scflp.scflp_branch_and_cut(\n",
    "    data,\n",
    "    max_nodes=20000,\n",
    "    max_rounds_per_node=100,\n",
    "    tol=1e-9,\n",
    "    pulp_solver=\"CBC\",    # GLPK も可\n",
    "    node_selection=\"dfs\", # \"bestbound\" も選べる\n",
    "    log_level=\"debug\",     # \"debug\" なら詳細ログ\n",
    ")"
   ]
  }
 ],
 "metadata": {
  "kernelspec": {
   "display_name": "base",
   "language": "python",
   "name": "python3"
  },
  "language_info": {
   "codemirror_mode": {
    "name": "ipython",
    "version": 3
   },
   "file_extension": ".py",
   "mimetype": "text/x-python",
   "name": "python",
   "nbconvert_exporter": "python",
   "pygments_lexer": "ipython3",
   "version": "3.11.7"
  }
 },
 "nbformat": 4,
 "nbformat_minor": 5
}
