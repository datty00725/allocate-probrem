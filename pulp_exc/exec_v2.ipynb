{
 "cells": [
  {
   "cell_type": "code",
   "execution_count": 19,
   "id": "ffdd1d2f",
   "metadata": {},
   "outputs": [
    {
     "data": {
      "text/plain": [
       "<module 'scflp_v4' from 'c:\\\\Users\\\\theko\\\\Desktop\\\\UEC\\\\岩崎研\\\\allocate-probrem\\\\pulp_exc\\\\scflp_v4.py'>"
      ]
     },
     "execution_count": 19,
     "metadata": {},
     "output_type": "execute_result"
    }
   ],
   "source": [
    "import scflp_v4 as scflp\n",
    "\n",
    "import importlib\n",
    "importlib.reload(scflp)"
   ]
  },
  {
   "cell_type": "code",
   "execution_count": 20,
   "id": "cb315de0",
   "metadata": {},
   "outputs": [
    {
     "ename": "AttributeError",
     "evalue": "module 'scflp_v4' has no attribute 'make_random_instance'",
     "output_type": "error",
     "traceback": [
      "\u001b[1;31m---------------------------------------------------------------------------\u001b[0m",
      "\u001b[1;31mAttributeError\u001b[0m                            Traceback (most recent call last)",
      "Cell \u001b[1;32mIn[20], line 1\u001b[0m\n\u001b[1;32m----> 1\u001b[0m data \u001b[38;5;241m=\u001b[39m scflp\u001b[38;5;241m.\u001b[39mmake_random_instance(I\u001b[38;5;241m=\u001b[39m\u001b[38;5;241m80\u001b[39m, J\u001b[38;5;241m=\u001b[39m\u001b[38;5;241m80\u001b[39m, p\u001b[38;5;241m=\u001b[39m\u001b[38;5;241m2\u001b[39m, r\u001b[38;5;241m=\u001b[39m\u001b[38;5;241m3\u001b[39m, beta\u001b[38;5;241m=\u001b[39m\u001b[38;5;241m0.1\u001b[39m, seed\u001b[38;5;241m=\u001b[39m\u001b[38;5;241m0\u001b[39m)\n",
      "\u001b[1;31mAttributeError\u001b[0m: module 'scflp_v4' has no attribute 'make_random_instance'"
     ]
    }
   ],
   "source": [
    "data = scflp.make_random_instance(I=80, J=80, p=2, r=3, beta=0.1, seed=0)"
   ]
  },
  {
   "cell_type": "code",
   "execution_count": null,
   "id": "067663df",
   "metadata": {},
   "outputs": [
    {
     "name": "stdout",
     "output_type": "stream",
     "text": [
      "════════════════════════════════════════════════════════════════════════════════\n",
      "🚀 Branch-and-Cut（分枝＋カット）開始\n",
      "════════════════════════════════════════════════════════════════════════════════\n",
      "────────────────────────────────────────────────────────────────────────────────\n",
      "➤ 🌿 ノード展開: depth=0, |fix1|=0, |fix0|=0\n",
      "➤    · ノード(depth=0): θ̂=1.000000, L=0.446380, viol=5.536e-01\n",
      "✂️  カット追加: BULGE + SUBMOD\n",
      "➤    · ノード(depth=0): θ̂=0.817216, L=0.405081, viol=4.121e-01\n",
      "✂️  カット追加: BULGE + SUBMOD\n",
      "➤    · ノード(depth=0): θ̂=0.674259, L=0.418015, viol=2.562e-01\n",
      "✂️  カット追加: BULGE + SUBMOD\n",
      "➤    · ノード(depth=0): θ̂=0.617367, L=0.423015, viol=1.944e-01\n",
      "✂️  カット追加: BULGE + SUBMOD\n",
      "➤    · ノード(depth=0): θ̂=0.505395, L=0.458191, viol=4.720e-02\n",
      "✂️  カット追加: BULGE + SUBMOD\n",
      "➤    · ノード(depth=0): θ̂=0.491200, L=0.456043, viol=3.516e-02\n",
      "✂️  カット追加: BULGE + SUBMOD\n",
      "➤    · ノード(depth=0): θ̂=0.488741, L=0.377558, viol=1.112e-01\n",
      "✂️  カット追加: BULGE + SUBMOD\n",
      "➤    · ノード(depth=0): θ̂=0.477761, L=0.463930, viol=1.383e-02\n",
      "✂️  カット追加: BULGE + SUBMOD\n",
      "➤    · ノード(depth=0): θ̂=0.469908, L=0.464345, viol=5.563e-03\n",
      "✂️  カット追加: BULGE + SUBMOD\n",
      "➤    · ノード(depth=0): θ̂=0.469316, L=0.463168, viol=6.148e-03\n",
      "✂️  カット追加: BULGE + SUBMOD\n",
      "➤    · ノード(depth=0): θ̂=0.466637, L=0.401480, viol=6.516e-02\n",
      "✂️  カット追加: BULGE + SUBMOD\n",
      "➤    · ノード(depth=0): θ̂=0.463930, L=0.463930, viol=1.873e-10\n",
      "✂️  カット追加: BULGE + SUBMOD\n",
      "➤    · ノード(depth=0): θ̂=0.463930, L=0.463930, viol=1.873e-10\n",
      "✂️  カット追加: BULGE + SUBMOD\n",
      "➤    · ノード(depth=0): θ̂=0.463930, L=0.463930, viol=1.873e-10\n",
      "✂️  カット追加: BULGE + SUBMOD\n",
      "➤    · ノード(depth=0): θ̂=0.463930, L=0.463930, viol=1.873e-10\n",
      "✂️  カット追加: BULGE + SUBMOD\n",
      "➤    · ノード(depth=0): θ̂=0.463930, L=0.463930, viol=1.873e-10\n",
      "✂️  カット追加: BULGE + SUBMOD\n",
      "➤    · ノード(depth=0): θ̂=0.463930, L=0.463930, viol=1.873e-10\n",
      "✂️  カット追加: BULGE + SUBMOD\n",
      "➤    · ノード(depth=0): θ̂=0.463930, L=0.463930, viol=1.873e-10\n",
      "✂️  カット追加: BULGE + SUBMOD\n",
      "➤    · ノード(depth=0): θ̂=0.463930, L=0.463930, viol=1.873e-10\n",
      "✂️  カット追加: BULGE + SUBMOD\n",
      "➤    · ノード(depth=0): θ̂=0.463930, L=0.463930, viol=1.873e-10\n",
      "✂️  カット追加: BULGE + SUBMOD\n",
      "➤    · ノード(depth=0): θ̂=0.463930, L=0.463930, viol=1.873e-10\n",
      "✂️  カット追加: BULGE + SUBMOD\n",
      "➤    · ノード(depth=0): θ̂=0.463930, L=0.463930, viol=1.873e-10\n",
      "✂️  カット追加: BULGE + SUBMOD\n",
      "➤    · ノード(depth=0): θ̂=0.463930, L=0.463930, viol=1.873e-10\n",
      "✂️  カット追加: BULGE + SUBMOD\n",
      "➤    · ノード(depth=0): θ̂=0.463930, L=0.463930, viol=1.873e-10\n",
      "✂️  カット追加: BULGE + SUBMOD\n",
      "➤    · ノード(depth=0): θ̂=0.463930, L=0.463930, viol=1.873e-10\n",
      "✂️  カット追加: BULGE + SUBMOD\n",
      "➤    · ノード(depth=0): θ̂=0.463930, L=0.463930, viol=1.873e-10\n",
      "✂️  カット追加: BULGE + SUBMOD\n",
      "➤    · ノード(depth=0): θ̂=0.463930, L=0.463930, viol=1.873e-10\n",
      "✂️  カット追加: BULGE + SUBMOD\n",
      "➤    · ノード(depth=0): θ̂=0.463930, L=0.463930, viol=1.873e-10\n",
      "✂️  カット追加: BULGE + SUBMOD\n",
      "➤    · ノード(depth=0): θ̂=0.463930, L=0.463930, viol=1.873e-10\n",
      "✂️  カット追加: BULGE + SUBMOD\n",
      "➤    · ノード(depth=0): θ̂=0.463930, L=0.463930, viol=1.873e-10\n",
      "✂️  カット追加: BULGE + SUBMOD\n",
      "➤    · ノード(depth=0): θ̂=0.463930, L=0.463930, viol=1.873e-10\n",
      "✂️  カット追加: BULGE + SUBMOD\n",
      "➤    · ノード(depth=0): θ̂=0.463930, L=0.463930, viol=1.873e-10\n",
      "✂️  カット追加: BULGE + SUBMOD\n",
      "➤    · ノード(depth=0): θ̂=0.463930, L=0.463930, viol=1.873e-10\n",
      "✂️  カット追加: BULGE + SUBMOD\n",
      "➤    · ノード(depth=0): θ̂=0.463930, L=0.463930, viol=1.873e-10\n",
      "✂️  カット追加: BULGE + SUBMOD\n",
      "➤    · ノード(depth=0): θ̂=0.463930, L=0.463930, viol=1.873e-10\n",
      "✂️  カット追加: BULGE + SUBMOD\n",
      "➤    · ノード(depth=0): θ̂=0.463930, L=0.463930, viol=1.873e-10\n",
      "✂️  カット追加: BULGE + SUBMOD\n",
      "➤    · ノード(depth=0): θ̂=0.463930, L=0.463930, viol=1.873e-10\n",
      "✂️  カット追加: BULGE + SUBMOD\n",
      "➤    · ノード(depth=0): θ̂=0.463930, L=0.463930, viol=1.873e-10\n",
      "✂️  カット追加: BULGE + SUBMOD\n",
      "➤    · ノード(depth=0): θ̂=0.463930, L=0.463930, viol=1.873e-10\n",
      "✂️  カット追加: BULGE + SUBMOD\n",
      "➤    · ノード(depth=0): θ̂=0.463930, L=0.463930, viol=1.873e-10\n",
      "✂️  カット追加: BULGE + SUBMOD\n",
      "➤    · ノード(depth=0): θ̂=0.463930, L=0.463930, viol=1.873e-10\n",
      "✂️  カット追加: BULGE + SUBMOD\n",
      "➤    · ノード(depth=0): θ̂=0.463930, L=0.463930, viol=1.873e-10\n",
      "✂️  カット追加: BULGE + SUBMOD\n",
      "➤    · ノード(depth=0): θ̂=0.463930, L=0.463930, viol=1.873e-10\n",
      "✂️  カット追加: BULGE + SUBMOD\n",
      "➤    · ノード(depth=0): θ̂=0.463930, L=0.463930, viol=1.873e-10\n",
      "✂️  カット追加: BULGE + SUBMOD\n",
      "➤    · ノード(depth=0): θ̂=0.463930, L=0.463930, viol=1.873e-10\n",
      "✂️  カット追加: BULGE + SUBMOD\n",
      "➤    · ノード(depth=0): θ̂=0.463930, L=0.463930, viol=1.873e-10\n",
      "✂️  カット追加: BULGE + SUBMOD\n",
      "➤    · ノード(depth=0): θ̂=0.463930, L=0.463930, viol=1.873e-10\n",
      "✂️  カット追加: BULGE + SUBMOD\n",
      "➤    · ノード(depth=0): θ̂=0.463930, L=0.463930, viol=1.873e-10\n",
      "✂️  カット追加: BULGE + SUBMOD\n",
      "➤    · ノード(depth=0): θ̂=0.463930, L=0.463930, viol=1.873e-10\n",
      "✂️  カット追加: BULGE + SUBMOD\n",
      "➤    · ノード(depth=0): θ̂=0.463930, L=0.463930, viol=1.873e-10\n",
      "✂️  カット追加: BULGE + SUBMOD\n",
      "⚠️  このノードでのカット上限に到達。中断して上位で処理します。\n",
      "✅ 🎯 インカンベント更新: θ_LB ← 0.463930\n",
      "🏁 Branch-and-Cut 終了（経過 19.33s）\n",
      "════════════════════════════════════════════════════════════════════════════════\n",
      "➤ ✨ 最良解 θ = 0.463930 / 選択サイト [35, 47]\n",
      "➤ 🧾 カット総計: 100 本（Bulge: 50, Submodular: 50）\n"
     ]
    }
   ],
   "source": [
    "res = scflp.scflp_branch_and_cut(\n",
    "    data,\n",
    "    max_nodes=10000,\n",
    "    max_rounds_per_node=200,\n",
    "    tol=1e-8,\n",
    "    pulp_solver=\"CBC\",\n",
    "    node_selection=\"dfs\",   # \"dfs\" or \"bestbound\"\n",
    "    log_level=\"info\",\n",
    "    separation=\"approx\",\n",
    "    cut_policy=\"auto\",\n",
    ")\n",
    "print(\"best theta:\", res[\"theta_best\"])\n",
    "print(\"best x:\", res[\"x_best\"])"
   ]
  }
 ],
 "metadata": {
  "kernelspec": {
   "display_name": "base",
   "language": "python",
   "name": "python3"
  },
  "language_info": {
   "codemirror_mode": {
    "name": "ipython",
    "version": 3
   },
   "file_extension": ".py",
   "mimetype": "text/x-python",
   "name": "python",
   "nbconvert_exporter": "python",
   "pygments_lexer": "ipython3",
   "version": "3.11.7"
  }
 },
 "nbformat": 4,
 "nbformat_minor": 5
}
