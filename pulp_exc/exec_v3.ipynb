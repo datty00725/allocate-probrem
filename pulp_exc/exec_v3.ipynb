{
 "cells": [
  {
   "cell_type": "code",
   "execution_count": 4,
   "id": "ffdd1d2f",
   "metadata": {},
   "outputs": [
    {
     "data": {
      "text/plain": [
       "<module 'scflp_v3' from 'c:\\\\Users\\\\theko\\\\Desktop\\\\UEC\\\\岩崎研\\\\allocate-probrem\\\\pulp_exc\\\\scflp_v3.py'>"
      ]
     },
     "execution_count": 4,
     "metadata": {},
     "output_type": "execute_result"
    }
   ],
   "source": [
    "import scflp_v3 as scflp\n",
    "\n",
    "import importlib\n",
    "importlib.reload(scflp)"
   ]
  },
  {
   "cell_type": "code",
   "execution_count": 5,
   "id": "cb315de0",
   "metadata": {},
   "outputs": [],
   "source": [
    "data = scflp.make_random_instance(I=20, J=20, p=2, r=2, beta=0.1, seed=0)"
   ]
  },
  {
   "cell_type": "code",
   "execution_count": 6,
   "id": "067663df",
   "metadata": {},
   "outputs": [
    {
     "name": "stdout",
     "output_type": "stream",
     "text": [
      "════════════════════════════════════════════════════════════════════════════════\n",
      "🚀 Branch-and-Cut（分枝＋カット）開始\n",
      "════════════════════════════════════════════════════════════════════════════════\n",
      "────────────────────────────────────────────────────────────────────────────────\n",
      "➤ 🌿 ノード展開: depth=0, |fix1|=0, |fix0|=0\n",
      "➤    · ノード(depth=0): θ̂=1.000000, L=0.458907, viol=5.411e-01\n",
      "✂️  カット追加: BULGE + SUBMOD\n",
      "➤    · ノード(depth=0): θ̂=1.000000, L=0.502724, viol=4.973e-01\n",
      "✂️  カット追加: BULGE + SUBMOD\n",
      "➤    · ノード(depth=0): θ̂=0.741747, L=0.503779, viol=2.380e-01\n",
      "✂️  カット追加: BULGE + SUBMOD\n",
      "➤    · ノード(depth=0): θ̂=0.741747, L=0.476990, viol=2.648e-01\n",
      "✂️  カット追加: BULGE + SUBMOD\n",
      "➤    · ノード(depth=0): θ̂=0.734625, L=0.523010, viol=2.116e-01\n",
      "✂️  カット追加: BULGE + SUBMOD\n",
      "➤    · ノード(depth=0): θ̂=0.724282, L=0.496221, viol=2.281e-01\n",
      "✂️  カット追加: BULGE + SUBMOD\n",
      "➤    · ノード(depth=0): θ̂=0.547332, L=0.454228, viol=9.310e-02\n",
      "✂️  カット追加: BULGE + SUBMOD\n",
      "➤    · ノード(depth=0): θ̂=0.524272, L=0.419786, viol=1.045e-01\n",
      "✂️  カット追加: BULGE + SUBMOD\n",
      "➤    · ノード(depth=0): θ̂=0.523010, L=0.523010, viol=-3.409e-09\n",
      "✅ 🎯 インカンベント更新: θ_LB ← 0.523010\n",
      "🏁 Branch-and-Cut 終了（経過 1.17s）\n",
      "════════════════════════════════════════════════════════════════════════════════\n",
      "➤ ✨ 最良解 θ = 0.523010 / 選択サイト [0, 1]\n",
      "➤ 🧾 カット総計: 16 本（Bulge: 8, Submodular: 8）\n"
     ]
    }
   ],
   "source": [
    "result = scflp.scflp_branch_and_cut(\n",
    "    data,\n",
    "    max_nodes=20000,\n",
    "    max_rounds_per_node=100,\n",
    "    tol=1e-12,\n",
    "    pulp_solver=\"CBC\",    # GLPK も可\n",
    "    node_selection=\"bestbound\", # \"bestbound\" も選べる\n",
    "    log_level=\"debug\",     # \"debug\" なら詳細ログ\n",
    ")"
   ]
  }
 ],
 "metadata": {
  "kernelspec": {
   "display_name": "base",
   "language": "python",
   "name": "python3"
  },
  "language_info": {
   "codemirror_mode": {
    "name": "ipython",
    "version": 3
   },
   "file_extension": ".py",
   "mimetype": "text/x-python",
   "name": "python",
   "nbconvert_exporter": "python",
   "pygments_lexer": "ipython3",
   "version": "3.11.7"
  }
 },
 "nbformat": 4,
 "nbformat_minor": 5
}
