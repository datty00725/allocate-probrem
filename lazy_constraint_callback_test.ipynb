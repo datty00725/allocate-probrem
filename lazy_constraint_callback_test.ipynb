{
 "cells": [
  {
   "cell_type": "markdown",
   "metadata": {},
   "source": [
    "https://jump.dev/JuMP.jl/stable/manual/callbacks/"
   ]
  },
  {
   "cell_type": "markdown",
   "metadata": {},
   "source": [
    "↑URLのJuliaのコードを改変したもの"
   ]
  },
  {
   "cell_type": "code",
   "execution_count": null,
   "metadata": {},
   "outputs": [
    {
     "name": "stdout",
     "output_type": "stream",
     "text": [
      "Version identifier: 22.1.1.0 | 2022-11-27 | 9160aff4d\n",
      "CPXPARAM_Read_DataCheck                          1\n",
      "CPXPARAM_MIP_Limits_Nodes                        1\n",
      "Legacy callback                                  LD\n"
     ]
    },
    {
     "name": "stderr",
     "output_type": "stream",
     "text": [
      "Warning: Control callbacks may disable some MIP features.\n"
     ]
    },
    {
     "name": "stdout",
     "output_type": "stream",
     "text": [
      "Lazy constraint(s) or lazy constraint/branch callback is present.\n",
      "    Disabling dual reductions (CPX_PARAM_REDUCE) in presolve.\n",
      "    Disabling presolve reductions that prevent crushing forms (CPX_PARAM_PREREFORM).\n",
      "         Disabling repeat represolve because of lazy constraint/incumbent callback.\n",
      "Tried aggregator 1 time.\n",
      "Reduced MIP has 0 rows, 1 columns, and 0 nonzeros.\n",
      "Reduced MIP has 0 binaries, 1 generals, 0 SOSs, and 0 indicators.\n",
      "Presolve time = 0.00 sec. (0.00 ticks)\n",
      "MIP emphasis: balance optimality and feasibility.\n",
      "MIP search method: traditional branch-and-cut.\n",
      "Parallel mode: none, using 1 thread.\n",
      "Root relaxation solution time = 0.00 sec. (0.00 ticks)\n",
      "\n",
      "        Nodes                                         Cuts/\n",
      "   Node  Left     Objective  IInf  Best Integer    Best Bound    ItCnt     Gap         Variable B NodeID Parent  Depth\n",
      "\n",
      "*     0     0      integral     0        2.0000       10.0000        0  400.00%                        0             0\n",
      "Elapsed time = 0.02 sec. (0.00 ticks, tree = 0.00 MB, solutions = 1)\n",
      "\n",
      "User cuts applied:  1\n",
      "\n",
      "Root node processing (before b&c):\n",
      "  Real time             =    0.02 sec. (0.00 ticks)\n",
      "Sequential b&c:\n",
      "  Real time             =    0.00 sec. (0.00 ticks)\n",
      "                          ------------\n",
      "Total (root+branch&cut) =    0.02 sec. (0.00 ticks)\n",
      "Optimal x: 2.0\n",
      "Objective value: 2.0\n"
     ]
    }
   ],
   "source": [
    "import cplex\n",
    "from cplex.callbacks import LazyConstraintCallback\n",
    "\n",
    "\n",
    "class MyLazyCallback(LazyConstraintCallback):\n",
    "    def __call__(self):\n",
    "        x_val = self.get_values(0)  # 変数 x の値を取得\n",
    "\n",
    "        # `x_val` が整数でない場合はスキップ\n",
    "        if abs(x_val - round(x_val)) > 1e-6:\n",
    "            return\n",
    "\n",
    "        if x_val > 2 + 1e-6:\n",
    "            # x <= 2 の制約を追加\n",
    "            self.add(\n",
    "                constraint=cplex.SparsePair(ind=[0], val=[1.0]), sense=\"L\", rhs=2.0\n",
    "            )\n",
    "\n",
    "\n",
    "# CPLEX モデルを作成\n",
    "model = cplex.Cplex()\n",
    "model.set_problem_type(cplex.Cplex.problem_type.MILP)\n",
    "\n",
    "# 変数 x を追加（整数変数、最大値10）\n",
    "model.variables.add(names=[\"x\"], types=[model.variables.type.integer], ub=[10])\n",
    "\n",
    "# 目的関数: Max x\n",
    "model.objective.set_sense(model.objective.sense.maximize)\n",
    "model.objective.set_linear(\"x\", 1.0)\n",
    "\n",
    "# Lazy Constraint コールバックを登録\n",
    "model.register_callback(MyLazyCallback)\n",
    "\n",
    "# MIP solver の設定\n",
    "model.parameters.mip.limits.nodes.set(\n",
    "    1\n",
    ")  # Lazy constraints の適用確認のためノード探索制限\n",
    "\n",
    "# 解く\n",
    "model.solve()\n",
    "\n",
    "# 解の出力\n",
    "solution = model.solution\n",
    "print(\"Optimal x:\", solution.get_values(\"x\"))\n",
    "print(\"Objective value:\", solution.get_objective_value())"
   ]
  }
 ],
 "metadata": {
  "kernelspec": {
   "display_name": "base",
   "language": "python",
   "name": "python3"
  },
  "language_info": {
   "codemirror_mode": {
    "name": "ipython",
    "version": 3
   },
   "file_extension": ".py",
   "mimetype": "text/x-python",
   "name": "python",
   "nbconvert_exporter": "python",
   "pygments_lexer": "ipython3",
   "version": "3.8.20"
  }
 },
 "nbformat": 4,
 "nbformat_minor": 2
}
