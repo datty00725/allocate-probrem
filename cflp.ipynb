{
 "cells": [
  {
   "cell_type": "code",
   "execution_count": 80,
   "metadata": {},
   "outputs": [],
   "source": [
    "import sympy as sp\n",
    "import numpy as np\n",
    "import matplotlib.pyplot as plt"
   ]
  },
  {
   "cell_type": "code",
   "execution_count": 81,
   "metadata": {},
   "outputs": [
    {
     "data": {
      "image/png": "[encoded data removed]",
      "text/plain": [
       "<Figure size 640x480 with 1 Axes>"
      ]
     },
     "metadata": {},
     "output_type": "display_data"
    }
   ],
   "source": [
    "# 4x4 の 2 次元配列\n",
    "arr = np.arange(16).reshape(4, 4)\n",
    "\n",
    "# Y, X に行・列インデックスを格納\n",
    "Y, X = np.indices(arr.shape)\n",
    "\n",
    "# Y 軸を反転して、下から上に増えるようにする\n",
    "# arr.shape[0] = 4 の場合、Y=0(上)を Y_new=3(下) に、Y=3(下)を Y_new=0(下) に変換\n",
    "Y_new = (arr.shape[0]-1) - Y\n",
    "\n",
    "# 散布図を描く (色指定なし)\n",
    "plt.scatter(X.ravel(), Y_new.ravel())\n",
    "\n",
    "plt.xlabel(\"X (column index)\")\n",
    "plt.ylabel(\"Y (row index)\")\n",
    "plt.title(\"4x4 Array Points\")\n",
    "plt.grid(True)\n",
    "plt.show()"
   ]
  },
  {
   "cell_type": "code",
   "execution_count": 82,
   "metadata": {},
   "outputs": [
    {
     "name": "stdout",
     "output_type": "stream",
     "text": [
      "Distance Matrix (16x16):\n",
      "[[0.         1.         2.         3.         1.         1.41421356\n",
      "  2.23606798 3.16227766 2.         2.23606798 2.82842712 3.60555128\n",
      "  3.         3.16227766 3.60555128 4.24264069]\n",
      " [1.         0.         1.         2.         1.41421356 1.\n",
      "  1.41421356 2.23606798 2.23606798 2.         2.23606798 2.82842712\n",
      "  3.16227766 3.         3.16227766 3.60555128]\n",
      " [2.         1.         0.         1.         2.23606798 1.41421356\n",
      "  1.         1.41421356 2.82842712 2.23606798 2.         2.23606798\n",
      "  3.60555128 3.16227766 3.         3.16227766]\n",
      " [3.         2.         1.         0.         3.16227766 2.23606798\n",
      "  1.41421356 1.         3.60555128 2.82842712 2.23606798 2.\n",
      "  4.24264069 3.60555128 3.16227766 3.        ]\n",
      " [1.         1.41421356 2.23606798 3.16227766 0.         1.\n",
      "  2.         3.         1.         1.41421356 2.23606798 3.16227766\n",
      "  2.         2.23606798 2.82842712 3.60555128]\n",
      " [1.41421356 1.         1.41421356 2.23606798 1.         0.\n",
      "  1.         2.         1.41421356 1.         1.41421356 2.23606798\n",
      "  2.23606798 2.         2.23606798 2.82842712]\n",
      " [2.23606798 1.41421356 1.         1.41421356 2.         1.\n",
      "  0.         1.         2.23606798 1.41421356 1.         1.41421356\n",
      "  2.82842712 2.23606798 2.         2.23606798]\n",
      " [3.16227766 2.23606798 1.41421356 1.         3.         2.\n",
      "  1.         0.         3.16227766 2.23606798 1.41421356 1.\n",
      "  3.60555128 2.82842712 2.23606798 2.        ]\n",
      " [2.         2.23606798 2.82842712 3.60555128 1.         1.41421356\n",
      "  2.23606798 3.16227766 0.         1.         2.         3.\n",
      "  1.         1.41421356 2.23606798 3.16227766]\n",
      " [2.23606798 2.         2.23606798 2.82842712 1.41421356 1.\n",
      "  1.41421356 2.23606798 1.         0.         1.         2.\n",
      "  1.41421356 1.         1.41421356 2.23606798]\n",
      " [2.82842712 2.23606798 2.         2.23606798 2.23606798 1.41421356\n",
      "  1.         1.41421356 2.         1.         0.         1.\n",
      "  2.23606798 1.41421356 1.         1.41421356]\n",
      " [3.60555128 2.82842712 2.23606798 2.         3.16227766 2.23606798\n",
      "  1.41421356 1.         3.         2.         1.         0.\n",
      "  3.16227766 2.23606798 1.41421356 1.        ]\n",
      " [3.         3.16227766 3.60555128 4.24264069 2.         2.23606798\n",
      "  2.82842712 3.60555128 1.         1.41421356 2.23606798 3.16227766\n",
      "  0.         1.         2.         3.        ]\n",
      " [3.16227766 3.         3.16227766 3.60555128 2.23606798 2.\n",
      "  2.23606798 2.82842712 1.41421356 1.         1.41421356 2.23606798\n",
      "  1.         0.         1.         2.        ]\n",
      " [3.60555128 3.16227766 3.         3.16227766 2.82842712 2.23606798\n",
      "  2.         2.23606798 2.23606798 1.41421356 1.         1.41421356\n",
      "  2.         1.         0.         1.        ]\n",
      " [4.24264069 3.60555128 3.16227766 3.         3.60555128 2.82842712\n",
      "  2.23606798 2.         3.16227766 2.23606798 1.41421356 1.\n",
      "  3.         2.         1.         0.        ]]\n"
     ]
    }
   ],
   "source": [
    "# 4x4 の点群を生成（左下(0,0)が最も小さな座標）\n",
    "# X: 0～3, Y: 0～3で格子点を定義\n",
    "size = 4\n",
    "x_coords = np.arange(size)\n",
    "y_coords = np.arange(size)\n",
    "\n",
    "# 全点を (x,y) の形でリスト化\n",
    "points = [(x, y) for y in y_coords for x in x_coords]\n",
    "# pointsの並びは、y=0（下段）のx=0～3、その次にy=1（次の行）のx=0～3、といった順序\n",
    "# [(0,0), (1,0), (2,0), (3,0),\n",
    "#  (0,1), (1,1), (2,1), (3,1),\n",
    "#   ...\n",
    "#  (0,3), (1,3), (2,3), (3,3)]\n",
    "\n",
    "# 距離行列を格納する配列（16x16）\n",
    "n_points = len(points)\n",
    "dist_matrix = np.zeros((n_points, n_points))\n",
    "\n",
    "# 各点ペア間の距離を計算\n",
    "for i in range(n_points):\n",
    "    for j in range(n_points):\n",
    "        x1, y1 = points[i]\n",
    "        x2, y2 = points[j]\n",
    "        dist_matrix[i, j] = np.sqrt((x2 - x1)**2 + (y2 - y1)**2)\n",
    "\n",
    "# 結果表示\n",
    "print(\"Distance Matrix (16x16):\")\n",
    "print(dist_matrix)"
   ]
  },
  {
   "cell_type": "code",
   "execution_count": 83,
   "metadata": {},
   "outputs": [
    {
     "name": "stdout",
     "output_type": "stream",
     "text": [
      "exp(-beta*d(i, j) + alpha(j))\n"
     ]
    }
   ],
   "source": [
    "# i, j インデックスとパラメータ beta をシンボルとして定義\n",
    "i, j = sp.symbols('i j', real=True)\n",
    "beta = sp.Symbol('beta', real=True)\n",
    "\n",
    "# alpha_j, d_ijを関数として定義（実際にはalpha_jはjに依存、d_ijはi,jに依存する）\n",
    "alpha_j = sp.Function('alpha')(j)\n",
    "d_ij = sp.Function('d')(i, j)  # dist_matrix[i, j] に対応するシンボル\n",
    "\n",
    "# w_ij の式定義\n",
    "w_ij_expr = sp.exp(alpha_j - beta*d_ij)\n",
    "\n",
    "# LaTeX表現の出力\n",
    "#latex_expr = sp.latex(w_ij_expr)\n",
    "print(w_ij_expr)"
   ]
  },
  {
   "cell_type": "code",
   "execution_count": 84,
   "metadata": {},
   "outputs": [
    {
     "name": "stdout",
     "output_type": "stream",
     "text": [
      "exp(-0.1*d(i, j))\n"
     ]
    }
   ],
   "source": [
    "# beta に 0.1 を代入\n",
    "w_ij_expr = w_ij_expr.subs({beta: 0.1, alpha_j: 0})\n",
    "print(w_ij_expr)"
   ]
  },
  {
   "cell_type": "code",
   "execution_count": 85,
   "metadata": {},
   "outputs": [
    {
     "name": "stdout",
     "output_type": "stream",
     "text": [
      "16\n"
     ]
    }
   ],
   "source": [
    "J_L = [1,1,1,0,0,0,0,0,0,0,0,0,0,0,0,0]\n",
    "print(len(J_L))"
   ]
  },
  {
   "cell_type": "markdown",
   "metadata": {},
   "source": [
    "### one more"
   ]
  },
  {
   "cell_type": "code",
   "execution_count": 86,
   "metadata": {},
   "outputs": [
    {
     "name": "stdout",
     "output_type": "stream",
     "text": [
      "[[0.         1.         2.         3.         1.         1.41421356\n",
      "  2.23606798 3.16227766 2.         2.23606798 2.82842712 3.60555128\n",
      "  3.         3.16227766 3.60555128 4.24264069]\n",
      " [1.         0.         1.         2.         1.41421356 1.\n",
      "  1.41421356 2.23606798 2.23606798 2.         2.23606798 2.82842712\n",
      "  3.16227766 3.         3.16227766 3.60555128]\n",
      " [2.         1.         0.         1.         2.23606798 1.41421356\n",
      "  1.         1.41421356 2.82842712 2.23606798 2.         2.23606798\n",
      "  3.60555128 3.16227766 3.         3.16227766]\n",
      " [3.         2.         1.         0.         3.16227766 2.23606798\n",
      "  1.41421356 1.         3.60555128 2.82842712 2.23606798 2.\n",
      "  4.24264069 3.60555128 3.16227766 3.        ]\n",
      " [1.         1.41421356 2.23606798 3.16227766 0.         1.\n",
      "  2.         3.         1.         1.41421356 2.23606798 3.16227766\n",
      "  2.         2.23606798 2.82842712 3.60555128]\n",
      " [1.41421356 1.         1.41421356 2.23606798 1.         0.\n",
      "  1.         2.         1.41421356 1.         1.41421356 2.23606798\n",
      "  2.23606798 2.         2.23606798 2.82842712]\n",
      " [2.23606798 1.41421356 1.         1.41421356 2.         1.\n",
      "  0.         1.         2.23606798 1.41421356 1.         1.41421356\n",
      "  2.82842712 2.23606798 2.         2.23606798]\n",
      " [3.16227766 2.23606798 1.41421356 1.         3.         2.\n",
      "  1.         0.         3.16227766 2.23606798 1.41421356 1.\n",
      "  3.60555128 2.82842712 2.23606798 2.        ]\n",
      " [2.         2.23606798 2.82842712 3.60555128 1.         1.41421356\n",
      "  2.23606798 3.16227766 0.         1.         2.         3.\n",
      "  1.         1.41421356 2.23606798 3.16227766]\n",
      " [2.23606798 2.         2.23606798 2.82842712 1.41421356 1.\n",
      "  1.41421356 2.23606798 1.         0.         1.         2.\n",
      "  1.41421356 1.         1.41421356 2.23606798]\n",
      " [2.82842712 2.23606798 2.         2.23606798 2.23606798 1.41421356\n",
      "  1.         1.41421356 2.         1.         0.         1.\n",
      "  2.23606798 1.41421356 1.         1.41421356]\n",
      " [3.60555128 2.82842712 2.23606798 2.         3.16227766 2.23606798\n",
      "  1.41421356 1.         3.         2.         1.         0.\n",
      "  3.16227766 2.23606798 1.41421356 1.        ]\n",
      " [3.         3.16227766 3.60555128 4.24264069 2.         2.23606798\n",
      "  2.82842712 3.60555128 1.         1.41421356 2.23606798 3.16227766\n",
      "  0.         1.         2.         3.        ]\n",
      " [3.16227766 3.         3.16227766 3.60555128 2.23606798 2.\n",
      "  2.23606798 2.82842712 1.41421356 1.         1.41421356 2.23606798\n",
      "  1.         0.         1.         2.        ]\n",
      " [3.60555128 3.16227766 3.         3.16227766 2.82842712 2.23606798\n",
      "  2.         2.23606798 2.23606798 1.41421356 1.         1.41421356\n",
      "  2.         1.         0.         1.        ]\n",
      " [4.24264069 3.60555128 3.16227766 3.         3.60555128 2.82842712\n",
      "  2.23606798 2.         3.16227766 2.23606798 1.41421356 1.\n",
      "  3.         2.         1.         0.        ]]\n"
     ]
    }
   ],
   "source": [
    "# 4x4格子点 (0,0) から (3,3) を定義\n",
    "size = 4\n",
    "x_coords = np.arange(size)\n",
    "y_coords = np.arange(size)\n",
    "points = [(x, y) for y in y_coords for x in x_coords]  # [(0,0), (1,0), ..., (3,3)]\n",
    "\n",
    "# dist_matrix (16x16) を計算\n",
    "# 2点間のユークリッド距離を計算\n",
    "dist_matrix = np.zeros((len(points), len(points)))\n",
    "for i in range(len(points)):\n",
    "    for j in range(len(points)):\n",
    "        x1, y1 = points[i]\n",
    "        x2, y2 = points[j]\n",
    "        dist_matrix[i, j] = np.sqrt((x2 - x1)**2 + (y2 - y1)**2)\n",
    "\n",
    "print(dist_matrix)"
   ]
  },
  {
   "cell_type": "code",
   "execution_count": 87,
   "metadata": {},
   "outputs": [
    {
     "name": "stdout",
     "output_type": "stream",
     "text": [
      "w.shape = (16, 16)\n"
     ]
    }
   ],
   "source": [
    "# パラメータ\n",
    "beta = 0.1\n",
    "alpha = 0.0  # alpha_j = 0\n",
    "\n",
    "# dist_matrix にはpoints[i]とpoints[j]のユークリッド距離が格納されている\n",
    "w = np.exp(-beta * dist_matrix)\n",
    "# print(f\"w = {w}\")\n",
    "print(f\"w.shape = {w.shape}\")\n"
   ]
  },
  {
   "cell_type": "code",
   "execution_count": 88,
   "metadata": {},
   "outputs": [
    {
     "name": "stderr",
     "output_type": "stream",
     "text": [
      "<>:2: SyntaxWarning: invalid escape sequence '\\s'\n",
      "<>:2: SyntaxWarning: invalid escape sequence '\\s'\n",
      "C:\\Users\\adachi\\AppData\\Local\\Temp\\ipykernel_13988\\273411475.py:2: SyntaxWarning: invalid escape sequence '\\s'\n",
      "  \"\"\"\n"
     ]
    }
   ],
   "source": [
    "def cal_sum_w_ij(w, X):\n",
    "    \"\"\"\n",
    "    引数:\n",
    "        w: ndarray of shape (|I|, |J|) w_ij\n",
    "        X: バイナリ値のリスト (ndarray, shape=(|J|,))\n",
    "\n",
    "    戻り値:\n",
    "        sum_w_ij: ndarray of shape (|J|,) 各 j に対して \\sum_{i \\in X} w_{ij} の計算結果\n",
    "    \"\"\"\n",
    "    sum_w_ij = np.dot(X, w.T)\n",
    "    return sum_w_ij"
   ]
  },
  {
   "cell_type": "code",
   "execution_count": null,
   "metadata": {},
   "outputs": [
    {
     "name": "stderr",
     "output_type": "stream",
     "text": [
      "<>:2: SyntaxWarning: invalid escape sequence '\\s'\n",
      "<>:2: SyntaxWarning: invalid escape sequence '\\s'\n"
     ]
    },
    {
     "name": "stdout",
     "output_type": "stream",
     "text": [
      "[ 6 15 24]\n"
     ]
    },
    {
     "name": "stderr",
     "output_type": "stream",
     "text": [
      "C:\\Users\\adachi\\AppData\\Local\\Temp\\ipykernel_13988\\2248732097.py:2: SyntaxWarning: invalid escape sequence '\\s'\n",
      "  \"\"\"\n"
     ]
    }
   ],
   "source": [
    "def cal_sum_w_ij_XY(w, X, Y):\n",
    "    \"\"\"\n",
    "    引数:\n",
    "        w: ndarray of shape (|I|, |J|) w_ij\n",
    "        X: バイナリ値のリスト (ndarray, shape=(|J|,))\n",
    "        Y: バイナリ値のリスト (ndarray, shape=(|J|,))\n",
    "\n",
    "    戻り値:\n",
    "        sum_w_ij_XY: ndarray of shape (|I|,) 各 i に対して \\sum_{j \\in X \\cup Y} w_{ij} の計算結果\n",
    "    \"\"\"\n",
    "    # X と Y の和集合を計算\n",
    "    X_union_Y = np.logical_or(X, Y).astype(int)\n",
    "    \n",
    "    # 各 i に対して \\sum_{j \\in X \\cup Y} w_{ij} を計算\n",
    "    sum_w_ij_XY = cal_sum_w_ij(w, X_union_Y)\n",
    "    \n",
    "    return sum_w_ij_XY"
   ]
  },
  {
   "cell_type": "code",
   "execution_count": 90,
   "metadata": {},
   "outputs": [],
   "source": [
    "def cal_U_L(dist_matrix, beta, J_L):\n",
    "    # w_ij = exp(-beta * d_ij) (alpha_j=0なので簡略化)\n",
    "    w = np.exp(-beta * dist_matrix)  # wは16x16\n",
    "    print(w.shape)\n",
    "\n",
    "    # U_i^L = Σ_j∈J_L w_ij = w[i,j] を J_L[j]==1 のところだけ合計\n",
    "    # J_Lが1となっている列のみ抽出し合計\n",
    "    U_L = (w * J_L).sum(axis=1)\n",
    "    return U_L\n"
   ]
  },
  {
   "cell_type": "code",
   "execution_count": 91,
   "metadata": {},
   "outputs": [],
   "source": [
    "def cal_U_F(dist_matrix, beta, J_F):\n",
    "    # w_ij = exp(-beta * d_ij) (alpha_j=0なので簡略化)\n",
    "    w = np.exp(-beta * dist_matrix)  # wは16x16\n",
    "    print(w.shape)\n",
    "\n",
    "    # U_i^F = Σ_j∈J_F w_ij = w[i,j] を J_F[j]==1 のところだけ合計\n",
    "    # J_Fが1となっている列のみ抽出し合計\n",
    "    U_F = (w * J_F).sum(axis=1)\n",
    "    return U_F"
   ]
  },
  {
   "cell_type": "code",
   "execution_count": 92,
   "metadata": {},
   "outputs": [],
   "source": [
    "def cal_f_i_Y(U_i_L, U_i_F, sum_w_i_X, sum_w_i_X_Y):\n",
    "    \"\"\"\n",
    "    引数:\n",
    "        U_i_L: ndarray of shape (|I|,) U_i^L\n",
    "        U_i_F: ndarray of shape (|I|,) U_i^F\n",
    "        sum_w_i_X: ndarray of shape (|I|,) Σ_j w_ij * X_j\n",
    "        sum_w_i_X_Y: ndarray of shape (|I|,) Σ_j w_ij * (X_j + Y_j)\n",
    "\n",
    "    戻り値:\n",
    "        f_i_Y: ndarray of shape (|I|,) 各 i に対して f_{i, Y}(X) の計算結果\n",
    "    \"\"\"\n",
    "    f_i_Y = (U_i_L + sum_w_i_X) / (U_i_L + U_i_F + sum_w_i_X_Y)\n",
    "    return f_i_Y"
   ]
  },
  {
   "cell_type": "code",
   "execution_count": 100,
   "metadata": {},
   "outputs": [
    {
     "name": "stdout",
     "output_type": "stream",
     "text": [
      "[0.51634453 0.50020851 0.49887306 0.48572004 0.515029   0.49643577\n",
      " 0.49477971 0.48656146 0.51125019 0.49178298 0.48366438 0.48355596\n",
      " 0.50417127 0.49342362 0.48595295 0.48322665]\n"
     ]
    }
   ],
   "source": [
    "X = np.array([1,0,1,0,1,0,1,0,1,0,0,0,0,0,0,0])\n",
    "Y = np.array([0,1,0,1,0,1,0,0,0,1,1,0,0,0,0,0])\n",
    "\n",
    "# alphaが０なので関係ない\n",
    "U_i_L = 0\n",
    "U_i_F = 0\n",
    "\n",
    "# Ensure w has the correct shape\n",
    "w = np.exp(-beta * dist_matrix)\n",
    "\n",
    "sum_w_i_X = cal_sum_w_ij(w, X)\n",
    "sum_w_i_X_Y = cal_sum_w_ij_XY(w, X, Y)\n",
    "\n",
    "f_i_Y = cal_f_i_Y(U_i_L, U_i_F, sum_w_i_X, sum_w_i_X_Y)\n",
    "print(f_i_Y)\n"
   ]
  },
  {
   "cell_type": "code",
   "execution_count": 72,
   "metadata": {},
   "outputs": [],
   "source": [
    "# 初期値を求めるのに使う\n",
    "def cul_alpha_n_beta(incum_x, h, U_L, U_F, w):\n",
    "    \"\"\"\n",
    "    引数:\n",
    "        incum_x: ndarray of shape (|J|,) インカンベント解 x_j\n",
    "        h: ndarray of shape (|I|,) 重み h_i\n",
    "        U_L: ndarray of shape (|I|,) U_i^L\n",
    "        U_F: ndarray of shape (|I|,) U_i^F\n",
    "        w: ndarray of shape (|I|, |J|) w_ij\n",
    "\n",
    "    戻り値:\n",
    "        alpha: スカラー値 alpha(x)\n",
    "        beta: ndarray of shape (|J|,) beta_j(x)\n",
    "        sorted_indices: beta_j(x)に従ってソートされた j のインデックス\n",
    "    \"\"\"\n",
    "    print(w.shape)\n",
    "    I_size = len(h)\n",
    "    J_size = len(incum_x)\n",
    "    x = incum_x\n",
    "\n",
    "    # a_i(x) = U_i^L + sum_j w_ij * x_j\n",
    "    a = U_L + (w * x).sum(axis=1)\n",
    "\n",
    "    # w_i^L(x) と w_i^U(x) の計算\n",
    "    # w_i^L(x) = U_i^F + Σ_{j : w_ij(1-x_j)<0} w_ij(1-x_j)\n",
    "    # w_i^U(x) = U_i^F + Σ_{j : w_ij(1-x_j)>0} w_ij(1-x_j)\n",
    "    w_i_L_vals = np.zeros(I_size)\n",
    "    w_i_U_vals = np.zeros(I_size)\n",
    "\n",
    "    one_minus_x = 1 - x\n",
    "\n",
    "    for i in range(I_size):\n",
    "        # 抽出\n",
    "        val = w[i,:] * one_minus_x\n",
    "        # 最小化の場合w_i^L:\n",
    "        # w_ij(1-x_j) < 0 なら y_j=1でその値を加算、それ以外はy_j=0で加算なし\n",
    "        negative_indices = val < 0\n",
    "        w_i_L_vals[i] = U_F[i] + val[negative_indices].sum()\n",
    "\n",
    "        # 最大化の場合w_i^U:\n",
    "        # w_ij(1-x_j) > 0 なら y_j=1でその値を加算、それ以外はy_j=0で加算なし\n",
    "        positive_indices = val > 0\n",
    "        w_i_U_vals[i] = U_F[i] + val[positive_indices].sum()\n",
    "\n",
    "    # alpha(x)の計算\n",
    "    # alpha(x)=Σ_i h_i [a_i(x)*(a_i(x)+w_i^U(x)+w_i^L(x)-U_i^F) / ((a_i(x)+w_i^U(x))*(a_i(x)+w_i^L(x)))]\n",
    "    numerator = a * (a + w_i_U_vals + w_i_L_vals - U_F)\n",
    "    denominator = (a + w_i_U_vals)*(a + w_i_L_vals)\n",
    "    alpha = (h * (numerator / denominator)).sum()\n",
    "\n",
    "    # beta_j(x)の計算\n",
    "    # beta_j(x)=Σ_i h_i [ a_i(x)*w_ij(1-x_j)/((a_i(x)+w_i^U(x))*(a_i(x)+w_i^L(x))) ]\n",
    "    beta = np.zeros(J_size)\n",
    "    for j in range(J_size):\n",
    "        val_j = w[:, j] * (one_minus_x[j])\n",
    "        beta_j_numerators = a * val_j\n",
    "        beta_j_denominators = (a + w_i_U_vals)*(a + w_i_L_vals)\n",
    "        beta[j] = (h * (beta_j_numerators / beta_j_denominators)).sum()\n",
    "\n",
    "    # beta_j(x) に従ってソート\n",
    "    # 大きい順で並べる\n",
    "    sorted_indices = np.argsort(-beta)  # 降順ソート\n",
    "\n",
    "    return alpha, beta, sorted_indices"
   ]
  },
  {
   "cell_type": "code",
   "execution_count": 73,
   "metadata": {},
   "outputs": [],
   "source": [
    "def solve_min_problem(incum_x, h, U_L, U_F, w, r):\n",
    "    \"\"\"\n",
    "    引数:\n",
    "        incum_x: 既知の x^ (ndarray, shape=(|J|,))\n",
    "        h:       重み h_i (ndarray, shape=(|I|,))\n",
    "        U_L:     U_i^L (ndarray, shape=(|I|,))\n",
    "        U_F:     U_i^F (ndarray, shape=(|I|,))\n",
    "        w:       w_{ij} (ndarray, shape=(|I|, |J|))\n",
    "        r:       制約 e^T y = r における r (int)\n",
    "\n",
    "    戻り値:\n",
    "        optimal_value:  最小値 (α(x^) - β(x^)^T y)\n",
    "        y_star:         最適解 y (ndarray, shape=(|J|,))\n",
    "    \"\"\"\n",
    "    alpha, beta, sorted_indices = cul_alpha_n_beta(incum_x, h, U_L, U_F, w)\n",
    "\n",
    "    # top r のインデックスを1、それ以外を0にする\n",
    "    y_star = np.zeros_like(beta)\n",
    "    top_r_indices = sorted_indices[:r]\n",
    "    y_star[top_r_indices] = 1\n",
    "\n",
    "    # 最小値を計算\n",
    "    # min_y {α - β^T y} = α - max_y {β^T y}, \n",
    "    # max_y {β^T y} は top r の β_j の合計\n",
    "    beta_sum_top_r = beta[top_r_indices].sum()\n",
    "    optimal_value = alpha - beta_sum_top_r\n",
    "\n",
    "    return optimal_value, y_star"
   ]
  },
  {
   "cell_type": "code",
   "execution_count": 74,
   "metadata": {},
   "outputs": [],
   "source": [
    "# !pip install pulp\n",
    "from pulp import LpProblem, LpMaximize, LpVariable, lpSum"
   ]
  },
  {
   "cell_type": "code",
   "execution_count": 75,
   "metadata": {},
   "outputs": [
    {
     "name": "stdout",
     "output_type": "stream",
     "text": [
      "Status: 1\n",
      "theta = 1.0\n",
      "x_0 = 1.0\n",
      "x_1 = 1.0\n",
      "x_2 = 0.0\n",
      "x_3 = 0.0\n",
      "x_4 = 0.0\n",
      "x_5 = 0.0\n",
      "x_6 = 0.0\n",
      "x_7 = 0.0\n",
      "x_8 = 0.0\n",
      "x_9 = 0.0\n",
      "x_10 = 1.0\n",
      "x_11 = 1.0\n",
      "x_12 = 0.0\n",
      "x_13 = 0.0\n",
      "x_14 = 0.0\n",
      "x_15 = 0.0\n",
      "(16, 16)\n",
      "0.5246409329803177\n",
      "incum_y : [0. 0. 0. 0. 0. 1. 1. 0. 0. 1. 0. 0. 0. 0. 1. 0.]\n",
      "incum_x : [1. 1. 0. 0. 0. 0. 0. 0. 0. 0. 1. 1. 0. 0. 0. 0.]\n"
     ]
    }
   ],
   "source": [
    "J_size = len(points)\n",
    "I_size = len(points) \n",
    "h = np.ones(I_size) / I_size\n",
    "p = 4\n",
    "r = 4\n",
    "\n",
    "# 問題定義\n",
    "prob_1 = [LpProblem(\"Max_theta\", LpMaximize)]\n",
    "\n",
    "# 変数定義\n",
    "# x_j は [0,1]の範囲、θ も [0,1]の範囲\n",
    "x = [LpVariable(f\"x_{j}\", lowBound=0, upBound=1) for j in range(J_size)]\n",
    "theta = LpVariable(\"theta\", lowBound=0, upBound=1)\n",
    "\n",
    "while prob_1:\n",
    "    prob = prob_1.pop()\n",
    "    \n",
    "    # 目的関数\n",
    "    prob += theta, \"Maximize_theta\"\n",
    "\n",
    "    # 制約: e^T x = p (x_jをすべて足してp)\n",
    "    prob += lpSum(x) == p, \"sum_of_x_equals_p\"\n",
    "\n",
    "    # 問題を解く\n",
    "    prob.solve()\n",
    "\n",
    "    # 結果表示\n",
    "    print(\"Status:\", prob.status)\n",
    "    print(\"theta =\", theta.varValue)\n",
    "    for j in range(J_size):\n",
    "        print(f\"x_{j} = {x[j].varValue}\")\n",
    "        \n",
    "    incum_theta = theta\n",
    "    incum_x = np.array([var.varValue for var in x], dtype=float)\n",
    "    \n",
    "    optimal_val, incum_y = solve_min_problem(incum_x, h, U_L, U_F, w, r)\n",
    "    print(optimal_val)\n",
    "    print(f\"incum_y : {incum_y}\")\n",
    "    print(f\"incum_x : {incum_x}\")"
   ]
  }
 ],
 "metadata": {
  "kernelspec": {
   "display_name": "base",
   "language": "python",
   "name": "python3"
  },
  "language_info": {
   "codemirror_mode": {
    "name": "ipython",
    "version": 3
   },
   "file_extension": ".py",
   "mimetype": "text/x-python",
   "name": "python",
   "nbconvert_exporter": "python",
   "pygments_lexer": "ipython3",
   "version": "3.12.7"
  }
 },
 "nbformat": 4,
 "nbformat_minor": 2
}
