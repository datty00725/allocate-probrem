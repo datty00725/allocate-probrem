{
 "cells": [
  {
   "cell_type": "code",
   "execution_count": 3,
   "id": "f1c875bd",
   "metadata": {},
   "outputs": [],
   "source": [
    "%run ../gda/func4.ipynb"
   ]
  },
  {
   "cell_type": "code",
   "execution_count": 4,
   "id": "d78fbdfc",
   "metadata": {},
   "outputs": [],
   "source": [
    "def lgda_solver(\n",
    "    x0: np.ndarray, y0: np.ndarray, w: np.ndarray,\n",
    "    Ui_L: np.ndarray, Ui_F: np.ndarray, h: np.ndarray,\n",
    "    p: int, r: int, *,\n",
    "    eta_x: float = 0.01, eta_y: float = 0.01,\n",
    "    mu: float = 0.01,\n",
    "    max_iter: int = 500, tau_interval: int = 10,\n",
    "    return_history: bool = False\n",
    "):\n",
    "    \"\"\"LGDA with Mutation (Algorithm 4) solver.\"\"\"\n",
    "    x = x0.copy()\n",
    "    y = y0.copy()\n",
    "\n",
    "    cp = x.copy()\n",
    "    cq = y.copy()\n",
    "    tau = 0\n",
    "\n",
    "    obj_vals, dx_vals, dy_vals = [], [], []\n",
    "\n",
    "    for _ in range(max_iter):\n",
    "        gx = grad_x(x, y, w, Ui_L, Ui_F, h)\n",
    "        gy = grad_y(x, y, w, Ui_L, Ui_F, h)\n",
    "\n",
    "        # Mutation-added update steps\n",
    "        x_tmp = x - eta_x * gx - mu * (x - cp)\n",
    "        y_tmp = y + eta_y * gy + mu * (cq - y)\n",
    "\n",
    "        x_next = project_cardinality(x_tmp, p)\n",
    "        y_next = project_cardinality(y_tmp, r, mask=(x_next > 0))\n",
    "\n",
    "        dx = np.linalg.norm(x_next - x)\n",
    "        dy = np.linalg.norm(y_next - y)\n",
    "        obj = compute_Lhat(x_next, y_next, w, Ui_L, Ui_F, h)\n",
    "\n",
    "        obj_vals.append(obj)\n",
    "        dx_vals.append(dx)\n",
    "        dy_vals.append(dy)\n",
    "\n",
    "        x, y = x_next, y_next\n",
    "        tau += 1\n",
    "\n",
    "        # Mutation reference update\n",
    "        if tau == tau_interval:\n",
    "            cp = x.copy()\n",
    "            cq = y.copy()\n",
    "            tau = 0\n",
    "\n",
    "    history = {\n",
    "        \"objective\": np.array(obj_vals),\n",
    "        \"dx\": np.array(dx_vals),\n",
    "        \"dy\": np.array(dy_vals)\n",
    "    }\n",
    "\n",
    "    if return_history:\n",
    "        return x, y, history\n",
    "    return x, y"
   ]
  }
 ],
 "metadata": {
  "kernelspec": {
   "display_name": "base",
   "language": "python",
   "name": "python3"
  },
  "language_info": {
   "codemirror_mode": {
    "name": "ipython",
    "version": 3
   },
   "file_extension": ".py",
   "mimetype": "text/x-python",
   "name": "python",
   "nbconvert_exporter": "python",
   "pygments_lexer": "ipython3",
   "version": "3.11.7"
  }
 },
 "nbformat": 4,
 "nbformat_minor": 5
}
