{
 "cells": [
  {
   "cell_type": "code",
   "execution_count": 8,
   "id": "4e5f22a0",
   "metadata": {},
   "outputs": [],
   "source": [
    "import random\n",
    "import numpy as np\n",
    "from scipy.optimize import minimize\n",
    "import matplotlib.pyplot as plt"
   ]
  },
  {
   "cell_type": "code",
   "execution_count": 9,
   "id": "a5c7791d",
   "metadata": {},
   "outputs": [],
   "source": [
    "%run ./func.ipynb"
   ]
  },
  {
   "cell_type": "code",
   "execution_count": null,
   "id": "a5c826ac",
   "metadata": {},
   "outputs": [],
   "source": [
    "D, J = 20,20\n",
    "\n",
    "# a side of the grid\n",
    "num_rows_columns = 50\n",
    "demand_points, candidate_sites = generate_instance(num_rows_columns, D, J, seed=42)\n",
    "\n",
    "print(\"Demand Points:\")\n",
    "print(demand_points)\n",
    "\n",
    "print(\"\\nCandidate Sites:\")\n",
    "print(candidate_sites)"
   ]
  },
  {
   "cell_type": "code",
   "execution_count": null,
   "id": "cd4d6336",
   "metadata": {},
   "outputs": [],
   "source": [
    "alpha = 0\n",
    "beta = 0.1\n",
    "\n",
    "p = 5\n",
    "r = 5\n",
    "\n",
    "h_i = np.full(D, 1 / D)\n",
    "\n",
    "# 既存のリーダーの施設セット J_L を仮定\n",
    "J_L = {}  # インデックスとして候補施設の一部を選択\n",
    "J_F = {}"
   ]
  },
  {
   "cell_type": "code",
   "execution_count": null,
   "id": "428ee1d1",
   "metadata": {},
   "outputs": [],
   "source": [
    "distances = compute_distances(demand_points, candidate_sites)\n",
    "print(\"\\nDistances:\", distances)\n",
    "\n",
    "# w_ij の計算\n",
    "wij_matrix = compute_wij_matrix(distances, alpha, beta)\n",
    "print(\"\\nw_ij Matrix:\", wij_matrix)\n",
    "\n",
    "# U_i^L の計算\n",
    "Ui_L = compute_Ui_L(wij_matrix, J_L)\n",
    "print(\"\\nU_i^L:\", Ui_L)\n",
    "\n",
    "# U_i^F の計算\n",
    "Ui_F = compute_Ui_F(wij_matrix, J_F)\n",
    "print(\"\\nU_i^F:\", Ui_F)"
   ]
  }
 ],
 "metadata": {
  "kernelspec": {
   "display_name": "base",
   "language": "python",
   "name": "python3"
  },
  "language_info": {
   "codemirror_mode": {
    "name": "ipython",
    "version": 3
   },
   "file_extension": ".py",
   "mimetype": "text/x-python",
   "name": "python",
   "nbconvert_exporter": "python",
   "pygments_lexer": "ipython3",
   "version": "3.11.7"
  }
 },
 "nbformat": 4,
 "nbformat_minor": 5
}
