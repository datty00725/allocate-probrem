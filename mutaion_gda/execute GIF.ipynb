{
 "cells": [
  {
   "cell_type": "code",
   "execution_count": 66,
   "id": "4e5f22a0",
   "metadata": {},
   "outputs": [],
   "source": [
    "import random\n",
    "import numpy as np\n",
    "from scipy.optimize import minimize\n",
    "import matplotlib.pyplot as plt"
   ]
  },
  {
   "cell_type": "code",
   "execution_count": 67,
   "id": "a5c7791d",
   "metadata": {},
   "outputs": [],
   "source": [
    "%run ./func.ipynb"
   ]
  },
  {
   "cell_type": "code",
   "execution_count": 68,
   "id": "a5c826ac",
   "metadata": {},
   "outputs": [],
   "source": [
    "D, J = 100,100"
   ]
  },
  {
   "cell_type": "code",
   "execution_count": 69,
   "id": "cd4d6336",
   "metadata": {},
   "outputs": [],
   "source": [
    "alpha = 0\n",
    "beta = 0.1\n",
    "\n",
    "p = 10\n",
    "r = 10"
   ]
  },
  {
   "cell_type": "code",
   "execution_count": 70,
   "id": "1d001906",
   "metadata": {},
   "outputs": [
    {
     "name": "stdout",
     "output_type": "stream",
     "text": [
      "Lval[0]: 0.5472590293364019\n",
      "Lval[0]: 0.48007155735213125\n",
      "Lval[0]: 0.4592930742079903\n",
      "Lval[0]: 0.5408902483324861\n",
      "Lval[0]: 0.502689780967137\n",
      "Lval[0]: 0.49804211738022\n",
      "Lval[0]: 0.48638680099713\n",
      "Lval[0]: 0.47021480476191224\n",
      "Lval[0]: 0.5153707634453653\n",
      "Lval[0]: 0.4735015477640413\n",
      "Lval[0]: 0.44585994962631237\n",
      "Lval[0]: 0.5077212168242369\n",
      "Lval[0]: 0.48050760336791054\n",
      "Lval[0]: 0.547936837485229\n",
      "Lval[0]: 0.4838798494348485\n",
      "Lval[0]: 0.5011689313983556\n",
      "Lval[0]: 0.5049481876757557\n",
      "Lval[0]: 0.4840560004596697\n",
      "Lval[0]: 0.5107374426320482\n",
      "Lval[0]: 0.5144890435865481\n",
      "✅ GIF saved as 'growing_sites.gif'\n"
     ]
    }
   ],
   "source": [
    "create_growing_sites_gif(\n",
    "    D, J,\n",
    "    p, r,\n",
    "    num_rows_columns = 50,\n",
    "    filename=\"growing_sites.gif\",\n",
    "    eta_x=0.01, eta_y=0.01,\n",
    "    mu=1.1,\n",
    "    max_iter=1000,\n",
    "    tau_interval=20,\n",
    "    logy=False,\n",
    "    step=20\n",
    ")"
   ]
  }
 ],
 "metadata": {
  "kernelspec": {
   "display_name": "base",
   "language": "python",
   "name": "python3"
  },
  "language_info": {
   "codemirror_mode": {
    "name": "ipython",
    "version": 3
   },
   "file_extension": ".py",
   "mimetype": "text/x-python",
   "name": "python",
   "nbconvert_exporter": "python",
   "pygments_lexer": "ipython3",
   "version": "3.11.7"
  }
 },
 "nbformat": 4,
 "nbformat_minor": 5
}
