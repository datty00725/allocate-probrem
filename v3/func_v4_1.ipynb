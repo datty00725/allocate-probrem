{
 "cells": [
  {
   "cell_type": "markdown",
   "id": "626d54c4",
   "metadata": {},
   "source": [
    "# ヒューリスティックにxが選んだ場所をyが選ばないように変更"
   ]
  },
  {
   "cell_type": "code",
   "execution_count": null,
   "id": "e20d889e",
   "metadata": {},
   "outputs": [],
   "source": [
    "def generate_instance(num_rows_columns, I, J, seed=42):\n",
    "    \"\"\"\n",
    "    Generate I demand points and J candidate facility sites from a grid of size num_rows_columns x num_rows_columns.\n",
    "    Returns: (demand_points, candidate_sites)\n",
    "    \"\"\"\n",
    "    if seed is not None:\n",
    "        random.seed(seed)\n",
    "    \n",
    "    # すべての格子点を生成（1始まり）\n",
    "    all_points = [(x, y) for x in range(1, num_rows_columns + 1)\n",
    "                         for y in range(1, num_rows_columns + 1)]\n",
    "    \n",
    "    # ランダムにシャッフル\n",
    "    random.shuffle(all_points)\n",
    "    \n",
    "    # 十分な点があるか確認\n",
    "    assert I + J <= len(all_points), \"Grid is too small for given I and J.\"\n",
    "    \n",
    "    demand_points = all_points[:I]\n",
    "    candidate_sites = all_points[I:I+J]\n",
    "    \n",
    "    return demand_points, candidate_sites\n"
   ]
  },
  {
   "cell_type": "code",
   "execution_count": null,
   "id": "ee8833dd",
   "metadata": {},
   "outputs": [],
   "source": [
    "# 修正後のユークリッド距離の計算関数\n",
    "def compute_distances(demand_points, candidate_sites):\n",
    "    D, J = len(demand_points), len(candidate_sites)  # ここで D, J を定義\n",
    "    distances = np.zeros((D, J))\n",
    "    for d in range(D):\n",
    "        for j in range(J):\n",
    "            distances[d, j] = np.sqrt(\n",
    "                (demand_points[d][0] - candidate_sites[j][0]) ** 2\n",
    "                + (demand_points[d][1] - candidate_sites[j][1]) ** 2\n",
    "            )\n",
    "    return distances\n"
   ]
  },
  {
   "cell_type": "code",
   "execution_count": null,
   "id": "9d9df4c1",
   "metadata": {},
   "outputs": [],
   "source": [
    "def compute_wij_matrix(distances, alpha=0, beta=0.1):\n",
    "    wij_matrix = np.exp(alpha - beta * distances)\n",
    "    return wij_matrix"
   ]
  },
  {
   "cell_type": "code",
   "execution_count": null,
   "id": "673177a5",
   "metadata": {},
   "outputs": [],
   "source": [
    "def compute_Ui_L(wij_matrix, J_L):\n",
    "    \"\"\"\n",
    "    リーダーの既存施設による U_i^L を計算する関数\n",
    "\n",
    "    Parameters:\n",
    "        wij_matrix (np.array): D × J の w_ij の重み行列\n",
    "        J_L (set): リーダーが既に持っている施設のインデックス集合\n",
    "\n",
    "    Returns:\n",
    "        np.array: 各需要点 i に対する U_i^L のベクトル\n",
    "    \"\"\"\n",
    "    D, _ = wij_matrix.shape  # D: 需要点の数, J: 候補施設の数\n",
    "\n",
    "    # J_L が空なら影響はゼロ\n",
    "    if not J_L:\n",
    "        return np.zeros(D)\n",
    "\n",
    "    # 各需要点 i に対して、リーダーの施設 j ∈ J_L からの重みを合計する\n",
    "    utility_vector = np.zeros(D)\n",
    "    for j in J_L:\n",
    "        # 列 j は、施設 j が各需要点に与える重み\n",
    "        utility_vector += wij_matrix[:, j]\n",
    "\n",
    "    return utility_vector\n",
    "\n",
    "\n",
    "def compute_Ui_F(wij_matrix, J_F):\n",
    "    \"\"\"\n",
    "    リーダーの既存施設による U_i^L を計算する関数\n",
    "\n",
    "    Parameters:\n",
    "        wij_matrix (np.array): D × J の w_ij の重み行列\n",
    "        J_L (set): リーダーが既に持っている施設のインデックス集合\n",
    "\n",
    "    Returns:\n",
    "        np.array: 各需要点 i に対する U_i^L のベクトル\n",
    "    \"\"\"\n",
    "    D, _ = wij_matrix.shape  # D: 需要点の数, J: 候補施設の数\n",
    "\n",
    "    # J_L が空なら影響はゼロ\n",
    "    if not J_F:\n",
    "        return np.zeros(D)\n",
    "\n",
    "    # 各需要点 i に対して、リーダーの施設 j ∈ J_L からの重みを合計する\n",
    "    utility_vector = np.zeros(D)\n",
    "    for j in J_F:\n",
    "        # 列 j は、施設 j が各需要点に与える重み\n",
    "        utility_vector += wij_matrix[:, j]\n",
    "\n",
    "    return utility_vector"
   ]
  },
  {
   "cell_type": "markdown",
   "id": "1398b2ae",
   "metadata": {},
   "source": [
    "## 以下アルゴリズム"
   ]
  },
  {
   "cell_type": "markdown",
   "id": "c410bd43",
   "metadata": {},
   "source": [
    "### 分子分母の計算"
   ]
  },
  {
   "cell_type": "code",
   "execution_count": null,
   "id": "c2c3f573",
   "metadata": {},
   "outputs": [],
   "source": [
    "def compute_Ai(x, y, w_ij, Ui_L):\n",
    "    return np.array([\n",
    "        Ui_L[i] + sum(w_ij[i][j] * (-y[j] * x[j]**2 + (1 + y[j]) * x[j]) for j in range(len(x)))\n",
    "        for i in range(len(Ui_L))\n",
    "    ])\n",
    "\n",
    "def compute_Bi(x, y, w_ij, Ui_L, Ui_F):\n",
    "    return np.array([\n",
    "        Ui_L[i] + Ui_F[i] + sum(w_ij[i][j] * ((1 - y[j]) * x[j] + y[j]) for j in range(len(x)))\n",
    "        for i in range(len(Ui_L))\n",
    "    ])"
   ]
  },
  {
   "cell_type": "markdown",
   "id": "925cd280",
   "metadata": {},
   "source": [
    "### 変数"
   ]
  },
  {
   "cell_type": "code",
   "execution_count": null,
   "id": "25cd4d95",
   "metadata": {},
   "outputs": [],
   "source": [
    "def update_lambda(Ai, Bi):\n",
    "    return np.sqrt(Ai) / Bi\n",
    "\n",
    "def update_mu_amgm(Ai, Bi):\n",
    "    \"\"\"μ_i = 1 / (2 A_i B_i)  (式 22)\"\"\"\n",
    "    return 1.0 / (2.0 * Ai * Bi)"
   ]
  },
  {
   "cell_type": "markdown",
   "id": "df385cc6",
   "metadata": {},
   "source": [
    "### Quadratic Transform"
   ]
  },
  {
   "cell_type": "code",
   "execution_count": null,
   "id": "4c1f27e5",
   "metadata": {},
   "outputs": [],
   "source": [
    "def objective_x_max(x, y, lambdas, w_ij, Ui_L, Ui_F, h_i):\n",
    "    Ai = compute_Ai(x, y, w_ij, Ui_L)\n",
    "    Bi = compute_Bi(x, y, w_ij, Ui_L, Ui_F)\n",
    "    total = sum(h_i[i] * (2 * lambdas[i] * np.sqrt(Ai[i]) - lambdas[i]**2 * Bi[i]) for i in range(len(h_i)))\n",
    "    return total\n",
    "\n",
    "def objective_y_amgm(y, x_fixed, mus, w_ij, Ui_L, Ui_F, h_i):\n",
    "    \"\"\"\n",
    "    h(y) = Σ_i h_i [ μ_i A_i(x,y)^2 + 1/(4 μ_i B_i(x,y)^2) ]\n",
    "    ※ μ_i は固定パラメータ、y_j が最適化変数\n",
    "    \"\"\"\n",
    "    Ai = compute_Ai(x_fixed, y, w_ij, Ui_L)\n",
    "    Bi = compute_Bi(x_fixed, y, w_ij, Ui_L, Ui_F)\n",
    "\n",
    "    eps = 1e-12                      # 0 除対策\n",
    "    term = h_i * (mus * Ai**2 + 1.0 / (4.0 * np.maximum(eps, mus) * Bi**2))\n",
    "    return term.sum()"
   ]
  },
  {
   "cell_type": "code",
   "execution_count": null,
   "id": "e5339049",
   "metadata": {},
   "outputs": [],
   "source": [
    "def minmax_solver(x0, y0, w_ij, Ui_L, Ui_F, h_i,\n",
    "                  p, r, max_iter=30, tol=1e-5):\n",
    "\n",
    "    x, y = np.copy(x0), np.copy(y0)\n",
    "    hist_Lcont, hist_dx, hist_dy = [], [], []\n",
    "    ftol = 1e-9\n",
    "\n",
    "    for k in range(max_iter):\n",
    "        print(f\"\\n🌸🌸🌸  Iteration {k+1}  🌸🌸🌸\")\n",
    "        # ---------- 1. λ 更新 ----------\n",
    "        Ai = compute_Ai(x, y, w_ij, Ui_L)\n",
    "        Bi = compute_Bi(x, y, w_ij, Ui_L, Ui_F)\n",
    "        lambdas = update_lambda(Ai, Bi)\n",
    "\n",
    "        # ---------- 2. x 最大化 ----------\n",
    "        \n",
    "        res_x = maximize(objective_x_max, x,\n",
    "                         args=(y, lambdas, w_ij, Ui_L, Ui_F, h_i),\n",
    "                         bounds=[(0, 1)]*len(x),\n",
    "                         constraints=[make_sum_constraint(p)],\n",
    "                         options={'ftol': ftol})\n",
    "        x_new = res_x.x if res_x.success else x\n",
    "\n",
    "        # ---------- 3. μ 更新 ----------\n",
    "        Ai = compute_Ai(x_new, y, w_ij, Ui_L)\n",
    "        Bi = compute_Bi(x_new, y, w_ij, Ui_L, Ui_F)\n",
    "        mus = update_mu_amgm(Ai, Bi)\n",
    "\n",
    "        # ---------- 4. y 最小化 ----------\n",
    "        upper_bounds_y = [max(0.0, 1.0 - x_new[j]) for j in range(len(y))]\n",
    "        bounds_y = [(0.0, ub) for ub in upper_bounds_y]\n",
    "\n",
    "        # y 最小化を AM-GM 版 objective に差し替え\n",
    "        res_y = minimize(\n",
    "            objective_y_amgm, y,\n",
    "            args=(x_new, mus, w_ij, Ui_L, Ui_F, h_i),   \n",
    "            method='SLSQP',\n",
    "            bounds=bounds_y,\n",
    "            constraints=[make_sum_constraint(r)],\n",
    "            options={'ftol': ftol, 'maxiter': 300}\n",
    "        )\n",
    "        y_new = res_y.x if res_y.success else y\n",
    "\n",
    "        # 5. 丸め (重複禁止) と履歴\n",
    "        x_bin, y_bin = round_disjoint_best_k(x_new, y_new, p, r)\n",
    "        x_bin_bin = round_to_binary_best_k(x_new, p)\n",
    "        y_bin_bin = round_to_binary_best_k(y_new, r)\n",
    "        Lval         = compute_L(h_i, Ui_L, Ui_F, w_ij, x_bin, y_bin)\n",
    "\n",
    "        hist_Lcont.append(Lval)\n",
    "        hist_dx.append(np.linalg.norm(x_new - x))\n",
    "        hist_dy.append(np.linalg.norm(y_new - y))\n",
    "\n",
    "        print(\"🔧  After rounding:\")\n",
    "        print(f\"     ➤ x (rounded): {x_bin}\")\n",
    "        print(f\"     ➤ x ( binbin): {x_bin_bin}\")\n",
    "        print(f\"     ➤ y (rounded): {y_bin}\")\n",
    "        print(f\"     ➤ y ( binbin): {y_bin_bin}\")\n",
    "        print(f\"📈  Objective L̂(x, y) = {Lval:.6f}\")\n",
    "        print(f\"🔍  dx = {hist_dx[-1]:.2e}, dy = {hist_dy[-1]:.2e}\")\n",
    "\n",
    "        if hist_dx[-1] < tol and hist_dy[-1] < tol:\n",
    "            print(\"🎉✨ 収束しました！Great job! ✨🎉\")\n",
    "            break\n",
    "\n",
    "        x, y = x_new, y_new\n",
    "\n",
    "    return x, y, hist_Lcont, hist_dx, hist_dy, x_bin_bin, y_bin_bin"
   ]
  },
  {
   "cell_type": "code",
   "execution_count": null,
   "id": "2f91b070",
   "metadata": {},
   "outputs": [],
   "source": [
    "def compute_Lhat(x, y, w_ij, Ui_L, Ui_F, h_i):\n",
    "    Ai = Ui_L + (w_ij * (-y * x**2 + (1 + y) * x)).sum(axis=1)\n",
    "    Bi = Ui_L + Ui_F + (w_ij * ((1 - y) * x + y)).sum(axis=1)\n",
    "    return np.sum(h_i * Ai / Bi)"
   ]
  },
  {
   "cell_type": "code",
   "execution_count": null,
   "id": "4bad93cd",
   "metadata": {},
   "outputs": [],
   "source": [
    "def make_sum_constraint(L):\n",
    "    return {'type': 'ineq', 'fun': (lambda v, limit=L: limit - np.sum(v))}"
   ]
  },
  {
   "cell_type": "code",
   "execution_count": null,
   "id": "9e09ce93",
   "metadata": {},
   "outputs": [],
   "source": [
    "def maximize(fun, x0, args=(), bounds=None, constraints=(), **kwargs):\n",
    "    \"\"\"minimize を使って fun を最大化する簡単ラッパー\"\"\"\n",
    "    res = minimize(lambda v, *a: -fun(v, *a), x0,\n",
    "                   args=args, bounds=bounds, constraints=constraints, **kwargs)\n",
    "    res.fun = -res.fun   # 戻り値を「最大値」に修正\n",
    "    return res"
   ]
  },
  {
   "cell_type": "code",
   "execution_count": null,
   "id": "9678bf6a",
   "metadata": {},
   "outputs": [],
   "source": [
    "def compute_L(h_i, Ui_L, Ui_F, wij, x, y):\n",
    "    \"\"\"\n",
    "    関数 L(x, y) を計算する\n",
    "\n",
    "    Parameters:\n",
    "        h (np.array): 需要点ごとの人口密度ベクトル (D,)\n",
    "        Ui_L (np.array): 各需要点におけるリーダーの影響度 (D,)\n",
    "        Ui_F (np.array): 各需要点におけるフォロワーの影響度 (D,)\n",
    "        wij (np.array): 需要点と施設候補の重み行列 (D, J)\n",
    "        x (np.array): リーダーが選択した施設配置 (J,)\n",
    "        y (np.array): フォロワーが選択した施設配置 (J,)\n",
    "\n",
    "    Returns:\n",
    "        float: L(x, y) の計算結果\n",
    "    \"\"\"\n",
    "    numerator = Ui_L + (wij @ x)  # 分子: リーダーの影響度 + 選択した施設の影響\n",
    "    denominator = Ui_L + Ui_F + (wij @ np.maximum(x, y))  # 分母: 総合影響度\n",
    "\n",
    "    return np.sum(h_i * (numerator / denominator))"
   ]
  },
  {
   "cell_type": "code",
   "execution_count": null,
   "id": "bc3d40b5",
   "metadata": {},
   "outputs": [],
   "source": [
    "def round_to_binary_best_k(v, k=2):\n",
    "    \"\"\"\n",
    "    v : 1-D ndarray, 連続値ベクトル (0-1 区間)\n",
    "    k : 1 を立てる最大個数\n",
    "    ---------------------------\n",
    "    上位 k 個の成分を 1 にして残りを 0 に丸める。\n",
    "    \"\"\"\n",
    "    bin_v = np.zeros_like(v)\n",
    "    if k > 0:\n",
    "        top_idx = np.argsort(-v)[:k]     # 大きい順に k 個取り出す\n",
    "        bin_v[top_idx] = 1.0\n",
    "    return bin_v"
   ]
  },
  {
   "cell_type": "code",
   "execution_count": null,
   "id": "f762e2fd",
   "metadata": {},
   "outputs": [],
   "source": [
    "def round_disjoint_best_k(x_cont, y_cont, p, r):\n",
    "    \"\"\"\n",
    "    x 用の連続値スコア x_cont,  y 用の連続値スコア y_cont を\n",
    "    0-1 ベクトル (x_bin, y_bin) に丸める。\n",
    "    - x は上位 p 個を 1\n",
    "    - y は x が 1 でない場所から上位 r 個を 1\n",
    "    \"\"\"\n",
    "    J = len(x_cont)\n",
    "    x_bin = np.zeros(J)\n",
    "    y_bin = np.zeros(J)\n",
    "\n",
    "    # --- x を確定 ---\n",
    "    idx_x = np.argsort(-x_cont)[:p]\n",
    "    x_bin[idx_x] = 1\n",
    "\n",
    "    # --- y を確定 (x が 0 の場所限定) ---\n",
    "    candidate_mask = (x_bin == 0)\n",
    "    idx_y_all = np.argsort(-y_cont)           # 降順ソート\n",
    "    # フィルタして上位 r 個\n",
    "    selected_y = [j for j in idx_y_all if candidate_mask[j]][:r]\n",
    "    y_bin[selected_y] = 1\n",
    "\n",
    "    return x_bin, y_bin"
   ]
  }
 ],
 "metadata": {
  "kernelspec": {
   "display_name": "base",
   "language": "python",
   "name": "python3"
  },
  "language_info": {
   "codemirror_mode": {
    "name": "ipython",
    "version": 3
   },
   "file_extension": ".py",
   "mimetype": "text/x-python",
   "name": "python",
   "nbconvert_exporter": "python",
   "pygments_lexer": "ipython3",
   "version": "3.11.7"
  }
 },
 "nbformat": 4,
 "nbformat_minor": 5
}
