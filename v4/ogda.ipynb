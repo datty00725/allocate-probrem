{
 "cells": [
  {
   "cell_type": "code",
   "execution_count": 128,
   "id": "458c2391",
   "metadata": {},
   "outputs": [],
   "source": [
    "%run ./func.ipynb"
   ]
  },
  {
   "cell_type": "code",
   "execution_count": 129,
   "id": "f645b4ee",
   "metadata": {},
   "outputs": [],
   "source": [
    "import numpy as np\n",
    "import random\n",
    "import matplotlib.pyplot as plt"
   ]
  },
  {
   "cell_type": "markdown",
   "id": "a49a6f80",
   "metadata": {},
   "source": [
    "## Premi"
   ]
  },
  {
   "cell_type": "code",
   "execution_count": 130,
   "id": "da192e87",
   "metadata": {},
   "outputs": [],
   "source": [
    "I = J = 50\n",
    "\n",
    "num_rows_columns = 50\n",
    "demand_points, candidate_sites = generate_instance(num_rows_columns, I, J, seed=42)\n",
    "\n",
    "alpha = 0\n",
    "beta = 0.1\n",
    "\n",
    "p = 20\n",
    "r = 20\n",
    "\n",
    "h_i = np.full(I, 1 / I)\n",
    "\n",
    "# 既存のリーダーの施設セット J_L を仮定\n",
    "J_L = {}  # インデックスとして候補施設の一部を選択\n",
    "J_F = {}"
   ]
  },
  {
   "cell_type": "code",
   "execution_count": 131,
   "id": "92700d18",
   "metadata": {},
   "outputs": [
    {
     "name": "stdout",
     "output_type": "stream",
     "text": [
      "\n",
      "Distances: [[22.09072203 10.44030651 31.11269837 ... 18.60107524 21.9317122\n",
      "   2.82842712]\n",
      " [36.40054945 37.12142239 22.56102835 ... 40.85339643 18.60107524\n",
      "  25.07987241]\n",
      " [30.59411708 11.18033989 42.42640687 ...  7.61577311 33.24154028\n",
      "  11.66190379]\n",
      " ...\n",
      " [23.53720459  5.         37.01351105 ... 14.56021978 28.01785145\n",
      "   9.05538514]\n",
      " [15.62049935 35.22782991 15.62049935 ... 51.4781507  18.02775638\n",
      "  34.92849839]\n",
      " [35.34119409 40.19950248 17.         ... 46.5295605  16.1245155\n",
      "  29.41088234]]\n",
      "\n",
      "w_ij Matrix: [[0.10980248 0.3520329  0.04454436 ... 0.15565589 0.1115624  0.75363832]\n",
      " [0.0262509  0.02442514 0.10475795 ... 0.01681743 0.15565589 0.08143198]\n",
      " [0.04691529 0.3269219  0.0143696  ... 0.46692935 0.03600296 0.31155158]\n",
      " ...\n",
      " [0.095015   0.60653066 0.02469014 ... 0.23316196 0.0607016  0.40432409]\n",
      " [0.20970575 0.02951717 0.20970575 ... 0.00581209 0.16484071 0.03041407]\n",
      " [0.02918445 0.01795386 0.18268352 ... 0.00953338 0.19939818 0.05280823]]\n",
      "\n",
      "U_i^L: [0. 0. 0. 0. 0. 0. 0. 0. 0. 0. 0. 0. 0. 0. 0. 0. 0. 0. 0. 0. 0. 0. 0. 0.\n",
      " 0. 0. 0. 0. 0. 0. 0. 0. 0. 0. 0. 0. 0. 0. 0. 0. 0. 0. 0. 0. 0. 0. 0. 0.\n",
      " 0. 0.]\n",
      "\n",
      "U_i^F: [0. 0. 0. 0. 0. 0. 0. 0. 0. 0. 0. 0. 0. 0. 0. 0. 0. 0. 0. 0. 0. 0. 0. 0.\n",
      " 0. 0. 0. 0. 0. 0. 0. 0. 0. 0. 0. 0. 0. 0. 0. 0. 0. 0. 0. 0. 0. 0. 0. 0.\n",
      " 0. 0.]\n"
     ]
    }
   ],
   "source": [
    "distances = compute_distances(demand_points, candidate_sites)\n",
    "print(\"\\nDistances:\", distances)\n",
    "\n",
    "# w_ij の計算\n",
    "w_ij = compute_wij_matrix(distances, alpha, beta)\n",
    "print(\"\\nw_ij Matrix:\", w_ij)\n",
    "\n",
    "# U_i^L の計算\n",
    "Ui_L = compute_Ui_L(w_ij, J_L)\n",
    "print(\"\\nU_i^L:\", Ui_L)\n",
    "\n",
    "# U_i^F の計算\n",
    "Ui_F = compute_Ui_F(w_ij, J_F)\n",
    "print(\"\\nU_i^F:\", Ui_F)"
   ]
  },
  {
   "cell_type": "code",
   "execution_count": 132,
   "id": "1390a306",
   "metadata": {},
   "outputs": [
    {
     "name": "stdout",
     "output_type": "stream",
     "text": [
      "\n",
      "🌸🌸🌸  Iteration 1  🌸🌸🌸\n",
      "🔧  After rounding:\n",
      "     ➤ x (rounded): [0. 0. 0. 0. 1. 1. 0. 1. 0. 1. 1. 0. 1. 0. 1. 0. 1. 0. 0. 0. 0. 0. 1. 1.\n",
      " 0. 0. 1. 1. 1. 1. 1. 0. 0. 1. 0. 0. 0. 1. 1. 0. 0. 0. 0. 0. 0. 1. 0. 0.\n",
      " 0. 1.]\n",
      "     ➤ x ( binbin): [0. 0. 0. 0. 1. 1. 0. 1. 0. 1. 1. 0. 1. 0. 1. 0. 1. 0. 0. 0. 0. 0. 1. 1.\n",
      " 0. 0. 1. 1. 1. 1. 1. 0. 0. 1. 0. 0. 0. 1. 1. 0. 0. 0. 0. 0. 0. 1. 0. 0.\n",
      " 0. 1.]\n",
      "     ➤ y (rounded): [0. 1. 1. 1. 0. 0. 0. 0. 0. 0. 0. 1. 0. 1. 0. 1. 0. 0. 1. 0. 1. 1. 0. 0.\n",
      " 0. 1. 0. 0. 0. 0. 0. 1. 1. 0. 1. 1. 0. 0. 0. 1. 0. 1. 0. 1. 1. 0. 1. 0.\n",
      " 1. 0.]\n",
      "     ➤ y ( binbin): [0. 1. 1. 1. 0. 0. 0. 0. 0. 0. 0. 1. 0. 1. 0. 1. 0. 0. 1. 0. 1. 1. 0. 0.\n",
      " 0. 1. 0. 0. 0. 0. 0. 1. 1. 0. 1. 1. 0. 0. 0. 1. 0. 1. 0. 1. 1. 0. 1. 0.\n",
      " 1. 0.]\n",
      "📈  Objective L(x, y) = 0.483238\n",
      "📈  Objective L̂(x, y) = 0.483238\n",
      "🔍  dx = 0.00e+00, dy = 3.00e-02\n",
      "\n",
      "🌸🌸🌸  Iteration 2  🌸🌸🌸\n",
      "🔧  After rounding:\n",
      "     ➤ x (rounded): [0. 0. 0. 0. 1. 1. 0. 1. 0. 1. 1. 0. 1. 0. 1. 0. 1. 0. 0. 0. 0. 0. 1. 1.\n",
      " 0. 0. 1. 1. 1. 1. 1. 0. 0. 1. 0. 0. 0. 1. 1. 0. 0. 0. 0. 0. 0. 1. 0. 0.\n",
      " 0. 1.]\n",
      "     ➤ x ( binbin): [0. 0. 0. 0. 1. 1. 0. 1. 0. 1. 1. 0. 1. 0. 1. 0. 1. 0. 0. 0. 0. 0. 1. 1.\n",
      " 0. 0. 1. 1. 1. 1. 1. 0. 0. 1. 0. 0. 0. 1. 1. 0. 0. 0. 0. 0. 0. 1. 0. 0.\n",
      " 0. 1.]\n",
      "     ➤ y (rounded): [0. 1. 1. 1. 0. 0. 0. 0. 0. 0. 0. 1. 0. 1. 0. 1. 0. 0. 1. 0. 1. 1. 0. 0.\n",
      " 0. 1. 0. 0. 0. 0. 0. 1. 1. 0. 1. 1. 0. 0. 0. 1. 0. 1. 0. 1. 1. 0. 1. 0.\n",
      " 1. 0.]\n",
      "     ➤ y ( binbin): [0. 1. 1. 1. 0. 0. 0. 0. 0. 0. 0. 1. 0. 1. 0. 1. 0. 0. 1. 0. 1. 1. 0. 0.\n",
      " 0. 1. 0. 0. 0. 0. 0. 1. 1. 0. 1. 1. 0. 0. 0. 1. 0. 1. 0. 1. 1. 0. 1. 0.\n",
      " 1. 0.]\n",
      "📈  Objective L(x, y) = 0.483238\n",
      "📈  Objective L̂(x, y) = 0.483238\n",
      "🔍  dx = 3.94e-04, dy = 2.29e-04\n",
      "\n",
      "🌸🌸🌸  Iteration 3  🌸🌸🌸\n",
      "🔧  After rounding:\n",
      "     ➤ x (rounded): [0. 0. 0. 0. 1. 1. 0. 1. 0. 1. 1. 0. 1. 0. 1. 0. 1. 0. 0. 0. 0. 0. 1. 1.\n",
      " 0. 0. 1. 1. 1. 1. 1. 0. 0. 1. 0. 0. 0. 1. 1. 0. 0. 0. 0. 0. 0. 1. 0. 0.\n",
      " 0. 1.]\n",
      "     ➤ x ( binbin): [0. 0. 0. 0. 1. 1. 0. 1. 0. 1. 1. 0. 1. 0. 1. 0. 1. 0. 0. 0. 0. 0. 1. 1.\n",
      " 0. 0. 1. 1. 1. 1. 1. 0. 0. 1. 0. 0. 0. 1. 1. 0. 0. 0. 0. 0. 0. 1. 0. 0.\n",
      " 0. 1.]\n",
      "     ➤ y (rounded): [0. 1. 1. 1. 0. 0. 0. 0. 0. 0. 0. 1. 0. 1. 0. 1. 0. 0. 1. 0. 1. 1. 0. 0.\n",
      " 0. 1. 0. 0. 0. 0. 0. 1. 1. 0. 1. 1. 0. 0. 0. 1. 0. 1. 0. 1. 1. 0. 1. 0.\n",
      " 1. 0.]\n",
      "     ➤ y ( binbin): [0. 1. 1. 1. 0. 0. 0. 0. 0. 0. 0. 1. 0. 1. 0. 1. 0. 0. 1. 0. 1. 1. 0. 0.\n",
      " 0. 1. 0. 0. 0. 0. 0. 1. 1. 0. 1. 1. 0. 0. 0. 1. 0. 1. 0. 1. 1. 0. 1. 0.\n",
      " 1. 0.]\n",
      "📈  Objective L(x, y) = 0.483238\n",
      "📈  Objective L̂(x, y) = 0.483238\n",
      "🔍  dx = 5.45e-06, dy = 4.93e-06\n",
      "\n",
      "🌸🌸🌸  Iteration 4  🌸🌸🌸\n",
      "🔧  After rounding:\n",
      "     ➤ x (rounded): [0. 0. 0. 0. 1. 1. 0. 1. 0. 1. 1. 0. 1. 0. 1. 0. 1. 0. 0. 0. 0. 0. 1. 1.\n",
      " 0. 0. 1. 1. 1. 1. 1. 0. 0. 1. 0. 0. 0. 1. 1. 0. 0. 0. 0. 0. 0. 1. 0. 0.\n",
      " 0. 1.]\n",
      "     ➤ x ( binbin): [0. 0. 0. 0. 1. 1. 0. 1. 0. 1. 1. 0. 1. 0. 1. 0. 1. 0. 0. 0. 0. 0. 1. 1.\n",
      " 0. 0. 1. 1. 1. 1. 1. 0. 0. 1. 0. 0. 0. 1. 1. 0. 0. 0. 0. 0. 0. 1. 0. 0.\n",
      " 0. 1.]\n",
      "     ➤ y (rounded): [0. 1. 1. 1. 0. 0. 0. 0. 0. 0. 0. 1. 0. 1. 0. 1. 0. 0. 1. 0. 1. 1. 0. 0.\n",
      " 0. 1. 0. 0. 0. 0. 0. 1. 1. 0. 1. 1. 0. 0. 0. 1. 0. 1. 0. 1. 1. 0. 1. 0.\n",
      " 1. 0.]\n",
      "     ➤ y ( binbin): [0. 1. 1. 1. 0. 0. 0. 0. 0. 0. 0. 1. 0. 1. 0. 1. 0. 0. 1. 0. 1. 1. 0. 0.\n",
      " 0. 1. 0. 0. 0. 0. 0. 1. 1. 0. 1. 1. 0. 0. 0. 1. 0. 1. 0. 1. 1. 0. 1. 0.\n",
      " 1. 0.]\n",
      "📈  Objective L(x, y) = 0.483238\n",
      "📈  Objective L̂(x, y) = 0.483238\n",
      "🔍  dx = 1.00e-07, dy = 1.00e-07\n",
      "🎉✨ 収束しました！Great job! ✨🎉\n",
      "Converged at iter 3, Φ=0.00e+00\n",
      "x: [0.497 0.13  0.    0.    0.673 0.773 0.467 0.59  0.404 0.795 0.676 0.\n",
      " 0.717 0.    0.59  0.036 0.723 0.402 0.16  0.283 0.    0.    0.531 0.507\n",
      " 0.475 0.244 0.857 0.841 0.546 0.51  0.548 0.249 0.    0.582 0.385 0.17\n",
      " 0.346 0.75  0.794 0.218 0.432 0.182 0.454 0.198 0.252 0.75  0.087 0.483\n",
      " 0.    0.693]\n",
      "y: [0.002 0.007 0.008 0.005 0.001 0.    0.002 0.001 0.002 0.    0.001 0.007\n",
      " 0.001 0.008 0.001 0.008 0.001 0.003 0.007 0.003 0.006 0.007 0.002 0.002\n",
      " 0.002 0.003 0.    0.    0.001 0.001 0.001 0.005 0.01  0.001 0.003 0.004\n",
      " 0.003 0.    0.    0.006 0.001 0.006 0.002 0.005 0.004 0.    0.004 0.001\n",
      " 0.008 0.001]\n"
     ]
    }
   ],
   "source": [
    "x_opt, y_opt, gamma, hist_Lhat, hist_Lcont, hist_dx, hist_dy = ogda_dinkelbach(w_ij, Ui_L, Ui_F, h_i, p, r)\n",
    "print(\"x:\", np.round(x_opt, 3))\n",
    "print(\"y:\", np.round(y_opt, 3))"
   ]
  },
  {
   "cell_type": "code",
   "execution_count": 133,
   "id": "cfdd801d",
   "metadata": {},
   "outputs": [
    {
     "name": "stdout",
     "output_type": "stream",
     "text": [
      "Binary x: [0. 0. 0. 0. 1. 1. 0. 1. 0. 1. 1. 0. 1. 0. 1. 0. 1. 0. 0. 0. 0. 0. 1. 1.\n",
      " 0. 0. 1. 1. 1. 1. 1. 0. 0. 1. 0. 0. 0. 1. 1. 0. 0. 0. 0. 0. 0. 1. 0. 0.\n",
      " 0. 1.]\n",
      "Binary y: [0. 1. 1. 1. 0. 0. 0. 0. 0. 0. 0. 1. 0. 1. 0. 1. 0. 0. 1. 0. 1. 1. 0. 0.\n",
      " 0. 1. 0. 0. 0. 0. 0. 1. 1. 0. 1. 1. 0. 0. 0. 1. 0. 1. 0. 1. 1. 0. 1. 0.\n",
      " 1. 0.]\n"
     ]
    }
   ],
   "source": [
    "x_bin = round_to_binary_best_k(x_opt, p)\n",
    "print(\"Binary x:\", np.round(x_bin, 3))\n",
    "y_bin = round_to_binary_best_k(y_opt, r)\n",
    "print(\"Binary y:\", np.round(y_bin, 3))"
   ]
  },
  {
   "cell_type": "code",
   "execution_count": 134,
   "id": "eb1b6105",
   "metadata": {},
   "outputs": [
    {
     "name": "stdout",
     "output_type": "stream",
     "text": [
      "l 0.483237797884477\n"
     ]
    }
   ],
   "source": [
    "print('l', compute_L(h_i, Ui_L, Ui_F, w_ij, x_bin, y_bin))"
   ]
  },
  {
   "cell_type": "code",
   "execution_count": 135,
   "id": "7d5edab2",
   "metadata": {},
   "outputs": [
    {
     "data": {
      "image/png": "[encoded data removed]",
      "text/plain": [
       "<Figure size 640x480 with 2 Axes>"
      ]
     },
     "metadata": {},
     "output_type": "display_data"
    }
   ],
   "source": [
    "fig, ax1 = plt.subplots()\n",
    "ax1.plot(hist_Lcont, label='Objective', marker='o')\n",
    "ax2 = ax1.twinx()\n",
    "ax2.plot(hist_dx,  label='‖Δx‖',  ls='--')\n",
    "ax2.plot(hist_dy,  label='‖Δy‖',  ls=':')\n",
    "ax1.set_xlabel('Iteration')\n",
    "ax1.set_ylabel('Objective')\n",
    "ax2.set_ylabel('Variable change')\n",
    "fig.legend(loc='upper right')\n",
    "plt.show()"
   ]
  },
  {
   "cell_type": "code",
   "execution_count": 136,
   "id": "f5197ea5",
   "metadata": {},
   "outputs": [
    {
     "name": "stdout",
     "output_type": "stream",
     "text": [
      "sum x: 19.99996696022587\n",
      "sum y: 0.1607378365262209\n"
     ]
    }
   ],
   "source": [
    "print('sum x:', np.sum(x_opt))\n",
    "print('sum y:', np.sum(y_opt))"
   ]
  }
 ],
 "metadata": {
  "kernelspec": {
   "display_name": "base",
   "language": "python",
   "name": "python3"
  },
  "language_info": {
   "codemirror_mode": {
    "name": "ipython",
    "version": 3
   },
   "file_extension": ".py",
   "mimetype": "text/x-python",
   "name": "python",
   "nbconvert_exporter": "python",
   "pygments_lexer": "ipython3",
   "version": "3.11.7"
  }
 },
 "nbformat": 4,
 "nbformat_minor": 5
}
