{
 "cells": [
  {
   "cell_type": "code",
   "execution_count": 171,
   "id": "458c2391",
   "metadata": {},
   "outputs": [],
   "source": [
    "%run ./func.ipynb"
   ]
  },
  {
   "cell_type": "code",
   "execution_count": 172,
   "id": "f645b4ee",
   "metadata": {},
   "outputs": [],
   "source": [
    "import numpy as np\n",
    "import random\n",
    "import matplotlib.pyplot as plt"
   ]
  },
  {
   "cell_type": "markdown",
   "id": "a49a6f80",
   "metadata": {},
   "source": [
    "## Premi"
   ]
  },
  {
   "cell_type": "code",
   "execution_count": 173,
   "id": "da192e87",
   "metadata": {},
   "outputs": [],
   "source": [
    "I = J = 50\n",
    "\n",
    "num_rows_columns = 50\n",
    "demand_points, candidate_sites = generate_instance(num_rows_columns, I, J, seed=42)\n",
    "\n",
    "alpha = 0\n",
    "beta = 0.1\n",
    "\n",
    "p = 2\n",
    "r = 2\n",
    "\n",
    "h_i = np.full(I, 1 / I)\n",
    "\n",
    "# 既存のリーダーの施設セット J_L を仮定\n",
    "J_L = {}  # インデックスとして候補施設の一部を選択\n",
    "J_F = {}"
   ]
  },
  {
   "cell_type": "code",
   "execution_count": 174,
   "id": "92700d18",
   "metadata": {},
   "outputs": [
    {
     "name": "stdout",
     "output_type": "stream",
     "text": [
      "\n",
      "Distances: [[22.09072203 10.44030651 31.11269837 ... 18.60107524 21.9317122\n",
      "   2.82842712]\n",
      " [36.40054945 37.12142239 22.56102835 ... 40.85339643 18.60107524\n",
      "  25.07987241]\n",
      " [30.59411708 11.18033989 42.42640687 ...  7.61577311 33.24154028\n",
      "  11.66190379]\n",
      " ...\n",
      " [23.53720459  5.         37.01351105 ... 14.56021978 28.01785145\n",
      "   9.05538514]\n",
      " [15.62049935 35.22782991 15.62049935 ... 51.4781507  18.02775638\n",
      "  34.92849839]\n",
      " [35.34119409 40.19950248 17.         ... 46.5295605  16.1245155\n",
      "  29.41088234]]\n",
      "\n",
      "w_ij Matrix: [[0.10980248 0.3520329  0.04454436 ... 0.15565589 0.1115624  0.75363832]\n",
      " [0.0262509  0.02442514 0.10475795 ... 0.01681743 0.15565589 0.08143198]\n",
      " [0.04691529 0.3269219  0.0143696  ... 0.46692935 0.03600296 0.31155158]\n",
      " ...\n",
      " [0.095015   0.60653066 0.02469014 ... 0.23316196 0.0607016  0.40432409]\n",
      " [0.20970575 0.02951717 0.20970575 ... 0.00581209 0.16484071 0.03041407]\n",
      " [0.02918445 0.01795386 0.18268352 ... 0.00953338 0.19939818 0.05280823]]\n",
      "\n",
      "U_i^L: [0. 0. 0. 0. 0. 0. 0. 0. 0. 0. 0. 0. 0. 0. 0. 0. 0. 0. 0. 0. 0. 0. 0. 0.\n",
      " 0. 0. 0. 0. 0. 0. 0. 0. 0. 0. 0. 0. 0. 0. 0. 0. 0. 0. 0. 0. 0. 0. 0. 0.\n",
      " 0. 0.]\n",
      "\n",
      "U_i^F: [0. 0. 0. 0. 0. 0. 0. 0. 0. 0. 0. 0. 0. 0. 0. 0. 0. 0. 0. 0. 0. 0. 0. 0.\n",
      " 0. 0. 0. 0. 0. 0. 0. 0. 0. 0. 0. 0. 0. 0. 0. 0. 0. 0. 0. 0. 0. 0. 0. 0.\n",
      " 0. 0.]\n"
     ]
    }
   ],
   "source": [
    "distances = compute_distances(demand_points, candidate_sites)\n",
    "print(\"\\nDistances:\", distances)\n",
    "\n",
    "# w_ij の計算\n",
    "w_ij = compute_wij_matrix(distances, alpha, beta)\n",
    "print(\"\\nw_ij Matrix:\", w_ij)\n",
    "\n",
    "# U_i^L の計算\n",
    "Ui_L = compute_Ui_L(w_ij, J_L)\n",
    "print(\"\\nU_i^L:\", Ui_L)\n",
    "\n",
    "# U_i^F の計算\n",
    "Ui_F = compute_Ui_F(w_ij, J_F)\n",
    "print(\"\\nU_i^F:\", Ui_F)"
   ]
  },
  {
   "cell_type": "code",
   "execution_count": 175,
   "id": "1390a306",
   "metadata": {},
   "outputs": [
    {
     "name": "stdout",
     "output_type": "stream",
     "text": [
      "\n",
      "🌸🌸🌸  Iteration 1  🌸🌸🌸\n",
      "🔧  After rounding:\n",
      "     ➤ x (rounded): [0. 0. 0. 0. 0. 0. 0. 0. 0. 0. 0. 0. 0. 0. 0. 0. 0. 0. 0. 0. 0. 0. 0. 0.\n",
      " 0. 0. 1. 1. 0. 0. 0. 0. 0. 0. 0. 0. 0. 0. 0. 0. 0. 0. 0. 0. 0. 0. 0. 0.\n",
      " 0. 0.]\n",
      "     ➤ x ( binbin): [0. 0. 0. 0. 0. 0. 0. 0. 0. 0. 0. 0. 0. 0. 0. 0. 0. 0. 0. 0. 0. 0. 0. 0.\n",
      " 0. 0. 1. 1. 0. 0. 0. 0. 0. 0. 0. 0. 0. 0. 0. 0. 0. 0. 0. 0. 0. 0. 0. 0.\n",
      " 0. 0.]\n",
      "     ➤ y (rounded): [0. 0. 0. 0. 0. 0. 0. 0. 0. 0. 0. 0. 0. 0. 0. 0. 0. 0. 1. 0. 0. 0. 0. 0.\n",
      " 0. 0. 0. 0. 0. 0. 0. 0. 0. 0. 0. 0. 0. 0. 0. 1. 0. 0. 0. 0. 0. 0. 0. 0.\n",
      " 0. 0.]\n",
      "     ➤ y ( binbin): [0. 0. 0. 0. 0. 0. 0. 0. 0. 0. 0. 0. 0. 0. 0. 0. 0. 0. 1. 0. 0. 0. 0. 0.\n",
      " 0. 0. 0. 0. 0. 0. 0. 0. 0. 0. 0. 0. 0. 0. 0. 1. 0. 0. 0. 0. 0. 0. 0. 0.\n",
      " 0. 0.]\n",
      "📈  Objective L(x, y) = 0.371348\n",
      "📈  Objective L̂(x, y) = 0.371348\n",
      "🔍  dx = 4.70e-03, dy = 7.37e-03\n",
      "\n",
      "🌸🌸🌸  Iteration 2  🌸🌸🌸\n",
      "🔧  After rounding:\n",
      "     ➤ x (rounded): [0. 0. 0. 0. 0. 0. 0. 0. 0. 0. 0. 0. 0. 0. 0. 0. 0. 0. 0. 0. 0. 0. 0. 0.\n",
      " 0. 0. 1. 1. 0. 0. 0. 0. 0. 0. 0. 0. 0. 0. 0. 0. 0. 0. 0. 0. 0. 0. 0. 0.\n",
      " 0. 0.]\n",
      "     ➤ x ( binbin): [0. 0. 0. 0. 0. 0. 0. 0. 0. 0. 0. 0. 0. 0. 0. 0. 0. 0. 0. 0. 0. 0. 0. 0.\n",
      " 0. 0. 1. 1. 0. 0. 0. 0. 0. 0. 0. 0. 0. 0. 0. 0. 0. 0. 0. 0. 0. 0. 0. 0.\n",
      " 0. 0.]\n",
      "     ➤ y (rounded): [0. 0. 0. 0. 0. 0. 0. 0. 0. 0. 0. 0. 0. 0. 0. 0. 0. 0. 1. 0. 0. 0. 0. 0.\n",
      " 0. 0. 0. 0. 0. 0. 0. 0. 0. 0. 0. 0. 0. 0. 0. 1. 0. 0. 0. 0. 0. 0. 0. 0.\n",
      " 0. 0.]\n",
      "     ➤ y ( binbin): [0. 0. 0. 0. 0. 0. 0. 0. 0. 0. 0. 0. 0. 0. 0. 0. 0. 0. 1. 0. 0. 0. 0. 0.\n",
      " 0. 0. 0. 0. 0. 0. 0. 0. 0. 0. 0. 0. 0. 0. 0. 1. 0. 0. 0. 0. 0. 0. 0. 0.\n",
      " 0. 0.]\n",
      "📈  Objective L(x, y) = 0.371348\n",
      "📈  Objective L̂(x, y) = 0.371348\n",
      "🔍  dx = 7.83e-05, dy = 6.14e-05\n",
      "\n",
      "🌸🌸🌸  Iteration 3  🌸🌸🌸\n",
      "🔧  After rounding:\n",
      "     ➤ x (rounded): [0. 0. 0. 0. 0. 0. 0. 0. 0. 0. 0. 0. 0. 0. 0. 0. 0. 0. 0. 0. 0. 0. 0. 0.\n",
      " 0. 0. 1. 1. 0. 0. 0. 0. 0. 0. 0. 0. 0. 0. 0. 0. 0. 0. 0. 0. 0. 0. 0. 0.\n",
      " 0. 0.]\n",
      "     ➤ x ( binbin): [0. 0. 0. 0. 0. 0. 0. 0. 0. 0. 0. 0. 0. 0. 0. 0. 0. 0. 0. 0. 0. 0. 0. 0.\n",
      " 0. 0. 1. 1. 0. 0. 0. 0. 0. 0. 0. 0. 0. 0. 0. 0. 0. 0. 0. 0. 0. 0. 0. 0.\n",
      " 0. 0.]\n",
      "     ➤ y (rounded): [0. 0. 0. 0. 0. 0. 0. 0. 0. 0. 0. 0. 0. 0. 0. 0. 0. 0. 1. 0. 0. 0. 0. 0.\n",
      " 0. 0. 0. 0. 0. 0. 0. 0. 0. 0. 0. 0. 0. 0. 0. 1. 0. 0. 0. 0. 0. 0. 0. 0.\n",
      " 0. 0.]\n",
      "     ➤ y ( binbin): [0. 0. 0. 0. 0. 0. 0. 0. 0. 0. 0. 0. 0. 0. 0. 0. 0. 0. 1. 0. 0. 0. 0. 0.\n",
      " 0. 0. 0. 0. 0. 0. 0. 0. 0. 0. 0. 0. 0. 0. 0. 1. 0. 0. 0. 0. 0. 0. 0. 0.\n",
      " 0. 0.]\n",
      "📈  Objective L(x, y) = 0.371348\n",
      "📈  Objective L̂(x, y) = 0.371348\n",
      "🔍  dx = 2.11e-06, dy = 1.19e-06\n",
      "\n",
      "🌸🌸🌸  Iteration 4  🌸🌸🌸\n",
      "🔧  After rounding:\n",
      "     ➤ x (rounded): [0. 0. 0. 0. 0. 0. 0. 0. 0. 0. 0. 0. 0. 0. 0. 0. 0. 0. 0. 0. 0. 0. 0. 0.\n",
      " 0. 0. 1. 1. 0. 0. 0. 0. 0. 0. 0. 0. 0. 0. 0. 0. 0. 0. 0. 0. 0. 0. 0. 0.\n",
      " 0. 0.]\n",
      "     ➤ x ( binbin): [0. 0. 0. 0. 0. 0. 0. 0. 0. 0. 0. 0. 0. 0. 0. 0. 0. 0. 0. 0. 0. 0. 0. 0.\n",
      " 0. 0. 1. 1. 0. 0. 0. 0. 0. 0. 0. 0. 0. 0. 0. 0. 0. 0. 0. 0. 0. 0. 0. 0.\n",
      " 0. 0.]\n",
      "     ➤ y (rounded): [0. 0. 0. 0. 0. 0. 0. 0. 0. 0. 0. 0. 0. 0. 0. 0. 0. 0. 1. 0. 0. 0. 0. 0.\n",
      " 0. 0. 0. 0. 0. 0. 0. 0. 0. 0. 0. 0. 0. 0. 0. 1. 0. 0. 0. 0. 0. 0. 0. 0.\n",
      " 0. 0.]\n",
      "     ➤ y ( binbin): [0. 0. 0. 0. 0. 0. 0. 0. 0. 0. 0. 0. 0. 0. 0. 0. 0. 0. 1. 0. 0. 0. 0. 0.\n",
      " 0. 0. 0. 0. 0. 0. 0. 0. 0. 0. 0. 0. 0. 0. 0. 1. 0. 0. 0. 0. 0. 0. 0. 0.\n",
      " 0. 0.]\n",
      "📈  Objective L(x, y) = 0.371348\n",
      "📈  Objective L̂(x, y) = 0.371348\n",
      "🔍  dx = 7.36e-08, dy = 4.32e-08\n",
      "🎉✨ 収束しました！Great job! ✨🎉\n",
      "Converged at iter 3, Φ=5.55e-19\n",
      "x: [0.    0.    0.    0.    0.086 0.184 0.    0.003 0.    0.208 0.089 0.\n",
      " 0.13  0.    0.002 0.001 0.137 0.    0.001 0.    0.    0.    0.    0.\n",
      " 0.    0.    0.268 0.251 0.    0.    0.    0.    0.001 0.    0.001 0.\n",
      " 0.    0.161 0.205 0.001 0.    0.    0.    0.    0.    0.162 0.    0.\n",
      " 0.    0.106]\n",
      "y: [0.04  0.041 0.04  0.039 0.04  0.038 0.039 0.041 0.04  0.039 0.04  0.04\n",
      " 0.039 0.041 0.04  0.041 0.04  0.041 0.042 0.039 0.04  0.041 0.041 0.041\n",
      " 0.039 0.04  0.038 0.038 0.041 0.039 0.04  0.041 0.042 0.04  0.041 0.04\n",
      " 0.04  0.039 0.038 0.042 0.039 0.041 0.04  0.041 0.041 0.038 0.039 0.039\n",
      " 0.041 0.04 ]\n"
     ]
    }
   ],
   "source": [
    "x_opt, y_opt, gamma, hist_Lhat, hist_Lcont, hist_dx, hist_dy = ogda_dinkelbach(w_ij, Ui_L, Ui_F, h_i, p, r)\n",
    "print(\"x:\", np.round(x_opt, 3))\n",
    "print(\"y:\", np.round(y_opt, 3))"
   ]
  },
  {
   "cell_type": "code",
   "execution_count": 176,
   "id": "cfdd801d",
   "metadata": {},
   "outputs": [
    {
     "name": "stdout",
     "output_type": "stream",
     "text": [
      "Binary x: [0. 0. 0. 0. 0. 0. 0. 0. 0. 0. 0. 0. 0. 0. 0. 0. 0. 0. 0. 0. 0. 0. 0. 0.\n",
      " 0. 0. 1. 1. 0. 0. 0. 0. 0. 0. 0. 0. 0. 0. 0. 0. 0. 0. 0. 0. 0. 0. 0. 0.\n",
      " 0. 0.]\n",
      "Binary y: [0. 0. 0. 0. 0. 0. 0. 0. 0. 0. 0. 0. 0. 0. 0. 0. 0. 0. 1. 0. 0. 0. 0. 0.\n",
      " 0. 0. 0. 0. 0. 0. 0. 0. 0. 0. 0. 0. 0. 0. 0. 1. 0. 0. 0. 0. 0. 0. 0. 0.\n",
      " 0. 0.]\n"
     ]
    }
   ],
   "source": [
    "x_bin = round_to_binary_best_k(x_opt, p)\n",
    "print(\"Binary x:\", np.round(x_bin, 3))\n",
    "y_bin = round_to_binary_best_k(y_opt, r)\n",
    "print(\"Binary y:\", np.round(y_bin, 3))"
   ]
  },
  {
   "cell_type": "code",
   "execution_count": 177,
   "id": "eb1b6105",
   "metadata": {},
   "outputs": [
    {
     "name": "stdout",
     "output_type": "stream",
     "text": [
      "l 0.3713483827019262\n"
     ]
    }
   ],
   "source": [
    "print('l', compute_L(h_i, Ui_L, Ui_F, w_ij, x_bin, y_bin))"
   ]
  },
  {
   "cell_type": "code",
   "execution_count": 178,
   "id": "7d5edab2",
   "metadata": {},
   "outputs": [
    {
     "data": {
      "image/png": "[encoded data removed]",
      "text/plain": [
       "<Figure size 640x480 with 2 Axes>"
      ]
     },
     "metadata": {},
     "output_type": "display_data"
    }
   ],
   "source": [
    "fig, ax1 = plt.subplots()\n",
    "ax1.plot(hist_Lcont, label='Objective', marker='o')\n",
    "ax2 = ax1.twinx()\n",
    "ax2.plot(hist_dx,  label='‖Δx‖',  ls='--')\n",
    "ax2.plot(hist_dy,  label='‖Δy‖',  ls=':')\n",
    "ax1.set_xlabel('Iteration')\n",
    "ax1.set_ylabel('Objective')\n",
    "ax2.set_ylabel('Variable change')\n",
    "fig.legend(loc='upper right')\n",
    "plt.show()"
   ]
  },
  {
   "cell_type": "code",
   "execution_count": 179,
   "id": "f5197ea5",
   "metadata": {},
   "outputs": [
    {
     "name": "stdout",
     "output_type": "stream",
     "text": [
      "sum x: 2.0\n",
      "sum y: 1.9999999999999998\n"
     ]
    }
   ],
   "source": [
    "print('sum x:', np.sum(x_opt))\n",
    "print('sum y:', np.sum(y_opt))"
   ]
  }
 ],
 "metadata": {
  "kernelspec": {
   "display_name": "base",
   "language": "python",
   "name": "python3"
  },
  "language_info": {
   "codemirror_mode": {
    "name": "ipython",
    "version": 3
   },
   "file_extension": ".py",
   "mimetype": "text/x-python",
   "name": "python",
   "nbconvert_exporter": "python",
   "pygments_lexer": "ipython3",
   "version": "3.11.7"
  }
 },
 "nbformat": 4,
 "nbformat_minor": 5
}
