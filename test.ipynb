{
 "cells": [
  {
   "cell_type": "code",
   "execution_count": 1,
   "metadata": {},
   "outputs": [],
   "source": [
    "import sympy as sp"
   ]
  },
  {
   "cell_type": "code",
   "execution_count": 2,
   "metadata": {},
   "outputs": [
    {
     "name": "stdout",
     "output_type": "stream",
     "text": [
      "         ⎛    2                      2                 ⎞                      \n",
      "(y₁ - 1)⋅⎝- x₁ ⋅y₁ + x₁⋅(y₁ + 1) - x₂ ⋅y₂ + x₂⋅(y₂ + 1)⎠            -2⋅x₁⋅y₁ +\n",
      "──────────────────────────────────────────────────────── + ───────────────────\n",
      "                                              2            x₁⋅(1 - y₁) + x₂⋅(1\n",
      "         (x₁⋅(1 - y₁) + x₂⋅(1 - y₂) + y₁ + y₂)                                \n",
      "\n",
      "                \n",
      " y₁ + 1         \n",
      "────────────────\n",
      " - y₂) + y₁ + y₂\n",
      "                \n",
      "         ⎛    2                      2                 ⎞                      \n",
      "(y₂ - 1)⋅⎝- x₁ ⋅y₁ + x₁⋅(y₁ + 1) - x₂ ⋅y₂ + x₂⋅(y₂ + 1)⎠            -2⋅x₂⋅y₂ +\n",
      "──────────────────────────────────────────────────────── + ───────────────────\n",
      "                                              2            x₁⋅(1 - y₁) + x₂⋅(1\n",
      "         (x₁⋅(1 - y₁) + x₂⋅(1 - y₂) + y₁ + y₂)                                \n",
      "\n",
      "                \n",
      " y₂ + 1         \n",
      "────────────────\n",
      " - y₂) + y₁ + y₂\n",
      "                \n",
      "         ⎛    2                      2                 ⎞                    2 \n",
      "(x₁ - 1)⋅⎝- x₁ ⋅y₁ + x₁⋅(y₁ + 1) - x₂ ⋅y₂ + x₂⋅(y₂ + 1)⎠                - x₁  \n",
      "──────────────────────────────────────────────────────── + ───────────────────\n",
      "                                              2            x₁⋅(1 - y₁) + x₂⋅(1\n",
      "         (x₁⋅(1 - y₁) + x₂⋅(1 - y₂) + y₁ + y₂)                                \n",
      "\n",
      "                \n",
      "+ x₁            \n",
      "────────────────\n",
      " - y₂) + y₁ + y₂\n",
      "                \n",
      "         ⎛    2                      2                 ⎞                    2 \n",
      "(x₂ - 1)⋅⎝- x₁ ⋅y₁ + x₁⋅(y₁ + 1) - x₂ ⋅y₂ + x₂⋅(y₂ + 1)⎠                - x₂  \n",
      "──────────────────────────────────────────────────────── + ───────────────────\n",
      "                                              2            x₁⋅(1 - y₁) + x₂⋅(1\n",
      "         (x₁⋅(1 - y₁) + x₂⋅(1 - y₂) + y₁ + y₂)                                \n",
      "\n",
      "                \n",
      "+ x₂            \n",
      "────────────────\n",
      " - y₂) + y₁ + y₂\n",
      "                \n"
     ]
    }
   ],
   "source": [
    "\n",
    "\n",
    "# 変数の定義\n",
    "x1, x2, y1, y2 = sp.symbols('x1 x2 y1 y2')\n",
    "\n",
    "# 関数の定義\n",
    "N = -y1*x1**2 + (1 + y1)*x1 - y2*x2**2 + (1 + y2)*x2\n",
    "D = (1 - y1)*x1 + y1 + (1 - y2)*x2 + y2\n",
    "f = N / D\n",
    "\n",
    "# 微分\n",
    "df_dx1 = sp.diff(f, x1)\n",
    "df_dx2=sp.diff(f, x2)\n",
    "\n",
    "df_dy1 = sp.diff(f, y1)\n",
    "df_dy2=sp.diff(f, y2)\n",
    "# 結果を表示\n",
    "sp.pprint(df_dx1)\n",
    "sp.pprint(df_dx2)\n",
    "\n",
    "sp.pprint(df_dy1)\n",
    "sp.pprint(df_dy2)"
   ]
  },
  {
   "cell_type": "code",
   "execution_count": 3,
   "metadata": {},
   "outputs": [
    {
     "data": {
      "text/latex": [
       "$\\displaystyle \\frac{\\left(y_{1} - 1\\right) \\left(- x_{2}^{2} y_{2} + x_{2} \\left(y_{2} + 1\\right)\\right)}{\\left(x_{2} \\cdot \\left(1 - y_{2}\\right) + y_{1} + y_{2}\\right)^{2}} + \\frac{y_{1} + 1}{x_{2} \\cdot \\left(1 - y_{2}\\right) + y_{1} + y_{2}}$"
      ],
      "text/plain": [
       "(y1 - 1)*(-x2**2*y2 + x2*(y2 + 1))/(x2*(1 - y2) + y1 + y2)**2 + (y1 + 1)/(x2*(1 - y2) + y1 + y2)"
      ]
     },
     "execution_count": 3,
     "metadata": {},
     "output_type": "execute_result"
    }
   ],
   "source": [
    "df_dx1.subs(x1, 0)"
   ]
  },
  {
   "cell_type": "code",
   "execution_count": 4,
   "metadata": {},
   "outputs": [],
   "source": [
    "Tp=100\n",
    "q_ite=[]"
   ]
  },
  {
   "cell_type": "code",
   "execution_count": 5,
   "metadata": {},
   "outputs": [
    {
     "name": "stderr",
     "output_type": "stream",
     "text": [
      "<lambdifygenerated-2>:2: RuntimeWarning: invalid value encountered in scalar divide\n",
      "  return [(x1 - 1)*(-x1**2*y1 + x1*(y1 + 1) - x2**2*y2 + x2*(y2 + 1))/(x1*(1 - y1) + x2*(1 - y2) + y1 + y2)**2 + (-x1**2 + x1)/(x1*(1 - y1) + x2*(1 - y2) + y1 + y2), (x2 - 1)*(-x1**2*y1 + x1*(y1 + 1) - x2**2*y2 + x2*(y2 + 1))/(x1*(1 - y1) + x2*(1 - y2) + y1 + y2)**2 + (-x2**2 + x2)/(x1*(1 - y1) + x2*(1 - y2) + y1 + y2)]\n"
     ]
    },
    {
     "name": "stdout",
     "output_type": "stream",
     "text": [
      " ----- Iteration 50/1000 ----- \n",
      " ----- Iteration 100/1000 ----- \n",
      " ----- Iteration 150/1000 ----- \n",
      " ----- Iteration 200/1000 ----- \n",
      " ----- Iteration 250/1000 ----- \n",
      " ----- Iteration 300/1000 ----- \n",
      " ----- Iteration 350/1000 ----- \n",
      " ----- Iteration 400/1000 ----- \n",
      " ----- Iteration 450/1000 ----- \n",
      " ----- Iteration 500/1000 ----- \n",
      " ----- Iteration 550/1000 ----- \n",
      " ----- Iteration 600/1000 ----- \n",
      " ----- Iteration 650/1000 ----- \n",
      " ----- Iteration 700/1000 ----- \n",
      " ----- Iteration 750/1000 ----- \n",
      " ----- Iteration 800/1000 ----- \n",
      " ----- Iteration 850/1000 ----- \n",
      " ----- Iteration 900/1000 ----- \n",
      " ----- Iteration 950/1000 ----- \n",
      " ----- Iteration 1000/1000 ----- \n",
      "Final p: [nan nan]\n",
      "Final q: [nan nan]\n"
     ]
    }
   ],
   "source": [
    "import numpy as np\n",
    "import sympy as sp\n",
    "\n",
    "# 変数の定義\n",
    "x1, x2, y1, y2, P, r = sp.symbols('x1 x2 y1 y2 P r')\n",
    "lambda1, lambda2 = sp.symbols('lambda1 lambda2')\n",
    "\n",
    "# 関数の定義\n",
    "N = -y1*x1**2 + (1 + y1)*x1 - y2*x2**2 + (1 + y2)*x2\n",
    "D = (1 - y1)*x1 + y1 + (1 - y2)*x2 + y2\n",
    "f = N / D  # 目的関数\n",
    "\n",
    "# ラグランジュ関数の定義\n",
    "L_hat = f - lambda1 * (P - x1 - x2) - lambda2 * (r - y1 - y2)\n",
    "\n",
    "# fの偏微分\n",
    "df_dx1 = sp.diff(f, x1)\n",
    "df_dx2 = sp.diff(f, x2)\n",
    "df_dy1 = sp.diff(f, y1)\n",
    "df_dy2 = sp.diff(f, y2)\n",
    "\n",
    "# Python関数に変換\n",
    "grad_f_p = sp.lambdify((x1, x2, y1, y2), [df_dx1, df_dx2])\n",
    "grad_f_q = sp.lambdify((x1, x2, y1, y2), [df_dy1, df_dy2])\n",
    "\n",
    "# lambda_star 関数の再定義\n",
    "def lambda_star(p, q):\n",
    "    # L_hatの偏微分を計算\n",
    "    dL_dx1_value = sp.diff(L_hat, x1).subs({x1: p[0], x2: p[1], y1: q[0], y2: q[1], lambda1: 0, lambda2: 0, P: 2, r: 2})\n",
    "    dL_dy1_value = sp.diff(L_hat, y1).subs({x1: p[0], x2: p[1], y1: q[0], y2: q[1], lambda1: 0, lambda2: 0, P: 2, r: 2})\n",
    "\n",
    "    lambda1_value = -dL_dx1_value.evalf()\n",
    "    lambda2_value = -dL_dy1_value.evalf()\n",
    "\n",
    "    return np.array([float(lambda1_value), float(lambda2_value)])\n",
    "\n",
    "def gradient_g(p, q):\n",
    "    # gの勾配（例：定数）\n",
    "    return np.array([-1.0, 0.0])  # 実際の問題に応じて変更が必要\n",
    "\n",
    "def projection_onto_set(x, set_bounds):\n",
    "    # 値を指定された範囲にクリップする\n",
    "    return np.clip(x, set_bounds[0], set_bounds[1])\n",
    "\n",
    "def ms_gd_optimization(P_bounds, Q_bounds, p0, q0, eta, eta_prime, Tp, Tq, decay=True):\n",
    "    # 初期化\n",
    "    p = np.array(p0, dtype=float)\n",
    "    q = np.array(q0, dtype=float)\n",
    "    p_hist = []\n",
    "    q_hist = []\n",
    "\n",
    "    for t in range(1, Tp + 1):\n",
    "        # 50回ごとに進行状況を表示\n",
    "        if (not t % 50):\n",
    "            print(f\" ----- Iteration {t}/{Tp} ----- \")\n",
    "        \n",
    "        # 履歴に現在のpとqの値を保存\n",
    "        p_hist.append(np.copy(p))\n",
    "        q_hist.append(np.copy(q))\n",
    "\n",
    "        # 内部ループ：qの更新\n",
    "        for s in range(1, Tq + 1):\n",
    "            # qに関する勾配を計算\n",
    "            grad_q = np.array(grad_f_q(p[0], p[1], q[0], q[1]), dtype=float)\n",
    "            # qの更新と射影\n",
    "            q = projection_onto_set(q + eta_prime * grad_q.flatten(), Q_bounds)\n",
    "\n",
    "        # λ*の計算\n",
    "        lambdas = lambda_star(p, q)\n",
    "        # pに関する勾配を計算\n",
    "        grad_p = np.array(grad_f_p(p[0], p[1], q[0], q[1]), dtype=float)\n",
    "        # 勾配の総和を計算\n",
    "        gradient_sum = grad_p.flatten() + np.sum([l * gradient_g(p, q) for l in lambdas], axis=0)\n",
    "        \n",
    "        # ステップサイズの計算\n",
    "        if decay:\n",
    "            step_size = (t**(-1/2)) * gradient_sum\n",
    "        else:\n",
    "            step_size = eta * gradient_sum\n",
    "        \n",
    "        # pの更新\n",
    "        p += step_size * (p > 0)\n",
    "        # pの射影\n",
    "        p = projection_onto_set(p, P_bounds)\n",
    "\n",
    "    return p, q, p_hist, q_hist\n",
    "\n",
    "# Example parameters\n",
    "P_bounds = (0, 1)  # pの範囲\n",
    "Q_bounds = (0, 1)  # qの範囲\n",
    "eta = 0.01\n",
    "eta_prime = 0.01\n",
    "Tp = 1000\n",
    "Tq = 100\n",
    "p0 = [0.0, 0.0]  # pの初期値\n",
    "q0 = [0.0, 0.0]  # qの初期値\n",
    "\n",
    "# 最適化アルゴリズムの実行\n",
    "p_final, q_final, p_hist, q_hist = ms_gd_optimization(P_bounds, Q_bounds, p0, q0, eta, eta_prime, Tp, Tq)\n",
    "\n",
    "print(f\"Final p: {p_final}\")\n",
    "print(f\"Final q: {q_final}\")\n"
   ]
  }
 ],
 "metadata": {
  "kernelspec": {
   "display_name": "base",
   "language": "python",
   "name": "python3"
  },
  "language_info": {
   "codemirror_mode": {
    "name": "ipython",
    "version": 3
   },
   "file_extension": ".py",
   "mimetype": "text/x-python",
   "name": "python",
   "nbconvert_exporter": "python",
   "pygments_lexer": "ipython3",
   "version": "3.11.7"
  }
 },
 "nbformat": 4,
 "nbformat_minor": 2
}
