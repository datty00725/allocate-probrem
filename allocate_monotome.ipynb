{
 "cells": [
  {
   "cell_type": "code",
   "execution_count": 113,
   "metadata": {},
   "outputs": [],
   "source": [
    "import numpy as np"
   ]
  },
  {
   "cell_type": "code",
   "execution_count": 114,
   "metadata": {},
   "outputs": [],
   "source": [
    "# シードを固定\n",
    "np.random.seed(45556)"
   ]
  },
  {
   "cell_type": "code",
   "execution_count": 115,
   "metadata": {},
   "outputs": [],
   "source": [
    "# 入力データ\n",
    "S = 3  # リソースの数\n",
    "N = 4  # プレイヤーの数"
   ]
  },
  {
   "cell_type": "code",
   "execution_count": 116,
   "metadata": {},
   "outputs": [
    {
     "name": "stdout",
     "output_type": "stream",
     "text": [
      "[12 11  6]\n"
     ]
    }
   ],
   "source": [
    "# リソースの総数 q_s (ランダムな整数で生成)\n",
    "q = np.random.randint(5, 15, size=S)\n",
    "print(q)"
   ]
  },
  {
   "cell_type": "code",
   "execution_count": 117,
   "metadata": {},
   "outputs": [
    {
     "name": "stdout",
     "output_type": "stream",
     "text": [
      "[4 3 2]\n"
     ]
    }
   ],
   "source": [
    "# 各リソースの参入障壁 c_s (ランダムな整数で生成)\n",
    "c = np.random.randint(1, 5, size=S)\n",
    "print(c)\n"
   ]
  },
  {
   "cell_type": "code",
   "execution_count": 118,
   "metadata": {},
   "outputs": [
    {
     "name": "stdout",
     "output_type": "stream",
     "text": [
      "[10 10 14 19]\n"
     ]
    }
   ],
   "source": [
    "# プレイヤーごとの総予算 b_i (ランダムな整数で生成)\n",
    "b = np.random.randint(10, 20, size=N)\n",
    "print(b)\n"
   ]
  },
  {
   "cell_type": "code",
   "execution_count": 119,
   "metadata": {},
   "outputs": [
    {
     "name": "stdout",
     "output_type": "stream",
     "text": [
      "[[ 9.  0.  1.]\n",
      " [ 1.  0.  9.]\n",
      " [11.  2.  1.]\n",
      " [ 4.  8.  7.]]\n"
     ]
    }
   ],
   "source": [
    "# プレイヤーの各リソースに対する入札 x_{is} (合計が予算と一致するようにランダム生成)\n",
    "x = np.zeros((N, S))\n",
    "for i in range(N):\n",
    "    remaining_budget = b[i]\n",
    "    for s in range(S-1):\n",
    "        x[i, s] = np.random.randint(0, remaining_budget)\n",
    "        remaining_budget -= x[i, s]\n",
    "    x[i, S-1] = remaining_budget\n",
    "print(x)"
   ]
  },
  {
   "cell_type": "code",
   "execution_count": 120,
   "metadata": {},
   "outputs": [
    {
     "name": "stdout",
     "output_type": "stream",
     "text": [
      "[1.99634994 1.0652844  1.41243639 1.79564471]\n"
     ]
    }
   ],
   "source": [
    "\n",
    "# 各プレイヤーのマージナルゲイン g_i (ランダムな浮動小数点数で生成)\n",
    "g = np.random.uniform(1.0, 2.0, size=N)\n",
    "print(g)"
   ]
  },
  {
   "cell_type": "code",
   "execution_count": 121,
   "metadata": {},
   "outputs": [
    {
     "name": "stdout",
     "output_type": "stream",
     "text": [
      "[[3.72413793 0.         0.3       ]\n",
      " [0.4137931  0.         2.7       ]\n",
      " [4.55172414 1.69230769 0.3       ]\n",
      " [1.65517241 6.76923077 2.1       ]]\n"
     ]
    }
   ],
   "source": [
    "# リソースの割り当て計算\n",
    "rho = np.zeros((N, S))\n",
    "for i in range(N):\n",
    "    for s in range(S):\n",
    "        rho[i, s] = (q[s] * x[i, s]) / (c[s] + np.sum(x[:, s]))\n",
    "\n",
    "print(rho)"
   ]
  },
  {
   "cell_type": "code",
   "execution_count": 122,
   "metadata": {},
   "outputs": [
    {
     "name": "stdout",
     "output_type": "stream",
     "text": [
      "[-1.96641249 -6.68292477 -4.75697131 -0.10191112]\n"
     ]
    }
   ],
   "source": [
    "# プレイヤーのユーティリティ計算\n",
    "utilities = np.zeros(N)\n",
    "for i in range(N):\n",
    "    for s in range(S):\n",
    "        utilities[i] += g[i] * rho[i, s] - x[i, s]\n",
    "\n",
    "print(utilities)"
   ]
  },
  {
   "cell_type": "markdown",
   "metadata": {},
   "source": [
    "## monotone性の確認"
   ]
  },
  {
   "cell_type": "code",
   "execution_count": 123,
   "metadata": {},
   "outputs": [],
   "source": [
    "def compute_gradient(x, q, c, g, N, S):\n",
    "    grad = np.zeros((N, S))\n",
    "    for i in range(N):\n",
    "        for s in range(S):\n",
    "            denominator = c[s] + np.sum(x[:, s])\n",
    "            grad[i, s] = g[i] * (q[s] * c[s] + q[s] * np.sum(x[:, s]) - q[s] * x[i, s]) / (denominator ** 2) - 1\n",
    "    return grad"
   ]
  },
  {
   "cell_type": "code",
   "execution_count": 124,
   "metadata": {},
   "outputs": [],
   "source": [
    "# x'を新しい戦略プロファイルとして生成（ここではランダムに生成）\n",
    "x_prime = np.zeros((N, S))\n",
    "for i in range(N):\n",
    "    remaining_budget = b[i]\n",
    "    for s in range(S-1):\n",
    "        x_prime[i, s] = np.random.randint(0, remaining_budget)\n",
    "        remaining_budget -= x_prime[i, s]\n",
    "    x_prime[i, S-1] = remaining_budget"
   ]
  },
  {
   "cell_type": "code",
   "execution_count": 125,
   "metadata": {},
   "outputs": [],
   "source": [
    "# 利得勾配を計算\n",
    "grad_x = compute_gradient(x, q, c, g, N, S)\n",
    "grad_x_prime = compute_gradient(x_prime, q, c, g, N, S)\n",
    "\n",
    "# 利得勾配の差を計算\n",
    "grad_diff = grad_x_prime - grad_x"
   ]
  },
  {
   "cell_type": "code",
   "execution_count": 126,
   "metadata": {},
   "outputs": [],
   "source": [
    "# 内積を計算\n",
    "inner_product = 0\n",
    "for i in range(N):\n",
    "    for s in range(S):\n",
    "        inner_product += grad_diff[i, s] * (x_prime[i, s] - x[i, s])"
   ]
  },
  {
   "cell_type": "code",
   "execution_count": 127,
   "metadata": {},
   "outputs": [
    {
     "name": "stdout",
     "output_type": "stream",
     "text": [
      "-44.63947538768198\n"
     ]
    }
   ],
   "source": [
    "# 重み付き合計（ここではλ_iを1と仮定）\n",
    "lambda_i = np.ones(N)\n",
    "DSC = np.sum(lambda_i * inner_product)\n",
    "\n",
    "print(DSC)"
   ]
  }
 ],
 "metadata": {
  "kernelspec": {
   "display_name": "base",
   "language": "python",
   "name": "python3"
  },
  "language_info": {
   "codemirror_mode": {
    "name": "ipython",
    "version": 3
   },
   "file_extension": ".py",
   "mimetype": "text/x-python",
   "name": "python",
   "nbconvert_exporter": "python",
   "pygments_lexer": "ipython3",
   "version": "3.11.7"
  }
 },
 "nbformat": 4,
 "nbformat_minor": 2
}
