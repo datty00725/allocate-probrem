{
 "cells": [
  {
   "cell_type": "markdown",
   "metadata": {},
   "source": [
    "# 循環セールスマン問題　オリジナル対応版"
   ]
  },
  {
   "cell_type": "markdown",
   "metadata": {},
   "source": [
    "## 問題データのロード"
   ]
  },
  {
   "cell_type": "code",
   "execution_count": 1,
   "metadata": {},
   "outputs": [],
   "source": [
    "# ライブラリのロード\n",
    "\n",
    "import numpy as np\n",
    "import pandas as pd\n",
    "import matplotlib.pyplot as plt\n",
    "from IPython.display import display"
   ]
  },
  {
   "cell_type": "code",
   "execution_count": 2,
   "metadata": {},
   "outputs": [
    {
     "data": {
      "text/html": [
       "<div>\n",
       "<style scoped>\n",
       "    .dataframe tbody tr th:only-of-type {\n",
       "        vertical-align: middle;\n",
       "    }\n",
       "\n",
       "    .dataframe tbody tr th {\n",
       "        vertical-align: top;\n",
       "    }\n",
       "\n",
       "    .dataframe thead th {\n",
       "        text-align: right;\n",
       "    }\n",
       "</style>\n",
       "<table border=\"1\" class=\"dataframe\">\n",
       "  <thead>\n",
       "    <tr style=\"text-align: right;\">\n",
       "      <th></th>\n",
       "      <th>x</th>\n",
       "      <th>y</th>\n",
       "    </tr>\n",
       "  </thead>\n",
       "  <tbody>\n",
       "    <tr>\n",
       "      <th>0</th>\n",
       "      <td>6734</td>\n",
       "      <td>1453</td>\n",
       "    </tr>\n",
       "    <tr>\n",
       "      <th>1</th>\n",
       "      <td>2233</td>\n",
       "      <td>10</td>\n",
       "    </tr>\n",
       "    <tr>\n",
       "      <th>2</th>\n",
       "      <td>5530</td>\n",
       "      <td>1424</td>\n",
       "    </tr>\n",
       "    <tr>\n",
       "      <th>3</th>\n",
       "      <td>401</td>\n",
       "      <td>841</td>\n",
       "    </tr>\n",
       "    <tr>\n",
       "      <th>4</th>\n",
       "      <td>3082</td>\n",
       "      <td>1644</td>\n",
       "    </tr>\n",
       "  </tbody>\n",
       "</table>\n",
       "</div>"
      ],
      "text/plain": [
       "      x     y\n",
       "0  6734  1453\n",
       "1  2233    10\n",
       "2  5530  1424\n",
       "3   401   841\n",
       "4  3082  1644"
      ]
     },
     "metadata": {},
     "output_type": "display_data"
    },
    {
     "name": "stdout",
     "output_type": "stream",
     "text": [
      "size =  (48, 2)\n"
     ]
    }
   ],
   "source": [
    "# データのロード\n",
    "# 48件は巡回セールスマン問題のオリジナルデータです\n",
    "\n",
    "url = 'https://raw.githubusercontent.com/makaishi2/sample-data/master/data/att48.csv'\n",
    "df = pd.read_csv(url)\n",
    "display(df.head())\n",
    "print('size = ', df.values.shape)"
   ]
  },
  {
   "cell_type": "code",
   "execution_count": 3,
   "metadata": {},
   "outputs": [],
   "source": [
    "# 対象項目数\n",
    "# N = 25 は10秒程度で解決\n",
    "# N = 25\n",
    "\n",
    "# N=30 は4分弱かかる\n",
    "N = 30\n",
    "\n",
    "# これ以上の値での結果は未確認"
   ]
  },
  {
   "cell_type": "code",
   "execution_count": 4,
   "metadata": {},
   "outputs": [
    {
     "data": {
      "image/png": "[encoded data removed]",
      "text/plain": [
       "<Figure size 600x600 with 1 Axes>"
      ]
     },
     "metadata": {},
     "output_type": "display_data"
    }
   ],
   "source": [
    "# 絞り込んだデータを使って、初期化と散布図表示\n",
    "\n",
    "data = df[:N]\n",
    "data_np = np.array(data)\n",
    "plt.figure(figsize=(6,6))\n",
    "plt.scatter(data_np[:,0], data_np[:,1])\n",
    "plt.grid()\n",
    "plt.show()"
   ]
  },
  {
   "cell_type": "code",
   "execution_count": 5,
   "metadata": {},
   "outputs": [],
   "source": [
    "# 距離関数の定義\n",
    "# 便宜上ユークリッド距離にしています\n",
    "\n",
    "def distance(i, j):\n",
    "    return np.sqrt(np.sum((data_np[i,:] - data_np[j,:])** 2))"
   ]
  },
  {
   "cell_type": "code",
   "execution_count": 6,
   "metadata": {},
   "outputs": [],
   "source": [
    "# コスト配列の定義\n",
    "c = np.zeros((N,N))\n",
    "\n",
    "for i in range(N):\n",
    "    for j in range(N):\n",
    "        c[i, j] = distance(i, j)"
   ]
  },
  {
   "cell_type": "markdown",
   "metadata": {},
   "source": [
    "## CPLEXによる問題定義"
   ]
  },
  {
   "cell_type": "code",
   "execution_count": 7,
   "metadata": {},
   "outputs": [
    {
     "name": "stdout",
     "output_type": "stream",
     "text": [
      "* system is: Windows 64bit\n",
      "* Python version 3.8.20, located at: c:\\Users\\adach\\anaconda3\\python.exe\n",
      "* docplex is present, version is 2.29.241\n",
      "* CPLEX library is present, version is 22.1.1.0, located at: c:\\Users\\adach\\anaconda3\\lib\\site-packages\n",
      "* pandas is present, version is 2.0.3\n"
     ]
    }
   ],
   "source": [
    "# CPLEX環境の確認\n",
    "\n",
    "from docplex.mp.environment import Environment\n",
    "env = Environment()\n",
    "env.print_information()"
   ]
  },
  {
   "cell_type": "markdown",
   "metadata": {},
   "source": [
    "### モデルの宣言"
   ]
  },
  {
   "cell_type": "code",
   "execution_count": 8,
   "metadata": {},
   "outputs": [],
   "source": [
    "# モデルの宣言\n",
    "\n",
    "from docplex.mp.model import Model\n",
    "mdl = Model(name=\"TSP\")"
   ]
  },
  {
   "cell_type": "code",
   "execution_count": 9,
   "metadata": {},
   "outputs": [],
   "source": [
    "# モデルのパラメータ定義\n",
    "\n",
    "# スレッド数: 2\n",
    "mdl.parameters.threads = 2\n",
    "# 最大時間数: 600秒\n",
    "mdl.parameters.timelimit = 600"
   ]
  },
  {
   "cell_type": "markdown",
   "metadata": {},
   "source": [
    "### 決定変数の宣言"
   ]
  },
  {
   "cell_type": "code",
   "execution_count": 10,
   "metadata": {},
   "outputs": [],
   "source": [
    "# 決定変数の宣言\n",
    "\n",
    "# x : 移動matrix\n",
    "# i番目のノードからj番目のノードに移動する時 x_ij = 1\n",
    "# それ以外の場合 x_ij = 0\n",
    "x = mdl.integer_var_matrix(N, N)\n",
    "\n",
    "# u: 順序変数\n",
    "# 0番目のノードの次に移動するノードがiの場合\n",
    "# u[i] = 1\n",
    "# その次に移動するノードがjの場合\n",
    "# u[j] = 2\n",
    "# .. のように定義する\n",
    "u = mdl.integer_var_list(N)"
   ]
  },
  {
   "cell_type": "markdown",
   "metadata": {},
   "source": [
    "### 制約の定義"
   ]
  },
  {
   "cell_type": "code",
   "execution_count": 11,
   "metadata": {},
   "outputs": [],
   "source": [
    "# u(順序変数)の制約\n",
    "# 最初のノードは0番目 : u[0] = 0\n",
    "# それ以外の順序変数は1以上 N-1以下\n",
    "\n",
    "mdl.add_constraint(u[0] == 0)\n",
    "for i in range(1, N):\n",
    "    mdl.add_constraint(u[i] >= 1)\n",
    "    mdl.add_constraint(u[i] <= N-1)"
   ]
  },
  {
   "cell_type": "code",
   "execution_count": 12,
   "metadata": {},
   "outputs": [],
   "source": [
    "# x(移動matrix)の制約\n",
    "# 自分から自分への移動はないので、u_ii = 0\n",
    "# それ以外の場合は u_ij は0か1\n",
    "\n",
    "for i in range(N):\n",
    "    for j in range(N):\n",
    "        if i == j:\n",
    "            mdl.add_constraint(x[i, j] == 0)\n",
    "        else:\n",
    "            mdl.add_constraint(x[i, j] >= 0)\n",
    "            mdl.add_constraint(x[i, j] <= 1)"
   ]
  },
  {
   "cell_type": "code",
   "execution_count": 13,
   "metadata": {},
   "outputs": [],
   "source": [
    "# x(移動matirx)に関する縦の制約\n",
    "\n",
    "for i in range(N):\n",
    "    mdl.add_constraint(mdl.sum(x[i, j] for j in range(N)) == 1)"
   ]
  },
  {
   "cell_type": "code",
   "execution_count": 14,
   "metadata": {},
   "outputs": [],
   "source": [
    "# x(移動matirx)に関する横の制約\n",
    "\n",
    "for j in range(N):\n",
    "    mdl.add_constraint(mdl.sum(x[i, j] for i in range(N)) == 1)"
   ]
  },
  {
   "cell_type": "code",
   "execution_count": 15,
   "metadata": {},
   "outputs": [],
   "source": [
    "# 部分路制約\n",
    "# ループが全体で1つであるための条件\n",
    "# 参考リンク http://satemochi.blog.fc2.com/blog-entry-24.html\n",
    "\n",
    "for i in range(1, N):\n",
    "    for j in range(1, N):\n",
    "        mdl.add_constraint(u[i] - u[j] + N * x[i,j] <= N -1)"
   ]
  },
  {
   "cell_type": "markdown",
   "metadata": {},
   "source": [
    "### 最適化関数の定義"
   ]
  },
  {
   "cell_type": "code",
   "execution_count": 16,
   "metadata": {},
   "outputs": [],
   "source": [
    "# 総移動コスト\n",
    "\n",
    "total_cost = mdl.sum(c[i, j] * x[i, j] for i in range(N) for j in range(N))"
   ]
  },
  {
   "cell_type": "code",
   "execution_count": 17,
   "metadata": {},
   "outputs": [],
   "source": [
    "# 最適化の定義\n",
    "\n",
    "mdl.minimize(total_cost)"
   ]
  },
  {
   "cell_type": "markdown",
   "metadata": {},
   "source": [
    "### 制約設定の確認"
   ]
  },
  {
   "cell_type": "code",
   "execution_count": 18,
   "metadata": {},
   "outputs": [
    {
     "name": "stdout",
     "output_type": "stream",
     "text": [
      "Model: TSP\n",
      " - number of variables: 930\n",
      "   - binary=0, integer=930, continuous=0\n",
      " - number of constraints: 2730\n",
      "   - linear=2730\n",
      " - parameters:\n",
      "     parameters.threads = 2\n",
      "     parameters.timelimit = 600.00000000000000\n",
      " - objective: minimize\n",
      " - problem type is: MILP\n"
     ]
    }
   ],
   "source": [
    "# 制約設定の確認\n",
    "\n",
    "mdl.print_information()"
   ]
  },
  {
   "cell_type": "markdown",
   "metadata": {},
   "source": [
    "## 問題を解く"
   ]
  },
  {
   "cell_type": "code",
   "execution_count": 19,
   "metadata": {
    "scrolled": false
   },
   "outputs": [
    {
     "name": "stdout",
     "output_type": "stream",
     "text": [
      "Version identifier: 22.1.1.0 | 2022-11-27 | 9160aff4d\n",
      "CPXPARAM_Read_DataCheck                          1\n",
      "CPXPARAM_Threads                                 2\n",
      "CPXPARAM_TimeLimit                               600\n",
      "Tried aggregator 1 time.\n",
      "MIP Presolve eliminated 1858 rows and 31 columns.\n",
      "MIP Presolve modified 1624 coefficients.\n",
      "Reduced MIP has 872 rows, 899 columns, and 4176 nonzeros.\n",
      "Reduced MIP has 870 binaries, 29 generals, 0 SOSs, and 0 indicators.\n",
      "Presolve time = 0.01 sec. (2.98 ticks)\n",
      "Probing time = 0.00 sec. (2.89 ticks)\n",
      "Tried aggregator 1 time.\n",
      "Detecting symmetries...\n",
      "Reduced MIP has 872 rows, 899 columns, and 4176 nonzeros.\n",
      "Reduced MIP has 870 binaries, 29 generals, 0 SOSs, and 0 indicators.\n",
      "Presolve time = 0.02 sec. (3.17 ticks)\n",
      "Probing time = 0.01 sec. (2.89 ticks)\n",
      "Clique table members: 466.\n",
      "MIP emphasis: balance optimality and feasibility.\n",
      "MIP search method: dynamic search.\n",
      "Parallel mode: deterministic, using up to 2 threads.\n",
      "Root relaxation solution time = 0.00 sec. (1.40 ticks)\n",
      "\n",
      "        Nodes                                         Cuts/\n",
      "   Node  Left     Objective  IInf  Best Integer    Best Bound    ItCnt     Gap\n",
      "\n",
      "*     0+    0                        86255.7609        0.0000           100.00%\n",
      "      0     0    18184.3571    62    86255.7609    18184.3571       51   78.92%\n",
      "      0     0    20769.9760    72    86255.7609     Cuts: 107       98   75.92%\n",
      "      0     0    20848.4887    65    86255.7609      Cuts: 44      135   75.83%\n",
      "      0     0    20848.4887    66    86255.7609      Cuts: 33      147   75.83%\n",
      "      0     0    20848.4887    62    86255.7609      Cuts: 11      156   75.83%\n",
      "      0     0    20848.4887    63    86255.7609       Cuts: 5      161   75.83%\n",
      "Detecting symmetries...\n",
      "*     0+    0                        41843.4590    20848.4887            50.18%\n",
      "Detecting symmetries...\n",
      "      0     2    20848.4887    63    41843.4590    20848.4887      161   50.18%\n",
      "Elapsed time = 0.17 sec. (91.59 ticks, tree = 0.02 MB, solutions = 2)\n",
      "*   115    98      integral     0    30990.5542    20866.1278     1075   32.67%\n",
      "*   207   151      integral     0    27704.7282    20878.0799     1732   24.64%\n",
      "*   396+  230                        27525.0906    20924.5677            23.98%\n",
      "   1016   698    27066.5600    50    27525.0906    21089.3426     7328   23.38%\n",
      "\n",
      "Performing restart 1\n",
      "\n",
      "Repeating presolve.\n",
      "Tried aggregator 1 time.\n",
      "MIP Presolve eliminated 25 rows and 25 columns.\n",
      "Reduced MIP has 847 rows, 874 columns, and 4051 nonzeros.\n",
      "Reduced MIP has 845 binaries, 29 generals, 0 SOSs, and 0 indicators.\n",
      "Presolve time = 0.02 sec. (2.42 ticks)\n",
      "Tried aggregator 1 time.\n",
      "Reduced MIP has 847 rows, 874 columns, and 4051 nonzeros.\n",
      "Reduced MIP has 845 binaries, 29 generals, 0 SOSs, and 0 indicators.\n",
      "Presolve time = 0.00 sec. (3.07 ticks)\n",
      "Represolve time = 0.03 sec. (13.46 ticks)\n",
      "   1727     0    20872.9962    71    27525.0906      Cuts: 91    12913   22.89%\n",
      "   1727     0    21156.8761    59    27525.0906      Cuts: 67    12936   22.89%\n",
      "   1727     0    21443.4663    78    27525.0906      Cuts: 60    12972   22.09%\n",
      "   1727     0    21523.2002    78    27525.0906      Cuts: 79    13010   21.81%\n",
      "   1727     0    22085.4586    76    27525.0906     Cuts: 118    13085   19.76%\n",
      "   1727     0    22269.1149    82    27525.0906      Cuts: 85    13148   19.10%\n",
      "   1727     0    22338.1825    83    27525.0906      Cuts: 63    13216   18.84%\n",
      "   1727     0    22375.1080    76    27525.0906      Cuts: 73    13262   18.71%\n",
      "   1727     0    22396.8759    77    27525.0906      Cuts: 76    13321   18.63%\n",
      "   1727     0    22409.7481    91    27525.0906      Cuts: 61    13356   18.58%\n",
      "   1727     0    22411.2677   101    27525.0906      Cuts: 60    13379   18.58%\n",
      "   1727     0    22411.2677   100    27525.0906      Cuts: 99    13392   18.58%\n",
      "   1727     0    22411.2677   102    27525.0906       Cuts: 4    13395   18.58%\n",
      "   1727     0    22473.7395    58    27525.0906      Cuts: 95    13436   18.35%\n",
      "   1727     0    22497.5206    81    27525.0906     Cuts: 137    13462   18.27%\n",
      "   1727     0    22497.5206    86    27525.0906     Cuts: 119    13491   18.27%\n",
      "*  1727+    0                        26886.2247    22497.5206            16.32%\n",
      "   1727     0  -1.00000e+75     0    26886.2247    22497.5206    13491   16.32%\n",
      "   1727     2    22497.5206    55    26886.2247    22497.5206    13491   16.32%\n",
      "*  1757+    1                        26433.7043    22503.0493            14.87%\n",
      "   1784    36    24247.2803    71    26433.7043    22680.9851    13939   14.20%\n",
      "   1969   123    23426.1317    82    26433.7043    22822.8413    14982   13.66%\n",
      "   2371   358    23696.3237    51    26433.7043    23190.0138    17501   12.27%\n",
      "*  2747   563      integral     0    26125.4611    23552.9923    19690    9.85%\n",
      "   2754   537    23638.5550    48    26125.4611    23566.6511    20050    9.79%\n",
      "*  2896+  604                        25727.2791    23691.6013             7.91%\n",
      "   3056   659    24138.6617    47    25727.2791    23753.7274    22301    7.67%\n",
      "   3377   839    24561.2093     8    25727.2791    23854.2906    24214    7.28%\n",
      "*  4178  1431      integral     0    25548.0618    23971.8510    29292    6.17%\n",
      "   4816  1817    24162.5034     6    25548.0618    24008.8170    32499    6.02%\n",
      "Elapsed time = 7.95 sec. (5382.04 ticks, tree = 1.11 MB, solutions = 11)\n",
      "   5583  2360    24353.0992     6    25548.0618    24043.6089    37463    5.89%\n",
      "*  5665+ 2409                        25439.7079    24047.1429             5.47%\n",
      "   6884  3074    24158.5980    49    25439.7079    24083.3526    45243    5.33%\n",
      "   7733  3670    24160.5979     4    25439.7079    24110.5975    50265    5.22%\n",
      "   8915  4372    24147.5762    21    25439.7079    24129.6099    57425    5.15%\n",
      "   9782  4929    24171.8419    20    25439.7079    24149.6727    63505    5.07%\n",
      "  11113  5558    24204.8710    64    25439.7079    24164.2140    69892    5.01%\n",
      "  12993  6750    25222.2949    59    25439.7079    24190.5068    82340    4.91%\n",
      "  14145  7458    24239.2765    13    25439.7079    24208.6945    91318    4.84%\n",
      "  14917  7839    24277.2597    21    25439.7079    24221.1267    96425    4.79%\n",
      "* 16076+ 8342                        25354.1056    24231.3268             4.43%\n",
      "  16091  8255    24332.5319    51    25354.1056    24233.7264   105134    4.42%\n",
      "Elapsed time = 22.73 sec. (14970.26 ticks, tree = 5.12 MB, solutions = 13)\n",
      "  17515  8881    24384.5179     8    25354.1056    24246.4961   113304    4.37%\n",
      "  18280  9071    25028.2551    53    25354.1056    24248.9876   117121    4.36%\n",
      "\n",
      "Performing restart 2\n",
      "\n",
      "Repeating presolve.\n",
      "Tried aggregator 1 time.\n",
      "MIP Presolve eliminated 3 rows and 234 columns.\n",
      "MIP Presolve modified 5757 coefficients.\n",
      "Reduced MIP has 844 rows, 640 columns, and 6610 nonzeros.\n",
      "Reduced MIP has 611 binaries, 29 generals, 0 SOSs, and 0 indicators.\n",
      "Presolve time = 0.02 sec. (7.21 ticks)\n",
      "Tried aggregator 1 time.\n",
      "MIP Presolve eliminated 125 rows and 0 columns.\n",
      "MIP Presolve modified 676 coefficients.\n",
      "Reduced MIP has 719 rows, 640 columns, and 5945 nonzeros.\n",
      "Reduced MIP has 611 binaries, 29 generals, 0 SOSs, and 0 indicators.\n",
      "Presolve time = 0.02 sec. (5.91 ticks)\n",
      "Represolve time = 0.11 sec. (41.85 ticks)\n",
      "  18666     0    22657.9139    51    25354.1056      Cuts: 51   123297    4.34%\n",
      "  18666     0    22673.2196    80    25354.1056      Cuts: 61   123331    4.34%\n",
      "  18666     0    22788.0292    78    25354.1056      Cuts: 56   123352    4.34%\n",
      "  18666     0    22824.8366    94    25354.1056      Cuts: 30   123375    4.34%\n",
      "  18666     0    22824.8366    92    25354.1056      Cuts: 55   123393    4.34%\n",
      "  18666     0    22871.7295    82    25354.1056      Cuts: 57   123415    4.34%\n",
      "  18666     0    23213.4548    63    25354.1056      Cuts: 87   123461    4.34%\n",
      "  18666     0    23257.6162    59    25354.1056      Cuts: 68   123491    4.34%\n",
      "  18666     0    23257.6162    59    25354.1056      Cuts: 25   123502    4.34%\n",
      "\n",
      "Repeating presolve.\n",
      "Tried aggregator 1 time.\n",
      "MIP Presolve eliminated 0 rows and 89 columns.\n",
      "MIP Presolve modified 8539 coefficients.\n",
      "Reduced MIP has 719 rows, 551 columns, and 5529 nonzeros.\n",
      "Reduced MIP has 522 binaries, 29 generals, 0 SOSs, and 0 indicators.\n",
      "Presolve time = 0.02 sec. (6.84 ticks)\n",
      "Tried aggregator 1 time.\n",
      "MIP Presolve eliminated 1 rows and 0 columns.\n",
      "MIP Presolve modified 282 coefficients.\n",
      "Reduced MIP has 718 rows, 551 columns, and 5481 nonzeros.\n",
      "Reduced MIP has 522 binaries, 29 generals, 0 SOSs, and 0 indicators.\n",
      "Presolve time = 0.02 sec. (5.07 ticks)\n",
      "Represolve time = 0.08 sec. (34.32 ticks)\n",
      "  18666     0    23257.6265    57    25354.1056      Cuts: 57   123656    4.34%\n",
      "  18666     0    23260.7271    77    25354.1056      Cuts: 19   123674    4.34%\n",
      "  18666     0    23277.3148    91    25354.1056      Cuts: 36   123689    4.34%\n",
      "  18666     0    23355.3645    79    25354.1056      Cuts: 73   123721    4.34%\n",
      "  18666     0    23366.4106    84    25354.1056     Cuts: 169   123763    4.34%\n",
      "  18666     0    23366.4106    58    25354.1056      Cuts: 43   123773    4.34%\n",
      "  18666     0    23366.4106    74    25354.1056      Cuts: 33   123790    4.34%\n",
      "  18666     0    23366.4106    59    25354.1056       Cuts: 8   123795    4.34%\n",
      "  18666     0    23374.2175    61    25354.1056      Cuts: 24   123815    4.34%\n",
      "  18666     0    23374.2175    86    25354.1056      Cuts: 77   123841    4.34%\n",
      "  18666     2    23374.2175    50    25354.1056    24253.7705   123841    4.34%\n",
      "  19337   373    24716.3291     8    25354.1056    24253.7705   128717    4.34%\n",
      "  21211  1566    24141.1135    61    25354.1056    24253.7705   139176    4.34%\n",
      "  24098  3600    24275.6905    64    25354.1056    24253.7705   157472    4.34%\n",
      "  26937  5192    24503.7181    52    25354.1056    24253.7705   175804    4.34%\n",
      "  29910  6802    24912.3807    26    25354.1056    24253.7705   198170    4.34%\n",
      "  32933  8236    24262.9281    12    25354.1056    24253.7705   220217    4.34%\n",
      "  35486  9250        cutoff          25354.1056    24271.2855   239536    4.27%\n",
      "Elapsed time = 39.95 sec. (26998.74 ticks, tree = 4.88 MB, solutions = 13)\n",
      "  37805 10299    24457.6983    47    25354.1056    24300.5993   259824    4.16%\n",
      "  40083 11069    24643.8539    67    25354.1056    24324.9809   278180    4.06%\n",
      "  42248 11816        cutoff          25354.1056    24348.8829   296599    3.96%\n",
      "  44333 12447    24939.3231     9    25354.1056    24371.1194   314405    3.88%\n",
      "  46409 12806        cutoff          25354.1056    24389.5985   329312    3.80%\n",
      "  48291 13454        cutoff          25354.1056    24411.7802   347975    3.72%\n",
      "  50262 13820    24857.5925    45    25354.1056    24429.9766   364304    3.64%\n",
      "  52145 14320    24788.1622    67    25354.1056    24449.4690   381131    3.57%\n",
      "  54104 14843    24870.2032    23    25354.1056    24466.0800   397936    3.50%\n",
      "  55970 15377    infeasible          25354.1056    24481.3599   414866    3.44%\n",
      "Elapsed time = 50.11 sec. (36541.67 ticks, tree = 7.99 MB, solutions = 13)\n",
      "  57789 15850    25135.1867    18    25354.1056    24495.9749   430032    3.38%\n",
      "  59563 16212    24716.4412    53    25354.1056    24509.3398   445214    3.33%\n",
      "  61304 16752    24662.9044    19    25354.1056    24522.6748   459968    3.28%\n",
      "  63189 17327        cutoff          25354.1056    24535.4543   476355    3.23%\n",
      "  64952 17776    25012.5890    42    25354.1056    24547.0366   492161    3.18%\n",
      "  66687 18205    25146.9209    17    25354.1056    24558.3473   507221    3.14%\n",
      "  68459 18747    25199.6096    31    25354.1056    24569.7174   522009    3.09%\n",
      "  70344 19329    24658.9257    12    25354.1056    24579.8302   537854    3.05%\n",
      "  72170 19939        cutoff          25354.1056    24591.2035   551197    3.01%\n",
      "  73982 20533        cutoff          25354.1056    24599.6360   567442    2.98%\n",
      "Elapsed time = 61.17 sec. (46082.14 ticks, tree = 11.47 MB, solutions = 13)\n",
      "  75772 21011        cutoff          25354.1056    24611.1614   582099    2.93%\n",
      "  77467 21480    24947.5817    44    25354.1056    24620.2749   596028    2.89%\n",
      "  79220 21950    24735.2350    62    25354.1056    24628.7124   609677    2.86%\n",
      "  80978 22550        cutoff          25354.1056    24638.8115   626667    2.82%\n",
      "  82689 23005    25186.1915    63    25354.1056    24647.3831   640180    2.79%\n",
      "  84259 23392    25210.7407    14    25354.1056    24655.1267   654685    2.76%\n",
      "  85925 23839        cutoff          25354.1056    24662.4177   670329    2.73%\n",
      "  87530 24128    25126.3080    38    25354.1056    24670.7916   684016    2.70%\n",
      "  89051 24443    24731.8794    15    25354.1056    24679.7767   698421    2.66%\n",
      "  90680 24876    25064.1423    27    25354.1056    24686.2273   711370    2.63%\n",
      "Elapsed time = 71.72 sec. (55623.61 ticks, tree = 13.95 MB, solutions = 13)\n",
      "  92433 25288    25068.9881    23    25354.1056    24693.6711   724928    2.60%\n",
      "  94027 25759        cutoff          25354.1056    24700.7682   740285    2.58%\n",
      "  95466 25987    24740.1006    59    25354.1056    24708.0549   754224    2.55%\n",
      "  96971 26165    24870.2209    20    25354.1056    24713.7063   767345    2.53%\n",
      "  98515 26400        cutoff          25354.1056    24719.8467   780775    2.50%\n",
      " 100039 26758    24990.8519    70    25354.1056    24727.6946   795077    2.47%\n",
      " 101452 27028    25024.8259    44    25354.1056    24734.4613   806477    2.44%\n",
      " 102880 27207    24871.5516    60    25354.1056    24740.0160   820324    2.42%\n",
      " 104315 27451        cutoff          25354.1056    24746.3197   834033    2.40%\n",
      " 105765 27628        cutoff          25354.1056    24751.6337   847445    2.38%\n",
      "Elapsed time = 81.48 sec. (65162.98 ticks, tree = 15.68 MB, solutions = 13)\n",
      " 107089 27709        cutoff          25354.1056    24757.3288   858301    2.35%\n",
      " 108405 27758    25065.5273    59    25354.1056    24763.3968   870844    2.33%\n",
      " 109879 27802        cutoff          25354.1056    24769.5115   885458    2.31%\n",
      " 111264 27866    24893.3834    20    25354.1056    24775.9510   897111    2.28%\n",
      " 112618 27926    25103.4892    20    25354.1056    24783.0022   909171    2.25%\n",
      " 113891 28030        cutoff          25354.1056    24788.7917   920674    2.23%\n",
      " 115131 28104    24917.8818    64    25354.1056    24794.6535   933777    2.21%\n",
      " 116466 28180        cutoff          25354.1056    24799.9519   946876    2.19%\n",
      " 117711 28177    24989.8469    16    25354.1056    24804.2863   957610    2.17%\n",
      " 119040 28148    24940.3979    62    25354.1056    24809.6123   971979    2.15%\n",
      "Elapsed time = 91.58 sec. (74703.75 ticks, tree = 16.22 MB, solutions = 13)\n",
      " 120357 28152    25036.4442    69    25354.1056    24816.0527   984834    2.12%\n",
      " 121636 28139    25350.2393    51    25354.1056    24820.1382   995877    2.11%\n",
      " 122903 28118        cutoff          25354.1056    24825.1928  1007323    2.09%\n",
      " 124264 27990    25313.5232    24    25354.1056    24830.5725  1022576    2.06%\n",
      " 125514 27891    25314.9513    18    25354.1056    24835.9003  1033169    2.04%\n",
      " 126818 27780        cutoff          25354.1056    24842.3112  1047469    2.02%\n",
      " 128106 27675    24957.9861    55    25354.1056    24847.2575  1059521    2.00%\n",
      " 129489 27513    25186.2691    10    25354.1056    24852.7586  1072070    1.98%\n",
      " 130883 27373    25339.7318    16    25354.1056    24858.9654  1085940    1.95%\n",
      " 132292 27272    25193.5552    12    25354.1056    24865.3330  1097051    1.93%\n",
      "Elapsed time = 101.33 sec. (84242.94 ticks, tree = 15.99 MB, solutions = 13)\n",
      " 133738 27025    25116.8292    62    25354.1056    24870.7421  1110104    1.91%\n",
      " 135045 26796        cutoff          25354.1056    24878.3963  1125410    1.88%\n",
      " 136450 26489        cutoff          25354.1056    24885.0629  1137739    1.85%\n",
      " 137856 26337    25133.0590    15    25354.1056    24890.3248  1149018    1.83%\n",
      " 139304 26115        cutoff          25354.1056    24897.1040  1161936    1.80%\n",
      " 140741 25900    25023.6615    13    25354.1056    24903.4415  1174762    1.78%\n",
      " 142071 25654        cutoff          25354.1056    24911.0481  1188638    1.75%\n",
      " 143478 25303    25307.2116    12    25354.1056    24917.4210  1203341    1.72%\n",
      " 144908 24913        cutoff          25354.1056    24923.6499  1217115    1.70%\n",
      " 150719 23301    25120.0767    19    25354.1056    24954.2565  1268278    1.58%\n",
      "Elapsed time = 112.84 sec. (96645.73 ticks, tree = 14.08 MB, solutions = 13)\n",
      " 156750 21295        cutoff          25354.1056    24985.7156  1322378    1.45%\n",
      " 162896 19103    25351.1704    67    25354.1056    25020.5953  1373372    1.32%\n",
      " 169005 16298    25310.7873    23    25354.1056    25058.8924  1426304    1.16%\n",
      " 175269 13416        cutoff          25354.1056    25100.9215  1474407    1.00%\n",
      " 181772  9768        cutoff          25354.1056    25149.2082  1524013    0.81%\n",
      " 188383  5311        cutoff          25354.1056    25228.6641  1569295    0.49%\n",
      "\n",
      "GUB cover cuts applied:  12\n",
      "Clique cuts applied:  8\n",
      "Cover cuts applied:  433\n",
      "Implied bound cuts applied:  16\n",
      "Mixed integer rounding cuts applied:  316\n",
      "Zero-half cuts applied:  52\n",
      "Multi commodity flow cuts applied:  1\n",
      "Lift and project cuts applied:  20\n",
      "Gomory fractional cuts applied:  18\n",
      "\n",
      "Root node processing (before b&c):\n",
      "  Real time             =    0.19 sec. (91.37 ticks)\n",
      "Parallel b&c, 2 threads:\n",
      "  Real time             =  137.55 sec. (122367.47 ticks)\n",
      "  Sync time (average)   =    2.28 sec.\n",
      "  Wait time (average)   =    0.04 sec.\n",
      "                          ------------\n",
      "Total (root+branch&cut) =  137.73 sec. (122458.84 ticks)\n",
      "* model TSP solved with objective = 25354.106\n"
     ]
    }
   ],
   "source": [
    "# 問題を解く\n",
    "# ログ出力をONにして、詳細情報も表示します\n",
    "\n",
    "mdl.solve(log_output = True)\n",
    "mdl.report()"
   ]
  },
  {
   "cell_type": "code",
   "execution_count": 20,
   "metadata": {},
   "outputs": [
    {
     "name": "stdout",
     "output_type": "stream",
     "text": [
      "status  = integer optimal, tolerance\n",
      "time    = 137.75 s.\n",
      "problem = MILP\n",
      "gap     = 0.00996078%\n",
      "\n"
     ]
    }
   ],
   "source": [
    "# 詳細情報の表示\n",
    "\n",
    "print(mdl.get_solve_details())"
   ]
  },
  {
   "cell_type": "code",
   "execution_count": 21,
   "metadata": {},
   "outputs": [],
   "source": [
    "# 結果の取得\n",
    "\n",
    "indexes = [u[i].solution_value for i in range(N)]\n",
    "matrix = [[x[i, j].solution_value for j in range(N)] for i in range(N)]\n",
    "ar = np.array(matrix)"
   ]
  },
  {
   "cell_type": "code",
   "execution_count": 22,
   "metadata": {},
   "outputs": [
    {
     "data": {
      "image/png": "[encoded data removed]",
      "text/plain": [
       "<Figure size 600x600 with 1 Axes>"
      ]
     },
     "metadata": {},
     "output_type": "display_data"
    }
   ],
   "source": [
    "# オリジナル散布図の再表示\n",
    "\n",
    "plt.figure(figsize=(6,6))\n",
    "plt.scatter(data_np[:,0], data_np[:,1])\n",
    "plt.grid()\n",
    "plt.show()"
   ]
  },
  {
   "cell_type": "code",
   "execution_count": 23,
   "metadata": {},
   "outputs": [
    {
     "data": {
      "image/png": "[encoded data removed]",
      "text/plain": [
       "<Figure size 600x600 with 1 Axes>"
      ]
     },
     "metadata": {},
     "output_type": "display_data"
    }
   ],
   "source": [
    "# 結果の散布図上での表示\n",
    "\n",
    "data_np = np.array(data)\n",
    "plt.figure(figsize=(6,6))\n",
    "plt.scatter(data_np[:,0], data_np[:,1])\n",
    "for i in range(N):\n",
    "    for j in range(N):\n",
    "        if ar[i, j] == 1:\n",
    "            plt.plot(data_np[[i,j],0], data_np[[i,j],1], c='b')\n",
    "plt.grid()            \n",
    "plt.show()"
   ]
  }
 ],
 "metadata": {
  "kernelspec": {
   "display_name": "base",
   "language": "python",
   "name": "python3"
  },
  "language_info": {
   "codemirror_mode": {
    "name": "ipython",
    "version": 3
   },
   "file_extension": ".py",
   "mimetype": "text/x-python",
   "name": "python",
   "nbconvert_exporter": "python",
   "pygments_lexer": "ipython3",
   "version": "3.8.20"
  }
 },
 "nbformat": 4,
 "nbformat_minor": 1
}
