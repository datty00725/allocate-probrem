{
 "cells": [
  {
   "cell_type": "code",
   "execution_count": 8,
   "id": "83400365",
   "metadata": {},
   "outputs": [],
   "source": [
    "import numpy as np\n",
    "from scflp_v2 import SCFLPData, SCFLPSolver, make_random_instance"
   ]
  },
  {
   "cell_type": "code",
   "execution_count": 9,
   "id": "40332215",
   "metadata": {},
   "outputs": [],
   "source": [
    "I = 10\n",
    "J = 10\n",
    "p = 2\n",
    "r = 2\n",
    "beta = 0.1"
   ]
  },
  {
   "cell_type": "code",
   "execution_count": 10,
   "id": "4fb8c622",
   "metadata": {},
   "outputs": [
    {
     "name": "stdout",
     "output_type": "stream",
     "text": [
      "════════════════════════════════════════════════════════════════════════════════\n",
      "🚀 S-CFLP を解きます（DCG + Bulge/Submodular カット）\n",
      "════════════════════════════════════════════════════════════════════════════════\n",
      "➤ 候補地 J = 10, 需要点 I = 10, p = 2, r = 2\n",
      "────────────────────────────────────────────────────────────────────────────────\n",
      "➤ 🧮 ラウンド 1: master 解 → \\hat(θ) = 1.000000, |x| = 2/2（整数）\n",
      "➤ 🔎 分離：ŷ は [2, 5]（r = 2）。上界 α − βᵀŷ = 0.627717\n",
      "➤ 📐 評価：L(x̂,ŷ) = 0.535347 → 違反量 \\hat(θ) - L = 4.647e-01\n",
      "✂️  カット追加: BULGE + SUBMOD\n",
      "────────────────────────────────────────────────────────────────────────────────\n",
      "➤ 🧮 ラウンド 2: master 解 → \\hat(θ) = 1.000000, |x| = 2/2（整数）\n",
      "➤ 🔎 分離：ŷ は [1, 9]（r = 2）。上界 α − βᵀŷ = 0.688570\n",
      "➤ 📐 評価：L(x̂,ŷ) = 0.551677 → 違反量 \\hat(θ) - L = 4.483e-01\n",
      "✂️  カット追加: BULGE + SUBMOD\n",
      "────────────────────────────────────────────────────────────────────────────────\n",
      "➤ 🧮 ラウンド 3: master 解 → \\hat(θ) = 0.780582, |x| = 2/2（整数）\n",
      "➤ 🔎 分離：ŷ は [0, 2]（r = 2）。上界 α − βᵀŷ = 0.675629\n",
      "➤ 📐 評価：L(x̂,ŷ) = 0.527700 → 違反量 \\hat(θ) - L = 2.529e-01\n",
      "✂️  カット追加: BULGE + SUBMOD\n",
      "────────────────────────────────────────────────────────────────────────────────\n",
      "➤ 🧮 ラウンド 4: master 解 → \\hat(θ) = 0.747118, |x| = 2/2（整数）\n",
      "➤ 🔎 分離：ŷ は [0, 5]（r = 2）。上界 α − βᵀŷ = 0.664013\n",
      "➤ 📐 評価：L(x̂,ŷ) = 0.501883 → 違反量 \\hat(θ) - L = 2.452e-01\n",
      "✂️  カット追加: BULGE + SUBMOD\n",
      "────────────────────────────────────────────────────────────────────────────────\n",
      "➤ 🧮 ラウンド 5: master 解 → \\hat(θ) = 0.629156, |x| = 2/2（整数）\n",
      "➤ 🔎 分離：ŷ は [1, 2]（r = 2）。上界 α − βᵀŷ = 0.663179\n",
      "➤ 📐 評価：L(x̂,ŷ) = 0.496574 → 違反量 \\hat(θ) - L = 1.326e-01\n",
      "✂️  カット追加: BULGE + SUBMOD\n",
      "────────────────────────────────────────────────────────────────────────────────\n",
      "➤ 🧮 ラウンド 6: master 解 → \\hat(θ) = 0.621683, |x| = 2/2（整数）\n",
      "➤ 🔎 分離：ŷ は [1, 5]（r = 2）。上界 α − βᵀŷ = 0.646155\n",
      "➤ 📐 評価：L(x̂,ŷ) = 0.477335 → 違反量 \\hat(θ) - L = 1.443e-01\n",
      "✂️  カット追加: BULGE + SUBMOD\n",
      "────────────────────────────────────────────────────────────────────────────────\n",
      "➤ 🧮 ラウンド 7: master 解 → \\hat(θ) = 0.558318, |x| = 2/2（整数）\n",
      "➤ 🔎 分離：ŷ は [2, 5]（r = 2）。上界 α − βᵀŷ = 0.590954\n",
      "➤ 📐 評価：L(x̂,ŷ) = 0.502223 → 違反量 \\hat(θ) - L = 5.609e-02\n",
      "✂️  カット追加: BULGE + SUBMOD\n",
      "────────────────────────────────────────────────────────────────────────────────\n",
      "➤ 🧮 ラウンド 8: master 解 → \\hat(θ) = 0.551677, |x| = 2/2（整数）\n",
      "➤ 🔎 分離：ŷ は [1, 9]（r = 2）。上界 α − βᵀŷ = 0.688570\n",
      "➤ 📐 評価：L(x̂,ŷ) = 0.551677 → 違反量 \\hat(θ) - L = 5.148e-10\n",
      "✅ 違反なし。現在の Y-closure に対して最適です。\n",
      "🏁 求解完了（経過 1.48s）\n",
      "════════════════════════════════════════════════════════════════════════════════\n",
      "➤ ✨ 目的値 θ = 0.551677 / 選択サイト [2, 5]\n",
      "➤ 🧷 反復 8 回・追加カット 14 本・合計時間 1.48s\n"
     ]
    }
   ],
   "source": [
    "seed = np.random.SeedSequence()\n",
    "# 1) Build a toy instance (no pre-existing facilities)\n",
    "data = make_random_instance(I=I, J=J, p=p, r=r, beta=beta, seed=seed)\n",
    "\n",
    "# 2) Solve (PuLP/CBC by default). If you have Gurobi, use milp_backend='gurobi'\n",
    "solver = SCFLPSolver(data, milp_backend=\"pulp\", pulp_solver=\"CBC\")\n",
    "result = solver.solve(max_rounds=2000, verbose=True)"
   ]
  },
  {
   "cell_type": "code",
   "execution_count": 11,
   "id": "ece74c16",
   "metadata": {},
   "outputs": [
    {
     "name": "stdout",
     "output_type": "stream",
     "text": [
      "\n",
      "=== RESULT ===\n",
      "Objective (leader market share): 0.55167672\n",
      "Selected sites (indices where x=1): [2, 5]\n",
      "theta: 0.55167672 sum x: 2.0 iterations: 8 cuts: 14\n"
     ]
    }
   ],
   "source": [
    "print(\"\\n=== RESULT ===\")\n",
    "x = result[\"x\"]\n",
    "print(\"Objective (leader market share):\", result[\"obj\"])\n",
    "print(\"Selected sites (indices where x=1):\", np.where(x > 0.5)[0].tolist())\n",
    "print(\n",
    "    \"theta:\",\n",
    "    result[\"theta\"],\n",
    "    \"sum x:\",\n",
    "    x.sum(),\n",
    "    \"iterations:\",\n",
    "    result[\"iterations\"],\n",
    "    \"cuts:\",\n",
    "    result[\"cuts\"],\n",
    ")\n"
   ]
  }
 ],
 "metadata": {
  "kernelspec": {
   "display_name": "base",
   "language": "python",
   "name": "python3"
  },
  "language_info": {
   "codemirror_mode": {
    "name": "ipython",
    "version": 3
   },
   "file_extension": ".py",
   "mimetype": "text/x-python",
   "name": "python",
   "nbconvert_exporter": "python",
   "pygments_lexer": "ipython3",
   "version": "3.11.7"
  }
 },
 "nbformat": 4,
 "nbformat_minor": 5
}
